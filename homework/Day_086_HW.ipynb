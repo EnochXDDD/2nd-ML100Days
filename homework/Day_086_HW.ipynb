{
 "cells": [
  {
   "cell_type": "markdown",
   "metadata": {},
   "source": [
    "## Work\n",
    "1. 試比較 save_best_only 與否的差異\n",
    "2. 請僅存入將 save_weights_only 設定為 True, 並嘗試 reset ipynb 並將模型與權重重新建回並預測 x_test"
   ]
  },
  {
   "cell_type": "code",
   "execution_count": 1,
   "metadata": {},
   "outputs": [
    {
     "name": "stderr",
     "output_type": "stream",
     "text": [
      "Using TensorFlow backend.\n"
     ]
    }
   ],
   "source": [
    "import os\n",
    "import numpy as np\n",
    "import tensorflow as tf\n",
    "import keras\n",
    "tf.logging.set_verbosity(tf.logging.ERROR)\n",
    "os.environ[\"CUDA_VISIBLE_DEVICES\"] = \"0\""
   ]
  },
  {
   "cell_type": "code",
   "execution_count": 2,
   "metadata": {},
   "outputs": [],
   "source": [
    "train, test = keras.datasets.cifar10.load_data()"
   ]
  },
  {
   "cell_type": "code",
   "execution_count": 3,
   "metadata": {},
   "outputs": [],
   "source": [
    "## 資料前處理\n",
    "def preproc_x(x, flatten=True):\n",
    "    x = x / 255.\n",
    "    if flatten:\n",
    "        x = x.reshape((len(x), -1))\n",
    "    return x\n",
    "\n",
    "def preproc_y(y, num_classes=10):\n",
    "    if y.shape[-1] == 1:\n",
    "        y = keras.utils.to_categorical(y, num_classes)\n",
    "    return y    "
   ]
  },
  {
   "cell_type": "code",
   "execution_count": 4,
   "metadata": {},
   "outputs": [],
   "source": [
    "x_train, y_train = train\n",
    "x_test, y_test = test\n",
    "\n",
    "# Preproc the inputs\n",
    "x_train = preproc_x(x_train)\n",
    "x_test = preproc_x(x_test)\n",
    "\n",
    "# Preprc the outputs\n",
    "y_train = preproc_y(y_train)\n",
    "y_test = preproc_y(y_test)"
   ]
  },
  {
   "cell_type": "code",
   "execution_count": 5,
   "metadata": {},
   "outputs": [],
   "source": [
    "from keras.layers import BatchNormalization\n",
    "\n",
    "\"\"\"\n",
    "建立神經網路，並加入 BN layer\n",
    "\"\"\"\n",
    "def build_mlp(input_shape, output_units=10, num_neurons=[512, 256, 128]):\n",
    "    input_layer = keras.layers.Input(input_shape)\n",
    "    \n",
    "    for i, n_units in enumerate(num_neurons):\n",
    "        if i == 0:\n",
    "            x = keras.layers.Dense(units=n_units, \n",
    "                                   activation=\"relu\", \n",
    "                                   name=\"hidden_layer\"+str(i+1))(input_layer)\n",
    "            x = BatchNormalization()(x)\n",
    "        else:\n",
    "            x = keras.layers.Dense(units=n_units, \n",
    "                                   activation=\"relu\", \n",
    "                                   name=\"hidden_layer\"+str(i+1))(x)\n",
    "            x = BatchNormalization()(x)\n",
    "    \n",
    "    out = keras.layers.Dense(units=output_units, activation=\"softmax\", name=\"output\")(x)\n",
    "    \n",
    "    model = keras.models.Model(inputs=[input_layer], outputs=[out])\n",
    "    return model"
   ]
  },
  {
   "cell_type": "code",
   "execution_count": 6,
   "metadata": {},
   "outputs": [],
   "source": [
    "## 超參數設定\n",
    "LEARNING_RATE = 1e-3\n",
    "EPOCHS = 50\n",
    "BATCH_SIZE = 16384\n",
    "MOMENTUM = 0.95"
   ]
  },
  {
   "cell_type": "code",
   "execution_count": 7,
   "metadata": {},
   "outputs": [
    {
     "name": "stdout",
     "output_type": "stream",
     "text": [
      "_________________________________________________________________\n",
      "Layer (type)                 Output Shape              Param #   \n",
      "=================================================================\n",
      "input_1 (InputLayer)         (None, 3072)              0         \n",
      "_________________________________________________________________\n",
      "hidden_layer1 (Dense)        (None, 512)               1573376   \n",
      "_________________________________________________________________\n",
      "batch_normalization_1 (Batch (None, 512)               2048      \n",
      "_________________________________________________________________\n",
      "hidden_layer2 (Dense)        (None, 256)               131328    \n",
      "_________________________________________________________________\n",
      "batch_normalization_2 (Batch (None, 256)               1024      \n",
      "_________________________________________________________________\n",
      "hidden_layer3 (Dense)        (None, 128)               32896     \n",
      "_________________________________________________________________\n",
      "batch_normalization_3 (Batch (None, 128)               512       \n",
      "_________________________________________________________________\n",
      "output (Dense)               (None, 10)                1290      \n",
      "=================================================================\n",
      "Total params: 1,742,474\n",
      "Trainable params: 1,740,682\n",
      "Non-trainable params: 1,792\n",
      "_________________________________________________________________\n",
      "Train on 50000 samples, validate on 10000 samples\n",
      "Epoch 1/50\n",
      "50000/50000 [==============================] - 7s 133us/step - loss: 3.0055 - acc: 0.1092 - val_loss: 2.8602 - val_acc: 0.1437\n",
      "Epoch 2/50\n",
      "50000/50000 [==============================] - 3s 58us/step - loss: 2.7459 - acc: 0.1517 - val_loss: 2.9541 - val_acc: 0.1571\n",
      "Epoch 3/50\n",
      "50000/50000 [==============================] - 3s 54us/step - loss: 2.5145 - acc: 0.2007 - val_loss: 2.8676 - val_acc: 0.1825\n",
      "Epoch 4/50\n",
      "50000/50000 [==============================] - 3s 55us/step - loss: 2.3540 - acc: 0.2369 - val_loss: 2.5640 - val_acc: 0.2278\n",
      "Epoch 5/50\n",
      "50000/50000 [==============================] - 3s 54us/step - loss: 2.2284 - acc: 0.2660 - val_loss: 2.3351 - val_acc: 0.2615\n",
      "Epoch 6/50\n",
      "50000/50000 [==============================] - 3s 53us/step - loss: 2.1281 - acc: 0.2902 - val_loss: 2.2543 - val_acc: 0.2779\n",
      "Epoch 7/50\n",
      "50000/50000 [==============================] - 3s 53us/step - loss: 2.0544 - acc: 0.3084 - val_loss: 2.2047 - val_acc: 0.2918\n",
      "Epoch 8/50\n",
      "50000/50000 [==============================] - 3s 54us/step - loss: 1.9955 - acc: 0.3223 - val_loss: 2.1618 - val_acc: 0.3029\n",
      "Epoch 9/50\n",
      "50000/50000 [==============================] - 3s 53us/step - loss: 1.9484 - acc: 0.3345 - val_loss: 2.1311 - val_acc: 0.3126\n",
      "Epoch 10/50\n",
      "50000/50000 [==============================] - 3s 53us/step - loss: 1.9087 - acc: 0.3454 - val_loss: 2.1126 - val_acc: 0.3152\n",
      "Epoch 11/50\n",
      "50000/50000 [==============================] - 3s 54us/step - loss: 1.8759 - acc: 0.3540 - val_loss: 2.0919 - val_acc: 0.3209\n",
      "Epoch 12/50\n",
      "50000/50000 [==============================] - 3s 55us/step - loss: 1.8468 - acc: 0.3632 - val_loss: 2.0683 - val_acc: 0.3282\n",
      "Epoch 13/50\n",
      "50000/50000 [==============================] - 3s 57us/step - loss: 1.8198 - acc: 0.3713 - val_loss: 2.0519 - val_acc: 0.3329\n",
      "Epoch 14/50\n",
      "50000/50000 [==============================] - 3s 53us/step - loss: 1.7961 - acc: 0.3774 - val_loss: 2.0352 - val_acc: 0.3380\n",
      "Epoch 15/50\n",
      "50000/50000 [==============================] - 3s 53us/step - loss: 1.7750 - acc: 0.3830 - val_loss: 2.0198 - val_acc: 0.3419\n",
      "Epoch 16/50\n",
      "50000/50000 [==============================] - 3s 54us/step - loss: 1.7552 - acc: 0.3882 - val_loss: 2.0010 - val_acc: 0.3464\n",
      "Epoch 17/50\n",
      "50000/50000 [==============================] - 3s 53us/step - loss: 1.7372 - acc: 0.3949 - val_loss: 1.9770 - val_acc: 0.3463\n",
      "Epoch 18/50\n",
      "50000/50000 [==============================] - 3s 53us/step - loss: 1.7217 - acc: 0.3999 - val_loss: 1.9451 - val_acc: 0.3548\n",
      "Epoch 19/50\n",
      "50000/50000 [==============================] - 3s 53us/step - loss: 1.7083 - acc: 0.4044 - val_loss: 1.9049 - val_acc: 0.3656\n",
      "Epoch 20/50\n",
      "50000/50000 [==============================] - 3s 54us/step - loss: 1.6954 - acc: 0.4083 - val_loss: 1.8729 - val_acc: 0.3734\n",
      "Epoch 21/50\n",
      "50000/50000 [==============================] - 3s 54us/step - loss: 1.6830 - acc: 0.4126 - val_loss: 1.8582 - val_acc: 0.3741\n",
      "Epoch 22/50\n",
      "50000/50000 [==============================] - 3s 53us/step - loss: 1.6709 - acc: 0.4170 - val_loss: 1.8476 - val_acc: 0.3748\n",
      "Epoch 23/50\n",
      "50000/50000 [==============================] - 3s 54us/step - loss: 1.6598 - acc: 0.4207 - val_loss: 1.8340 - val_acc: 0.3790\n",
      "Epoch 24/50\n",
      "50000/50000 [==============================] - 3s 53us/step - loss: 1.6493 - acc: 0.4236 - val_loss: 1.8149 - val_acc: 0.3837\n",
      "Epoch 25/50\n",
      "50000/50000 [==============================] - 3s 55us/step - loss: 1.6392 - acc: 0.4272 - val_loss: 1.7953 - val_acc: 0.3890\n",
      "Epoch 26/50\n",
      "50000/50000 [==============================] - 3s 56us/step - loss: 1.6299 - acc: 0.4299 - val_loss: 1.7788 - val_acc: 0.3930\n",
      "Epoch 27/50\n",
      "50000/50000 [==============================] - 3s 54us/step - loss: 1.6210 - acc: 0.4331 - val_loss: 1.7644 - val_acc: 0.3941\n",
      "Epoch 28/50\n",
      "50000/50000 [==============================] - 3s 54us/step - loss: 1.6122 - acc: 0.4360 - val_loss: 1.7521 - val_acc: 0.3982\n",
      "Epoch 29/50\n",
      "50000/50000 [==============================] - 3s 56us/step - loss: 1.6039 - acc: 0.4387 - val_loss: 1.7425 - val_acc: 0.4007\n",
      "Epoch 30/50\n",
      "50000/50000 [==============================] - 3s 54us/step - loss: 1.5957 - acc: 0.4423 - val_loss: 1.7341 - val_acc: 0.4035\n",
      "Epoch 31/50\n",
      "50000/50000 [==============================] - 3s 55us/step - loss: 1.5875 - acc: 0.4453 - val_loss: 1.7262 - val_acc: 0.4030\n",
      "Epoch 32/50\n",
      "50000/50000 [==============================] - 3s 53us/step - loss: 1.5803 - acc: 0.4474 - val_loss: 1.7191 - val_acc: 0.4038\n",
      "Epoch 33/50\n",
      "50000/50000 [==============================] - 3s 57us/step - loss: 1.5735 - acc: 0.4500 - val_loss: 1.7125 - val_acc: 0.4078\n",
      "Epoch 34/50\n",
      "50000/50000 [==============================] - 3s 54us/step - loss: 1.5664 - acc: 0.4526 - val_loss: 1.7034 - val_acc: 0.4106\n",
      "Epoch 35/50\n",
      "50000/50000 [==============================] - 3s 53us/step - loss: 1.5595 - acc: 0.4566 - val_loss: 1.6939 - val_acc: 0.4129\n",
      "Epoch 36/50\n",
      "50000/50000 [==============================] - 3s 53us/step - loss: 1.5527 - acc: 0.4592 - val_loss: 1.6859 - val_acc: 0.4158\n",
      "Epoch 37/50\n",
      "50000/50000 [==============================] - 3s 55us/step - loss: 1.5462 - acc: 0.4612 - val_loss: 1.6772 - val_acc: 0.4175\n",
      "Epoch 38/50\n",
      "50000/50000 [==============================] - 3s 53us/step - loss: 1.5399 - acc: 0.4640 - val_loss: 1.6695 - val_acc: 0.4211\n",
      "Epoch 39/50\n",
      "50000/50000 [==============================] - 3s 56us/step - loss: 1.5337 - acc: 0.4659 - val_loss: 1.6646 - val_acc: 0.4205\n",
      "Epoch 40/50\n",
      "50000/50000 [==============================] - 3s 54us/step - loss: 1.5280 - acc: 0.4681 - val_loss: 1.6617 - val_acc: 0.4247\n",
      "Epoch 41/50\n",
      "50000/50000 [==============================] - 3s 55us/step - loss: 1.5221 - acc: 0.4700 - val_loss: 1.6579 - val_acc: 0.4260\n",
      "Epoch 42/50\n",
      "50000/50000 [==============================] - 3s 54us/step - loss: 1.5163 - acc: 0.4721 - val_loss: 1.6524 - val_acc: 0.4252\n",
      "Epoch 43/50\n",
      "50000/50000 [==============================] - 3s 54us/step - loss: 1.5105 - acc: 0.4745 - val_loss: 1.6481 - val_acc: 0.4258\n",
      "Epoch 44/50\n",
      "50000/50000 [==============================] - 3s 53us/step - loss: 1.5055 - acc: 0.4759 - val_loss: 1.6453 - val_acc: 0.4257\n",
      "Epoch 45/50\n",
      "50000/50000 [==============================] - 3s 54us/step - loss: 1.5000 - acc: 0.4778 - val_loss: 1.6425 - val_acc: 0.4249\n",
      "Epoch 46/50\n",
      "50000/50000 [==============================] - 3s 53us/step - loss: 1.4946 - acc: 0.4792 - val_loss: 1.6380 - val_acc: 0.4279\n",
      "Epoch 47/50\n",
      "50000/50000 [==============================] - 3s 56us/step - loss: 1.4898 - acc: 0.4806 - val_loss: 1.6336 - val_acc: 0.4316\n",
      "Epoch 48/50\n",
      "50000/50000 [==============================] - 3s 55us/step - loss: 1.4841 - acc: 0.4821 - val_loss: 1.6311 - val_acc: 0.4359\n",
      "Epoch 49/50\n",
      "50000/50000 [==============================] - 3s 53us/step - loss: 1.4792 - acc: 0.4836 - val_loss: 1.6280 - val_acc: 0.4352\n",
      "Epoch 50/50\n",
      "50000/50000 [==============================] - 3s 54us/step - loss: 1.4744 - acc: 0.4859 - val_loss: 1.6244 - val_acc: 0.4359\n",
      "10000/10000 [==============================] - 1s 90us/step\n"
     ]
    }
   ],
   "source": [
    "# 載入 Callbacks\n",
    "from keras.callbacks import ModelCheckpoint\n",
    "\n",
    "model_ckpt = ModelCheckpoint(filepath=\"./tmp.h5\", \n",
    "                             monitor=\"val_loss\", \n",
    "                             save_best_only=True,\n",
    "                             save_weights_only=True)\n",
    "\n",
    "results = {}\n",
    "model = build_mlp(input_shape=x_train.shape[1:])\n",
    "model.summary()\n",
    "optimizer = keras.optimizers.SGD(lr=LEARNING_RATE, nesterov=True, momentum=MOMENTUM)\n",
    "model.compile(loss=\"categorical_crossentropy\", metrics=[\"accuracy\"], optimizer=optimizer)\n",
    "\n",
    "model.fit(x_train, y_train, \n",
    "          epochs=EPOCHS, \n",
    "          batch_size=BATCH_SIZE, \n",
    "          validation_data=(x_test, y_test), \n",
    "          shuffle=True,\n",
    "          callbacks=[model_ckpt]\n",
    "         )\n",
    "\n",
    "# Collect results\n",
    "train_loss = model.history.history[\"loss\"]\n",
    "valid_loss = model.history.history[\"val_loss\"]\n",
    "train_acc = model.history.history[\"acc\"]\n",
    "valid_acc = model.history.history[\"val_acc\"]\n",
    "\n",
    "# Load back\n",
    "model.load_weights(\"./tmp.h5\")\n",
    "loss_loadback, acc_loadback = model.evaluate(x_test, y_test)"
   ]
  },
  {
   "cell_type": "code",
   "execution_count": 8,
   "metadata": {
    "scrolled": true
   },
   "outputs": [
    {
     "data": {
      "image/png": "[encoded data removed]",
      "text/plain": [
       "<Figure size 432x288 with 1 Axes>"
      ]
     },
     "metadata": {
      "needs_background": "light"
     },
     "output_type": "display_data"
    },
    {
     "data": {
      "image/png": "[encoded data removed]",
      "text/plain": [
       "<Figure size 432x288 with 1 Axes>"
      ]
     },
     "metadata": {
      "needs_background": "light"
     },
     "output_type": "display_data"
    }
   ],
   "source": [
    "import matplotlib.pyplot as plt\n",
    "%matplotlib inline\n",
    "\n",
    "plt.plot(range(len(train_loss)), train_loss, label=\"train loss\")\n",
    "plt.plot(range(len(valid_loss)), valid_loss, label=\"valid loss\")\n",
    "plt.hlines(y=loss_loadback, xmin=0, xmax=len(train_loss), colors='r', linestyles='--')\n",
    "plt.legend()\n",
    "plt.title(\"Loss\")\n",
    "plt.show()\n",
    "\n",
    "plt.plot(range(len(train_acc)), train_acc, label=\"train accuracy\")\n",
    "plt.plot(range(len(valid_acc)), valid_acc, label=\"valid accuracy\")\n",
    "plt.hlines(y=acc_loadback, xmin=0, xmax=len(train_loss), colors='r', linestyles='--')\n",
    "plt.legend()\n",
    "plt.title(\"Accuracy\")\n",
    "plt.show()"
   ]
  }
 ],
 "metadata": {
  "kernelspec": {
   "display_name": "Python 3",
   "language": "python",
   "name": "python3"
  },
  "language_info": {
   "codemirror_mode": {
    "name": "ipython",
    "version": 3
   },
   "file_extension": ".py",
   "mimetype": "text/x-python",
   "name": "python",
   "nbconvert_exporter": "python",
   "pygments_lexer": "ipython3",
   "version": "3.7.3"
  }
 },
 "nbformat": 4,
 "nbformat_minor": 2
}
