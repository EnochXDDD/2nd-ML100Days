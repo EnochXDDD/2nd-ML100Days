{
 "cells": [
  {
   "cell_type": "markdown",
   "metadata": {},
   "source": [
    "## 範例重點\n",
    "* 學會從 Keras 內建函式取得資料\n",
    "* 能夠建立簡易的深度學習模型\n",
    "* 觀察並了解 Overfit 現象"
   ]
  },
  {
   "cell_type": "code",
   "execution_count": 1,
   "metadata": {},
   "outputs": [
    {
     "name": "stderr",
     "output_type": "stream",
     "text": [
      "Using TensorFlow backend.\n"
     ]
    }
   ],
   "source": [
    "import os\n",
    "import keras\n",
    "\n",
    "# 本範例不需使用 GPU, 將 GPU 設定為 \"無\"\n",
    "os.environ[\"CUDA_VISIBLE_DEVICES\"] = \"\""
   ]
  },
  {
   "cell_type": "code",
   "execution_count": 2,
   "metadata": {},
   "outputs": [],
   "source": [
    "# 從 Keras 的內建功能中，取得 train 與 test 資料集\n",
    "train, test = keras.datasets.cifar10.load_data()"
   ]
  },
  {
   "cell_type": "code",
   "execution_count": 3,
   "metadata": {},
   "outputs": [],
   "source": [
    "# 將 X 與 Y 獨立放進變數\n",
    "x_train, y_train = train\n",
    "x_test, y_test = test\n",
    "# 資料前處理 - 標準化\n",
    "x_train = x_train / 255.\n",
    "x_test = x_test / 255.\n",
    "\n",
    "# 將資料從圖形 (RGB) 轉為向量 (Single Vector)\n",
    "x_train = x_train.reshape((len(x_train), -1))\n",
    "x_test = x_test.reshape((len(x_test), -1))\n",
    "\n",
    "# 將目標轉為 one-hot encoding\n",
    "y_train = keras.utils.to_categorical(y_train, num_classes=10)\n",
    "y_test = keras.utils.to_categorical(y_test, num_classes=10)"
   ]
  },
  {
   "cell_type": "code",
   "execution_count": 4,
   "metadata": {},
   "outputs": [],
   "source": [
    "# 建立一個有三層隱藏層之神經網路\n",
    "def build_mlp():\n",
    "    input_layer = keras.layers.Input([x_train.shape[-1]])\n",
    "    x = keras.layers.Dense(units=512, activation=\"relu\")(input_layer)\n",
    "    x = keras.layers.Dense(units=256, activation=\"relu\")(x)\n",
    "    x = keras.layers.Dense(units=128, activation=\"relu\")(x)\n",
    "    out = keras.layers.Dense(units=10, activation=\"softmax\")(x)\n",
    "    \n",
    "    model = keras.models.Model(inputs=[input_layer], outputs=[out])\n",
    "    return model"
   ]
  },
  {
   "cell_type": "code",
   "execution_count": 5,
   "metadata": {},
   "outputs": [
    {
     "name": "stdout",
     "output_type": "stream",
     "text": [
      "WARNING:tensorflow:From C:\\Users\\Enoch\\Miniconda3\\envs\\QGPU\\lib\\site-packages\\tensorflow\\python\\framework\\op_def_library.py:263: colocate_with (from tensorflow.python.framework.ops) is deprecated and will be removed in a future version.\n",
      "Instructions for updating:\n",
      "Colocations handled automatically by placer.\n",
      "_________________________________________________________________\n",
      "Layer (type)                 Output Shape              Param #   \n",
      "=================================================================\n",
      "input_1 (InputLayer)         (None, 3072)              0         \n",
      "_________________________________________________________________\n",
      "dense_1 (Dense)              (None, 512)               1573376   \n",
      "_________________________________________________________________\n",
      "dense_2 (Dense)              (None, 256)               131328    \n",
      "_________________________________________________________________\n",
      "dense_3 (Dense)              (None, 128)               32896     \n",
      "_________________________________________________________________\n",
      "dense_4 (Dense)              (None, 10)                1290      \n",
      "=================================================================\n",
      "Total params: 1,738,890\n",
      "Trainable params: 1,738,890\n",
      "Non-trainable params: 0\n",
      "_________________________________________________________________\n"
     ]
    }
   ],
   "source": [
    "model = build_mlp()\n",
    "# 用 Keras 內建方法檢視模型各層參數量\n",
    "model.summary()\n",
    "\n",
    "optimizer = keras.optimizers.Adam(lr=0.001)\n",
    "model.compile(loss=\"categorical_crossentropy\", metrics=[\"accuracy\"], optimizer=optimizer)"
   ]
  },
  {
   "cell_type": "code",
   "execution_count": 8,
   "metadata": {},
   "outputs": [
    {
     "name": "stdout",
     "output_type": "stream",
     "text": [
      "Train on 50000 samples, validate on 10000 samples\n",
      "Epoch 1/100\n",
      "50000/50000 [==============================] - 6s 118us/step - loss: 0.3158 - acc: 0.8870 - val_loss: 3.0721 - val_acc: 0.4988\n",
      "Epoch 2/100\n",
      "50000/50000 [==============================] - 6s 111us/step - loss: 0.3053 - acc: 0.8907 - val_loss: 2.9818 - val_acc: 0.5025\n",
      "Epoch 3/100\n",
      "50000/50000 [==============================] - 5s 108us/step - loss: 0.2899 - acc: 0.8973 - val_loss: 2.9813 - val_acc: 0.5018\n",
      "Epoch 4/100\n",
      "50000/50000 [==============================] - 5s 104us/step - loss: 0.3062 - acc: 0.8891 - val_loss: 3.1163 - val_acc: 0.4953\n",
      "Epoch 5/100\n",
      "50000/50000 [==============================] - 5s 105us/step - loss: 0.2946 - acc: 0.8941 - val_loss: 3.0657 - val_acc: 0.4959\n",
      "Epoch 6/100\n",
      "50000/50000 [==============================] - 5s 106us/step - loss: 0.2791 - acc: 0.9007 - val_loss: 3.0639 - val_acc: 0.4957\n",
      "Epoch 7/100\n",
      "50000/50000 [==============================] - 6s 113us/step - loss: 0.2957 - acc: 0.8943 - val_loss: 3.2084 - val_acc: 0.4975\n",
      "Epoch 8/100\n",
      "50000/50000 [==============================] - 6s 111us/step - loss: 0.2684 - acc: 0.9053 - val_loss: 3.1254 - val_acc: 0.4934\n",
      "Epoch 9/100\n",
      "50000/50000 [==============================] - 5s 110us/step - loss: 0.2930 - acc: 0.8954 - val_loss: 3.2167 - val_acc: 0.4997\n",
      "Epoch 10/100\n",
      "50000/50000 [==============================] - 6s 113us/step - loss: 0.2824 - acc: 0.8972 - val_loss: 3.2354 - val_acc: 0.4965\n",
      "Epoch 11/100\n",
      "50000/50000 [==============================] - 5s 106us/step - loss: 0.2913 - acc: 0.8959 - val_loss: 3.1609 - val_acc: 0.4989\n",
      "Epoch 12/100\n",
      "50000/50000 [==============================] - 5s 107us/step - loss: 0.2808 - acc: 0.9006 - val_loss: 3.2546 - val_acc: 0.4955\n",
      "Epoch 13/100\n",
      "50000/50000 [==============================] - 5s 107us/step - loss: 0.2626 - acc: 0.9066 - val_loss: 3.2390 - val_acc: 0.5023\n",
      "Epoch 14/100\n",
      "50000/50000 [==============================] - 5s 107us/step - loss: 0.2619 - acc: 0.9059 - val_loss: 3.2885 - val_acc: 0.4939\n",
      "Epoch 15/100\n",
      "50000/50000 [==============================] - 5s 109us/step - loss: 0.2337 - acc: 0.9177 - val_loss: 3.3516 - val_acc: 0.4916\n",
      "Epoch 16/100\n",
      "50000/50000 [==============================] - 6s 114us/step - loss: 0.2758 - acc: 0.9016 - val_loss: 3.4051 - val_acc: 0.4886\n",
      "Epoch 17/100\n",
      "50000/50000 [==============================] - 6s 111us/step - loss: 0.2314 - acc: 0.9164 - val_loss: 3.3981 - val_acc: 0.4962\n",
      "Epoch 18/100\n",
      "50000/50000 [==============================] - 6s 112us/step - loss: 0.2815 - acc: 0.8988 - val_loss: 3.3230 - val_acc: 0.4985\n",
      "Epoch 19/100\n",
      "50000/50000 [==============================] - 6s 113us/step - loss: 0.2877 - acc: 0.8972 - val_loss: 3.3598 - val_acc: 0.4925\n",
      "Epoch 20/100\n",
      "50000/50000 [==============================] - 6s 110us/step - loss: 0.3048 - acc: 0.8909 - val_loss: 3.3379 - val_acc: 0.4943\n",
      "Epoch 21/100\n",
      "50000/50000 [==============================] - 6s 111us/step - loss: 0.2263 - acc: 0.9208 - val_loss: 3.4817 - val_acc: 0.4970\n",
      "Epoch 22/100\n",
      "50000/50000 [==============================] - 6s 111us/step - loss: 0.2240 - acc: 0.9198 - val_loss: 3.4513 - val_acc: 0.4965\n",
      "Epoch 23/100\n",
      "50000/50000 [==============================] - 6s 113us/step - loss: 0.2141 - acc: 0.9243 - val_loss: 3.5105 - val_acc: 0.4958\n",
      "Epoch 24/100\n",
      "50000/50000 [==============================] - 6s 114us/step - loss: 0.2231 - acc: 0.9202 - val_loss: 3.5299 - val_acc: 0.4963\n",
      "Epoch 25/100\n",
      "50000/50000 [==============================] - 6s 115us/step - loss: 0.2889 - acc: 0.8973 - val_loss: 3.4664 - val_acc: 0.4918\n",
      "Epoch 26/100\n",
      "50000/50000 [==============================] - 6s 112us/step - loss: 0.2544 - acc: 0.9086 - val_loss: 3.4738 - val_acc: 0.4890\n",
      "Epoch 27/100\n",
      "50000/50000 [==============================] - 6s 111us/step - loss: 0.2362 - acc: 0.9160 - val_loss: 3.5593 - val_acc: 0.4979\n",
      "Epoch 28/100\n",
      "50000/50000 [==============================] - 6s 111us/step - loss: 0.2301 - acc: 0.9155 - val_loss: 3.5620 - val_acc: 0.5010\n",
      "Epoch 29/100\n",
      "50000/50000 [==============================] - 6s 112us/step - loss: 0.2501 - acc: 0.9108 - val_loss: 3.6243 - val_acc: 0.4918\n",
      "Epoch 30/100\n",
      "50000/50000 [==============================] - 6s 116us/step - loss: 0.2130 - acc: 0.9243 - val_loss: 3.5517 - val_acc: 0.4979\n",
      "Epoch 31/100\n",
      "50000/50000 [==============================] - 6s 118us/step - loss: 0.2281 - acc: 0.9195 - val_loss: 3.5441 - val_acc: 0.4945\n",
      "Epoch 32/100\n",
      "50000/50000 [==============================] - 6s 127us/step - loss: 0.2122 - acc: 0.9241 - val_loss: 3.5814 - val_acc: 0.4964\n",
      "Epoch 33/100\n",
      "50000/50000 [==============================] - 7s 138us/step - loss: 0.2101 - acc: 0.9250 - val_loss: 3.6558 - val_acc: 0.4907\n",
      "Epoch 34/100\n",
      "50000/50000 [==============================] - 7s 147us/step - loss: 0.2208 - acc: 0.9208 - val_loss: 3.5840 - val_acc: 0.4978\n",
      "Epoch 35/100\n",
      "50000/50000 [==============================] - 7s 142us/step - loss: 0.2172 - acc: 0.9232 - val_loss: 3.5731 - val_acc: 0.4918\n",
      "Epoch 36/100\n",
      "50000/50000 [==============================] - 6s 115us/step - loss: 0.2281 - acc: 0.9186 - val_loss: 3.6733 - val_acc: 0.4966\n",
      "Epoch 37/100\n",
      "50000/50000 [==============================] - 6s 113us/step - loss: 0.2438 - acc: 0.9136 - val_loss: 3.5798 - val_acc: 0.4984\n",
      "Epoch 38/100\n",
      "50000/50000 [==============================] - 6s 112us/step - loss: 0.2404 - acc: 0.9134 - val_loss: 3.6095 - val_acc: 0.4955\n",
      "Epoch 39/100\n",
      "50000/50000 [==============================] - 6s 112us/step - loss: 0.2221 - acc: 0.9203 - val_loss: 3.7346 - val_acc: 0.4897\n",
      "Epoch 40/100\n",
      "50000/50000 [==============================] - 5s 110us/step - loss: 0.2051 - acc: 0.9257 - val_loss: 3.6755 - val_acc: 0.5010\n",
      "Epoch 41/100\n",
      "50000/50000 [==============================] - 6s 111us/step - loss: 0.2015 - acc: 0.9263 - val_loss: 3.8120 - val_acc: 0.4883\n",
      "Epoch 42/100\n",
      "50000/50000 [==============================] - 6s 111us/step - loss: 0.2270 - acc: 0.9187 - val_loss: 3.7757 - val_acc: 0.4966\n",
      "Epoch 43/100\n",
      "50000/50000 [==============================] - 5s 109us/step - loss: 0.2007 - acc: 0.9280 - val_loss: 3.6664 - val_acc: 0.5008\n",
      "Epoch 44/100\n",
      "50000/50000 [==============================] - 6s 116us/step - loss: 0.2085 - acc: 0.9252 - val_loss: 3.8311 - val_acc: 0.4899\n",
      "Epoch 45/100\n",
      "50000/50000 [==============================] - 6s 121us/step - loss: 0.2169 - acc: 0.9222 - val_loss: 3.7780 - val_acc: 0.4922\n",
      "Epoch 46/100\n",
      "50000/50000 [==============================] - 6s 124us/step - loss: 0.2331 - acc: 0.9162 - val_loss: 3.8443 - val_acc: 0.4902\n",
      "Epoch 47/100\n",
      "50000/50000 [==============================] - 6s 122us/step - loss: 0.2627 - acc: 0.9081 - val_loss: 3.7510 - val_acc: 0.4992\n",
      "Epoch 48/100\n",
      "50000/50000 [==============================] - 6s 113us/step - loss: 0.1632 - acc: 0.9426 - val_loss: 3.7363 - val_acc: 0.5001\n",
      "Epoch 49/100\n",
      "50000/50000 [==============================] - 6s 121us/step - loss: 0.1946 - acc: 0.9294 - val_loss: 3.8189 - val_acc: 0.4996\n",
      "Epoch 50/100\n",
      "50000/50000 [==============================] - 6s 113us/step - loss: 0.2056 - acc: 0.9266 - val_loss: 3.8710 - val_acc: 0.5012\n",
      "Epoch 51/100\n",
      "50000/50000 [==============================] - 6s 120us/step - loss: 0.2024 - acc: 0.9268 - val_loss: 3.7880 - val_acc: 0.4939\n",
      "Epoch 52/100\n",
      "50000/50000 [==============================] - 6s 116us/step - loss: 0.1649 - acc: 0.9404 - val_loss: 3.8937 - val_acc: 0.4973\n",
      "Epoch 53/100\n",
      "50000/50000 [==============================] - 6s 118us/step - loss: 0.1621 - acc: 0.9427 - val_loss: 3.8858 - val_acc: 0.4977\n",
      "Epoch 54/100\n",
      "50000/50000 [==============================] - 6s 111us/step - loss: 0.2465 - acc: 0.9137 - val_loss: 3.8782 - val_acc: 0.5000\n",
      "Epoch 55/100\n",
      "50000/50000 [==============================] - 6s 110us/step - loss: 0.2242 - acc: 0.9202 - val_loss: 3.8738 - val_acc: 0.4945\n",
      "Epoch 56/100\n",
      "50000/50000 [==============================] - 6s 112us/step - loss: 0.2178 - acc: 0.9215 - val_loss: 3.9372 - val_acc: 0.4980\n",
      "Epoch 57/100\n",
      "50000/50000 [==============================] - 5s 110us/step - loss: 0.1777 - acc: 0.9363 - val_loss: 3.9032 - val_acc: 0.4908\n",
      "Epoch 58/100\n",
      "50000/50000 [==============================] - 5s 108us/step - loss: 0.1687 - acc: 0.9398 - val_loss: 3.9405 - val_acc: 0.4965\n",
      "Epoch 59/100\n",
      "50000/50000 [==============================] - 7s 149us/step - loss: 0.1854 - acc: 0.9341 - val_loss: 3.9482 - val_acc: 0.4972\n",
      "Epoch 60/100\n",
      "50000/50000 [==============================] - 6s 112us/step - loss: 0.1836 - acc: 0.9344 - val_loss: 3.9810 - val_acc: 0.4998\n",
      "Epoch 61/100\n",
      "50000/50000 [==============================] - 6s 115us/step - loss: 0.1964 - acc: 0.9315 - val_loss: 4.0451 - val_acc: 0.4927\n",
      "Epoch 62/100\n",
      "50000/50000 [==============================] - 6s 113us/step - loss: 0.1999 - acc: 0.9300 - val_loss: 4.0503 - val_acc: 0.4861\n",
      "Epoch 63/100\n",
      "50000/50000 [==============================] - 6s 114us/step - loss: 0.2008 - acc: 0.9301 - val_loss: 4.0688 - val_acc: 0.5020\n",
      "Epoch 64/100\n",
      "50000/50000 [==============================] - 6s 111us/step - loss: 0.1525 - acc: 0.9467 - val_loss: 4.0053 - val_acc: 0.4969\n",
      "Epoch 65/100\n",
      "50000/50000 [==============================] - 6s 113us/step - loss: 0.1510 - acc: 0.9460 - val_loss: 4.0996 - val_acc: 0.4967\n",
      "Epoch 66/100\n",
      "50000/50000 [==============================] - 6s 111us/step - loss: 0.2049 - acc: 0.9283 - val_loss: 4.1404 - val_acc: 0.4906\n",
      "Epoch 67/100\n",
      "50000/50000 [==============================] - 6s 113us/step - loss: 0.2194 - acc: 0.9238 - val_loss: 4.0277 - val_acc: 0.4968\n",
      "Epoch 68/100\n",
      "50000/50000 [==============================] - 6s 116us/step - loss: 0.1952 - acc: 0.9297 - val_loss: 4.0058 - val_acc: 0.4929\n",
      "Epoch 69/100\n",
      "50000/50000 [==============================] - 6s 116us/step - loss: 0.1913 - acc: 0.9332 - val_loss: 4.1297 - val_acc: 0.4959\n",
      "Epoch 70/100\n",
      "50000/50000 [==============================] - 6s 122us/step - loss: 0.1638 - acc: 0.9417 - val_loss: 4.0098 - val_acc: 0.4962\n",
      "Epoch 71/100\n",
      "50000/50000 [==============================] - 6s 115us/step - loss: 0.1569 - acc: 0.9452 - val_loss: 4.0977 - val_acc: 0.4968\n",
      "Epoch 72/100\n",
      "50000/50000 [==============================] - 6s 114us/step - loss: 0.1722 - acc: 0.9388 - val_loss: 4.1821 - val_acc: 0.4877\n",
      "Epoch 73/100\n",
      "50000/50000 [==============================] - 6s 115us/step - loss: 0.1990 - acc: 0.9299 - val_loss: 4.1167 - val_acc: 0.4948\n",
      "Epoch 74/100\n",
      "50000/50000 [==============================] - 6s 115us/step - loss: 0.1975 - acc: 0.9316 - val_loss: 4.0848 - val_acc: 0.4948\n",
      "Epoch 75/100\n",
      "50000/50000 [==============================] - 6s 113us/step - loss: 0.1689 - acc: 0.9402 - val_loss: 4.1695 - val_acc: 0.4881\n",
      "Epoch 76/100\n",
      "50000/50000 [==============================] - 6s 111us/step - loss: 0.1673 - acc: 0.9402 - val_loss: 4.1630 - val_acc: 0.4917\n",
      "Epoch 77/100\n",
      "50000/50000 [==============================] - 6s 116us/step - loss: 0.1741 - acc: 0.9376 - val_loss: 4.1578 - val_acc: 0.5047\n",
      "Epoch 78/100\n",
      "50000/50000 [==============================] - 6s 118us/step - loss: 0.1550 - acc: 0.9454 - val_loss: 4.2071 - val_acc: 0.4910\n",
      "Epoch 79/100\n",
      "50000/50000 [==============================] - 5s 110us/step - loss: 0.1870 - acc: 0.9336 - val_loss: 4.1477 - val_acc: 0.4992\n",
      "Epoch 80/100\n",
      "50000/50000 [==============================] - 6s 117us/step - loss: 0.1995 - acc: 0.9307 - val_loss: 4.1646 - val_acc: 0.4973\n",
      "Epoch 81/100\n",
      "50000/50000 [==============================] - 6s 116us/step - loss: 0.1739 - acc: 0.9380 - val_loss: 4.1526 - val_acc: 0.4983\n",
      "Epoch 82/100\n",
      "50000/50000 [==============================] - 6s 111us/step - loss: 0.1375 - acc: 0.9519 - val_loss: 4.3136 - val_acc: 0.4884\n",
      "Epoch 83/100\n",
      "50000/50000 [==============================] - 6s 116us/step - loss: 0.1887 - acc: 0.9357 - val_loss: 4.3677 - val_acc: 0.4924\n",
      "Epoch 84/100\n",
      "50000/50000 [==============================] - 6s 113us/step - loss: 0.1907 - acc: 0.9334 - val_loss: 4.2277 - val_acc: 0.4928\n",
      "Epoch 85/100\n",
      "50000/50000 [==============================] - 6s 112us/step - loss: 0.1721 - acc: 0.9392 - val_loss: 4.2560 - val_acc: 0.4954\n",
      "Epoch 86/100\n",
      "50000/50000 [==============================] - 6s 113us/step - loss: 0.1585 - acc: 0.9434 - val_loss: 4.2446 - val_acc: 0.4936\n",
      "Epoch 87/100\n",
      "50000/50000 [==============================] - 6s 112us/step - loss: 0.1513 - acc: 0.9465 - val_loss: 4.3930 - val_acc: 0.4834\n",
      "Epoch 88/100\n",
      "50000/50000 [==============================] - 6s 111us/step - loss: 0.1947 - acc: 0.9323 - val_loss: 4.2162 - val_acc: 0.4921\n",
      "Epoch 89/100\n",
      "50000/50000 [==============================] - 6s 111us/step - loss: 0.1583 - acc: 0.9443 - val_loss: 4.2647 - val_acc: 0.4941\n",
      "Epoch 90/100\n",
      "50000/50000 [==============================] - 6s 111us/step - loss: 0.1725 - acc: 0.9388 - val_loss: 4.2518 - val_acc: 0.4898\n",
      "Epoch 91/100\n",
      "50000/50000 [==============================] - 6s 111us/step - loss: 0.1676 - acc: 0.9412 - val_loss: 4.2115 - val_acc: 0.4970\n",
      "Epoch 92/100\n",
      "50000/50000 [==============================] - 6s 111us/step - loss: 0.1197 - acc: 0.9567 - val_loss: 4.2584 - val_acc: 0.4937\n",
      "Epoch 93/100\n",
      "50000/50000 [==============================] - 6s 115us/step - loss: 0.1019 - acc: 0.9638 - val_loss: 4.2936 - val_acc: 0.4908\n",
      "Epoch 94/100\n",
      "50000/50000 [==============================] - 6s 115us/step - loss: 0.1833 - acc: 0.9373 - val_loss: 4.3577 - val_acc: 0.4879\n",
      "Epoch 95/100\n",
      "50000/50000 [==============================] - 6s 120us/step - loss: 0.2721 - acc: 0.9090 - val_loss: 4.3294 - val_acc: 0.4914\n",
      "Epoch 96/100\n",
      "50000/50000 [==============================] - 6s 117us/step - loss: 0.1452 - acc: 0.9492 - val_loss: 4.3165 - val_acc: 0.4978\n",
      "Epoch 97/100\n",
      "50000/50000 [==============================] - 6s 111us/step - loss: 0.1140 - acc: 0.9596 - val_loss: 4.3722 - val_acc: 0.4961\n",
      "Epoch 98/100\n",
      "50000/50000 [==============================] - 6s 116us/step - loss: 0.1453 - acc: 0.9485 - val_loss: 4.3826 - val_acc: 0.4930\n",
      "Epoch 99/100\n",
      "50000/50000 [==============================] - 6s 116us/step - loss: 0.2138 - acc: 0.9282 - val_loss: 4.3541 - val_acc: 0.4869\n",
      "Epoch 100/100\n",
      "50000/50000 [==============================] - 6s 114us/step - loss: 0.1711 - acc: 0.9404 - val_loss: 4.3891 - val_acc: 0.4923\n"
     ]
    },
    {
     "data": {
      "text/plain": [
       "<keras.callbacks.History at 0x1c928003a58>"
      ]
     },
     "execution_count": 8,
     "metadata": {},
     "output_type": "execute_result"
    }
   ],
   "source": [
    "# 訓練模型並檢視驗證集的結果\n",
    "model.fit(x_train, y_train, \n",
    "          epochs=100, \n",
    "          batch_size=256, \n",
    "          validation_data=(x_test, y_test), \n",
    "          shuffle=True)"
   ]
  },
  {
   "cell_type": "code",
   "execution_count": 9,
   "metadata": {},
   "outputs": [
    {
     "data": {
      "image/png": "[encoded data removed]",
      "text/plain": [
       "<Figure size 432x288 with 1 Axes>"
      ]
     },
     "metadata": {
      "needs_background": "light"
     },
     "output_type": "display_data"
    },
    {
     "data": {
      "image/png": "[encoded data removed]",
      "text/plain": [
       "<Figure size 432x288 with 1 Axes>"
      ]
     },
     "metadata": {
      "needs_background": "light"
     },
     "output_type": "display_data"
    }
   ],
   "source": [
    "# 以視覺畫方式檢視訓練過程\n",
    "%matplotlib inline\n",
    "import matplotlib.pyplot as plt\n",
    "train_loss = model.history.history[\"loss\"]\n",
    "valid_loss = model.history.history[\"val_loss\"]\n",
    "\n",
    "train_acc = model.history.history[\"acc\"]\n",
    "valid_acc = model.history.history[\"val_acc\"]\n",
    "\n",
    "plt.plot(range(len(train_loss)), train_loss, label=\"train loss\")\n",
    "plt.plot(range(len(valid_loss)), valid_loss, label=\"valid loss\")\n",
    "plt.legend()\n",
    "plt.title(\"Loss\")\n",
    "plt.show()\n",
    "\n",
    "plt.plot(range(len(train_acc)), train_acc, label=\"train accuracy\")\n",
    "plt.plot(range(len(valid_acc)), valid_acc, label=\"valid accuracy\")\n",
    "plt.legend()\n",
    "plt.title(\"Accuracy\")\n",
    "plt.show()"
   ]
  },
  {
   "cell_type": "markdown",
   "metadata": {},
   "source": [
    "## 作業\n",
    "1. 請將 Epoch 加到 500 個，並觀察 learning curve 的走勢\n",
    "2. 請將 Optimizer 換成 SGD，並觀察 learning curve 的走勢"
   ]
  }
 ],
 "metadata": {
  "kernelspec": {
   "display_name": "Python 3",
   "language": "python",
   "name": "python3"
  },
  "language_info": {
   "codemirror_mode": {
    "name": "ipython",
    "version": 3
   },
   "file_extension": ".py",
   "mimetype": "text/x-python",
   "name": "python",
   "nbconvert_exporter": "python",
   "pygments_lexer": "ipython3",
   "version": "3.7.3"
  }
 },
 "nbformat": 4,
 "nbformat_minor": 2
}
