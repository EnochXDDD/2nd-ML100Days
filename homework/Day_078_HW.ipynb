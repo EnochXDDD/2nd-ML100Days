{
 "cells": [
  {
   "cell_type": "markdown",
   "metadata": {},
   "source": [
    "## Work\n",
    "1. 請嘗試將 preproc_x 替換成以每筆資料的 min/max 進行標準化至 -1 ~ 1 間，再進行訓練\n",
    "2. 請嘗試將 mlp 疊更深 (e.g 5~10 層)，進行訓練後觀察 learning curve 的走勢\n",
    "3. (optional) 請改用 GPU 進行訓練 (如果你有 GPU 的話)，比較使用 CPU 與 GPU 的訓練速度"
   ]
  },
  {
   "cell_type": "code",
   "execution_count": 1,
   "metadata": {},
   "outputs": [
    {
     "name": "stderr",
     "output_type": "stream",
     "text": [
      "Using TensorFlow backend.\n"
     ]
    }
   ],
   "source": [
    "%matplotlib inline\n",
    "import os\n",
    "import numpy as np\n",
    "import tensorflow as tf\n",
    "import keras\n",
    "tf.logging.set_verbosity(tf.logging.ERROR)\n",
    "os.environ[\"CUDA_VISIBLE_DEVICES\"] = \"0\""
   ]
  },
  {
   "cell_type": "code",
   "execution_count": 2,
   "metadata": {},
   "outputs": [],
   "source": [
    "train, test = keras.datasets.cifar10.load_data()"
   ]
  },
  {
   "cell_type": "code",
   "execution_count": 3,
   "metadata": {},
   "outputs": [],
   "source": [
    "## 資料前處理\n",
    "def preproc_x(x, flatten=True):\n",
    "    x_min, x_max = np.min(x), np.max(x)\n",
    "    x = (x - x_min) / (x_max - x_min) * 2 - 1\n",
    "    if flatten:\n",
    "        x = x.reshape((len(x), -1))\n",
    "    return x\n",
    "\n",
    "def preproc_y(y, num_classes=10):\n",
    "    if y.shape[-1] == 1:\n",
    "        y = keras.utils.to_categorical(y, num_classes)\n",
    "    return y"
   ]
  },
  {
   "cell_type": "code",
   "execution_count": 4,
   "metadata": {},
   "outputs": [],
   "source": [
    "x_train, y_train = train\n",
    "x_test, y_test = test\n",
    "\n",
    "# Preproc the inputs\n",
    "x_train = preproc_x(x_train)\n",
    "x_test = preproc_x(x_test)\n",
    "\n",
    "# Preprc the outputs\n",
    "y_train = preproc_y(y_train)\n",
    "y_test = preproc_y(y_test)"
   ]
  },
  {
   "cell_type": "code",
   "execution_count": 5,
   "metadata": {},
   "outputs": [
    {
     "name": "stdout",
     "output_type": "stream",
     "text": [
      "_________________________________________________________________\n",
      "Layer (type)                 Output Shape              Param #   \n",
      "=================================================================\n",
      "input_1 (InputLayer)         (None, 3072)              0         \n",
      "_________________________________________________________________\n",
      "hidden_layer1 (Dense)        (None, 512)               1573376   \n",
      "_________________________________________________________________\n",
      "hidden_layer2 (Dense)        (None, 256)               131328    \n",
      "_________________________________________________________________\n",
      "hidden_layer3 (Dense)        (None, 128)               32896     \n",
      "_________________________________________________________________\n",
      "hidden_layer4 (Dense)        (None, 64)                8256      \n",
      "_________________________________________________________________\n",
      "hidden_layer5 (Dense)        (None, 32)                2080      \n",
      "_________________________________________________________________\n",
      "hidden_layer6 (Dense)        (None, 16)                528       \n",
      "_________________________________________________________________\n",
      "output (Dense)               (None, 10)                170       \n",
      "=================================================================\n",
      "Total params: 1,748,634\n",
      "Trainable params: 1,748,634\n",
      "Non-trainable params: 0\n",
      "_________________________________________________________________\n"
     ]
    }
   ],
   "source": [
    "def build_mlp(input_shape, output_units=10, num_neurons=[512, 256, 128, 64, 32, 16]):\n",
    "    input_layer = keras.layers.Input(input_shape)\n",
    "    \n",
    "    for i, n_units in enumerate(num_neurons):\n",
    "        if i == 0:\n",
    "            x = keras.layers.Dense(units=n_units, activation=\"relu\", name=\"hidden_layer\"+str(i+1))(input_layer)\n",
    "        else:\n",
    "            x = keras.layers.Dense(units=n_units, activation=\"relu\", name=\"hidden_layer\"+str(i+1))(x)\n",
    "    \n",
    "    out = keras.layers.Dense(units=output_units, activation=\"softmax\", name=\"output\")(x)\n",
    "    \n",
    "    model = keras.models.Model(inputs=[input_layer], outputs=[out])\n",
    "    return model\n",
    "\n",
    "model = build_mlp(input_shape=x_train.shape[1:])\n",
    "model.summary()"
   ]
  },
  {
   "cell_type": "code",
   "execution_count": 6,
   "metadata": {},
   "outputs": [],
   "source": [
    "## 超參數設定\n",
    "LEARNING_RATE = 0.001\n",
    "EPOCHS = 100\n",
    "BATCH_SIZE = 256"
   ]
  },
  {
   "cell_type": "code",
   "execution_count": 7,
   "metadata": {},
   "outputs": [],
   "source": [
    "optimizer = keras.optimizers.Adam(lr=LEARNING_RATE)\n",
    "model.compile(loss=\"categorical_crossentropy\", metrics=[\"accuracy\"], optimizer=optimizer)"
   ]
  },
  {
   "cell_type": "code",
   "execution_count": 8,
   "metadata": {},
   "outputs": [
    {
     "name": "stdout",
     "output_type": "stream",
     "text": [
      "Train on 50000 samples, validate on 10000 samples\n",
      "Epoch 1/100\n",
      "50000/50000 [==============================] - 9s 186us/step - loss: 1.8242 - acc: 0.3540 - val_loss: 1.5884 - val_acc: 0.4474\n",
      "Epoch 2/100\n",
      "50000/50000 [==============================] - 6s 122us/step - loss: 1.5374 - acc: 0.4609 - val_loss: 1.4976 - val_acc: 0.4737\n",
      "Epoch 3/100\n",
      "50000/50000 [==============================] - 6s 121us/step - loss: 1.4129 - acc: 0.5047 - val_loss: 1.4274 - val_acc: 0.5028\n",
      "Epoch 4/100\n",
      "50000/50000 [==============================] - 6s 125us/step - loss: 1.3108 - acc: 0.5417 - val_loss: 1.4070 - val_acc: 0.5073\n",
      "Epoch 5/100\n",
      "50000/50000 [==============================] - 6s 123us/step - loss: 1.2267 - acc: 0.5684 - val_loss: 1.3895 - val_acc: 0.5156\n",
      "Epoch 6/100\n",
      "50000/50000 [==============================] - 6s 121us/step - loss: 1.1534 - acc: 0.5958 - val_loss: 1.3740 - val_acc: 0.5294\n",
      "Epoch 7/100\n",
      "50000/50000 [==============================] - 6s 119us/step - loss: 1.0706 - acc: 0.6256 - val_loss: 1.4332 - val_acc: 0.5168\n",
      "Epoch 8/100\n",
      "50000/50000 [==============================] - 6s 118us/step - loss: 1.0042 - acc: 0.6464 - val_loss: 1.3812 - val_acc: 0.5303\n",
      "Epoch 9/100\n",
      "50000/50000 [==============================] - 6s 119us/step - loss: 0.9325 - acc: 0.6705 - val_loss: 1.4186 - val_acc: 0.5264\n",
      "Epoch 10/100\n",
      "50000/50000 [==============================] - 6s 119us/step - loss: 0.8742 - acc: 0.6919 - val_loss: 1.4570 - val_acc: 0.5343\n",
      "Epoch 11/100\n",
      "50000/50000 [==============================] - 6s 120us/step - loss: 0.7973 - acc: 0.7184 - val_loss: 1.5006 - val_acc: 0.5349\n",
      "Epoch 12/100\n",
      "50000/50000 [==============================] - 6s 121us/step - loss: 0.7341 - acc: 0.7425 - val_loss: 1.5420 - val_acc: 0.5357\n",
      "Epoch 13/100\n",
      "50000/50000 [==============================] - 6s 121us/step - loss: 0.6777 - acc: 0.7600 - val_loss: 1.6153 - val_acc: 0.5288\n",
      "Epoch 14/100\n",
      "50000/50000 [==============================] - 6s 122us/step - loss: 0.6178 - acc: 0.7818 - val_loss: 1.6729 - val_acc: 0.5324\n",
      "Epoch 15/100\n",
      "50000/50000 [==============================] - 6s 120us/step - loss: 0.5713 - acc: 0.8009 - val_loss: 1.7523 - val_acc: 0.5326\n",
      "Epoch 16/100\n",
      "50000/50000 [==============================] - 6s 120us/step - loss: 0.5313 - acc: 0.8109 - val_loss: 1.8232 - val_acc: 0.5322\n",
      "Epoch 17/100\n",
      "50000/50000 [==============================] - 6s 120us/step - loss: 0.4919 - acc: 0.8264 - val_loss: 1.8598 - val_acc: 0.5237\n",
      "Epoch 18/100\n",
      "50000/50000 [==============================] - 6s 118us/step - loss: 0.4403 - acc: 0.8461 - val_loss: 2.0170 - val_acc: 0.5254\n",
      "Epoch 19/100\n",
      "50000/50000 [==============================] - 6s 118us/step - loss: 0.4086 - acc: 0.8571 - val_loss: 2.0834 - val_acc: 0.5237\n",
      "Epoch 20/100\n",
      "50000/50000 [==============================] - 6s 119us/step - loss: 0.4015 - acc: 0.8585 - val_loss: 2.1116 - val_acc: 0.5214\n",
      "Epoch 21/100\n",
      "50000/50000 [==============================] - 6s 119us/step - loss: 0.3569 - acc: 0.8734 - val_loss: 2.2650 - val_acc: 0.5294\n",
      "Epoch 22/100\n",
      "50000/50000 [==============================] - 6s 121us/step - loss: 0.3303 - acc: 0.8840 - val_loss: 2.3424 - val_acc: 0.5254\n",
      "Epoch 23/100\n",
      "50000/50000 [==============================] - 6s 119us/step - loss: 0.3060 - acc: 0.8940 - val_loss: 2.3879 - val_acc: 0.5238\n",
      "Epoch 24/100\n",
      "50000/50000 [==============================] - 6s 120us/step - loss: 0.2912 - acc: 0.8977 - val_loss: 2.4439 - val_acc: 0.5311\n",
      "Epoch 25/100\n",
      "50000/50000 [==============================] - 6s 119us/step - loss: 0.2660 - acc: 0.9064 - val_loss: 2.5894 - val_acc: 0.5255\n",
      "Epoch 26/100\n",
      "50000/50000 [==============================] - 6s 119us/step - loss: 0.2617 - acc: 0.9091 - val_loss: 2.6539 - val_acc: 0.5214\n",
      "Epoch 27/100\n",
      "50000/50000 [==============================] - 6s 121us/step - loss: 0.2340 - acc: 0.9181 - val_loss: 2.7511 - val_acc: 0.5273\n",
      "Epoch 28/100\n",
      "50000/50000 [==============================] - 6s 119us/step - loss: 0.2435 - acc: 0.9163 - val_loss: 2.6513 - val_acc: 0.5293\n",
      "Epoch 29/100\n",
      "50000/50000 [==============================] - 6s 126us/step - loss: 0.2229 - acc: 0.9238 - val_loss: 2.7034 - val_acc: 0.5262\n",
      "Epoch 30/100\n",
      "50000/50000 [==============================] - 6s 121us/step - loss: 0.1950 - acc: 0.9323 - val_loss: 2.9454 - val_acc: 0.5315\n",
      "Epoch 31/100\n",
      "50000/50000 [==============================] - 6s 121us/step - loss: 0.2067 - acc: 0.9286 - val_loss: 2.8164 - val_acc: 0.5272\n",
      "Epoch 32/100\n",
      "50000/50000 [==============================] - 6s 122us/step - loss: 0.1965 - acc: 0.9317 - val_loss: 2.8598 - val_acc: 0.5249\n",
      "Epoch 33/100\n",
      "50000/50000 [==============================] - 6s 123us/step - loss: 0.1870 - acc: 0.9352 - val_loss: 3.0143 - val_acc: 0.5168\n",
      "Epoch 34/100\n",
      "50000/50000 [==============================] - 6s 123us/step - loss: 0.1811 - acc: 0.9381 - val_loss: 3.0367 - val_acc: 0.5287\n",
      "Epoch 35/100\n",
      "50000/50000 [==============================] - 6s 124us/step - loss: 0.1729 - acc: 0.9412 - val_loss: 3.1217 - val_acc: 0.5236\n",
      "Epoch 36/100\n",
      "50000/50000 [==============================] - 6s 125us/step - loss: 0.1649 - acc: 0.9439 - val_loss: 3.1187 - val_acc: 0.5249\n",
      "Epoch 37/100\n",
      "50000/50000 [==============================] - 6s 122us/step - loss: 0.1475 - acc: 0.9492 - val_loss: 3.1908 - val_acc: 0.5272\n",
      "Epoch 38/100\n",
      "50000/50000 [==============================] - 6s 122us/step - loss: 0.1647 - acc: 0.9448 - val_loss: 3.2453 - val_acc: 0.5201\n",
      "Epoch 39/100\n",
      "50000/50000 [==============================] - 6s 124us/step - loss: 0.1553 - acc: 0.9472 - val_loss: 3.2682 - val_acc: 0.5225\n",
      "Epoch 40/100\n",
      "50000/50000 [==============================] - 6s 123us/step - loss: 0.1463 - acc: 0.9499 - val_loss: 3.1896 - val_acc: 0.5275\n",
      "Epoch 41/100\n",
      "50000/50000 [==============================] - 6s 124us/step - loss: 0.1492 - acc: 0.9497 - val_loss: 3.2127 - val_acc: 0.5213\n",
      "Epoch 42/100\n",
      "50000/50000 [==============================] - 6s 123us/step - loss: 0.1423 - acc: 0.9518 - val_loss: 3.2429 - val_acc: 0.5262\n",
      "Epoch 43/100\n",
      "50000/50000 [==============================] - 6s 122us/step - loss: 0.1364 - acc: 0.9532 - val_loss: 3.4242 - val_acc: 0.5182\n",
      "Epoch 44/100\n",
      "50000/50000 [==============================] - 6s 123us/step - loss: 0.1367 - acc: 0.9537 - val_loss: 3.2783 - val_acc: 0.5209\n",
      "Epoch 45/100\n",
      "50000/50000 [==============================] - 6s 124us/step - loss: 0.1307 - acc: 0.9562 - val_loss: 3.4398 - val_acc: 0.5234\n",
      "Epoch 46/100\n",
      "50000/50000 [==============================] - 6s 127us/step - loss: 0.1394 - acc: 0.9531 - val_loss: 3.3933 - val_acc: 0.5241\n",
      "Epoch 47/100\n",
      "50000/50000 [==============================] - 6s 126us/step - loss: 0.1229 - acc: 0.9594 - val_loss: 3.4423 - val_acc: 0.5195\n",
      "Epoch 48/100\n",
      "50000/50000 [==============================] - 6s 122us/step - loss: 0.1161 - acc: 0.9615 - val_loss: 3.4728 - val_acc: 0.5316\n",
      "Epoch 49/100\n",
      "50000/50000 [==============================] - 6s 122us/step - loss: 0.1083 - acc: 0.9641 - val_loss: 3.5233 - val_acc: 0.5275\n",
      "Epoch 50/100\n",
      "50000/50000 [==============================] - 6s 123us/step - loss: 0.1211 - acc: 0.9597 - val_loss: 3.5394 - val_acc: 0.5205\n",
      "Epoch 51/100\n",
      "50000/50000 [==============================] - 6s 122us/step - loss: 0.1132 - acc: 0.9620 - val_loss: 3.6220 - val_acc: 0.5191\n",
      "Epoch 52/100\n",
      "50000/50000 [==============================] - 6s 124us/step - loss: 0.1392 - acc: 0.9540 - val_loss: 3.4545 - val_acc: 0.5257\n",
      "Epoch 53/100\n",
      "50000/50000 [==============================] - 6s 123us/step - loss: 0.1095 - acc: 0.9638 - val_loss: 3.5285 - val_acc: 0.5224\n",
      "Epoch 54/100\n",
      "50000/50000 [==============================] - 6s 123us/step - loss: 0.0969 - acc: 0.9677 - val_loss: 3.7235 - val_acc: 0.5199\n",
      "Epoch 55/100\n",
      "50000/50000 [==============================] - 6s 122us/step - loss: 0.0965 - acc: 0.9682 - val_loss: 3.7377 - val_acc: 0.5222\n",
      "Epoch 56/100\n",
      "50000/50000 [==============================] - 6s 122us/step - loss: 0.1241 - acc: 0.9591 - val_loss: 3.5875 - val_acc: 0.5267\n",
      "Epoch 57/100\n",
      "50000/50000 [==============================] - 6s 123us/step - loss: 0.1079 - acc: 0.9638 - val_loss: 3.5818 - val_acc: 0.5314\n",
      "Epoch 58/100\n",
      "50000/50000 [==============================] - 6s 124us/step - loss: 0.0840 - acc: 0.9722 - val_loss: 3.7489 - val_acc: 0.5207\n",
      "Epoch 59/100\n",
      "50000/50000 [==============================] - 6s 122us/step - loss: 0.1017 - acc: 0.9665 - val_loss: 3.7423 - val_acc: 0.5270\n",
      "Epoch 60/100\n",
      "50000/50000 [==============================] - 6s 122us/step - loss: 0.0989 - acc: 0.9687 - val_loss: 3.6801 - val_acc: 0.5175\n",
      "Epoch 61/100\n",
      "50000/50000 [==============================] - 6s 123us/step - loss: 0.0986 - acc: 0.9676 - val_loss: 3.6848 - val_acc: 0.5237\n",
      "Epoch 62/100\n",
      "50000/50000 [==============================] - 6s 123us/step - loss: 0.0976 - acc: 0.9671 - val_loss: 3.5795 - val_acc: 0.5314\n",
      "Epoch 63/100\n",
      "50000/50000 [==============================] - 6s 123us/step - loss: 0.0978 - acc: 0.9680 - val_loss: 3.6879 - val_acc: 0.5336\n",
      "Epoch 64/100\n",
      "50000/50000 [==============================] - 6s 122us/step - loss: 0.0761 - acc: 0.9749 - val_loss: 3.7850 - val_acc: 0.5361\n",
      "Epoch 65/100\n",
      "50000/50000 [==============================] - 6s 123us/step - loss: 0.1038 - acc: 0.9660 - val_loss: 3.6834 - val_acc: 0.5328\n",
      "Epoch 66/100\n",
      "50000/50000 [==============================] - 6s 124us/step - loss: 0.1035 - acc: 0.9653 - val_loss: 3.6353 - val_acc: 0.5258\n",
      "Epoch 67/100\n",
      "50000/50000 [==============================] - 6s 123us/step - loss: 0.0792 - acc: 0.9743 - val_loss: 3.7383 - val_acc: 0.5254\n",
      "Epoch 68/100\n",
      "50000/50000 [==============================] - 6s 123us/step - loss: 0.1254 - acc: 0.9601 - val_loss: 3.5795 - val_acc: 0.5318\n",
      "Epoch 69/100\n",
      "50000/50000 [==============================] - 6s 123us/step - loss: 0.0775 - acc: 0.9744 - val_loss: 3.8130 - val_acc: 0.5257\n",
      "Epoch 70/100\n",
      "50000/50000 [==============================] - 6s 123us/step - loss: 0.0571 - acc: 0.9809 - val_loss: 3.8898 - val_acc: 0.5320\n",
      "Epoch 71/100\n",
      "50000/50000 [==============================] - 6s 123us/step - loss: 0.0914 - acc: 0.9702 - val_loss: 3.7308 - val_acc: 0.5342\n",
      "Epoch 72/100\n",
      "50000/50000 [==============================] - 6s 123us/step - loss: 0.0977 - acc: 0.9680 - val_loss: 3.6819 - val_acc: 0.5230\n",
      "Epoch 73/100\n",
      "50000/50000 [==============================] - 6s 123us/step - loss: 0.0817 - acc: 0.9734 - val_loss: 3.7956 - val_acc: 0.5306\n",
      "Epoch 74/100\n",
      "50000/50000 [==============================] - 6s 123us/step - loss: 0.0815 - acc: 0.9726 - val_loss: 3.7037 - val_acc: 0.5279\n",
      "Epoch 75/100\n",
      "50000/50000 [==============================] - 6s 123us/step - loss: 0.0696 - acc: 0.9769 - val_loss: 3.8538 - val_acc: 0.5353\n",
      "Epoch 76/100\n",
      "50000/50000 [==============================] - 6s 124us/step - loss: 0.0731 - acc: 0.9763 - val_loss: 3.8595 - val_acc: 0.5300\n",
      "Epoch 77/100\n",
      "50000/50000 [==============================] - 6s 124us/step - loss: 0.0962 - acc: 0.9688 - val_loss: 3.7356 - val_acc: 0.5323\n",
      "Epoch 78/100\n",
      "50000/50000 [==============================] - 6s 124us/step - loss: 0.0791 - acc: 0.9737 - val_loss: 3.8374 - val_acc: 0.5311\n",
      "Epoch 79/100\n",
      "50000/50000 [==============================] - 6s 123us/step - loss: 0.0691 - acc: 0.9772 - val_loss: 3.8298 - val_acc: 0.5308\n",
      "Epoch 80/100\n",
      "50000/50000 [==============================] - 6s 124us/step - loss: 0.0796 - acc: 0.9740 - val_loss: 3.8354 - val_acc: 0.5275\n",
      "Epoch 81/100\n",
      "50000/50000 [==============================] - 6s 124us/step - loss: 0.0724 - acc: 0.9763 - val_loss: 3.7507 - val_acc: 0.5374\n",
      "Epoch 82/100\n",
      "50000/50000 [==============================] - 6s 123us/step - loss: 0.0784 - acc: 0.9742 - val_loss: 3.8312 - val_acc: 0.5242\n",
      "Epoch 83/100\n",
      "50000/50000 [==============================] - 6s 123us/step - loss: 0.0809 - acc: 0.9732 - val_loss: 3.8074 - val_acc: 0.5253\n",
      "Epoch 84/100\n",
      "50000/50000 [==============================] - 6s 125us/step - loss: 0.0637 - acc: 0.9797 - val_loss: 3.9373 - val_acc: 0.5316\n",
      "Epoch 85/100\n",
      "50000/50000 [==============================] - 6s 123us/step - loss: 0.0653 - acc: 0.9791 - val_loss: 3.9192 - val_acc: 0.5265\n",
      "Epoch 86/100\n",
      "50000/50000 [==============================] - 6s 123us/step - loss: 0.0718 - acc: 0.9772 - val_loss: 3.8688 - val_acc: 0.5242\n",
      "Epoch 87/100\n",
      "50000/50000 [==============================] - 6s 124us/step - loss: 0.0699 - acc: 0.9777 - val_loss: 3.9268 - val_acc: 0.5274\n",
      "Epoch 88/100\n",
      "50000/50000 [==============================] - 6s 123us/step - loss: 0.0807 - acc: 0.9736 - val_loss: 3.8764 - val_acc: 0.5251\n",
      "Epoch 89/100\n",
      "50000/50000 [==============================] - 6s 123us/step - loss: 0.0635 - acc: 0.9797 - val_loss: 3.8837 - val_acc: 0.5297\n",
      "Epoch 90/100\n",
      "50000/50000 [==============================] - 6s 123us/step - loss: 0.0577 - acc: 0.9814 - val_loss: 3.9296 - val_acc: 0.5348\n",
      "Epoch 91/100\n",
      "50000/50000 [==============================] - 6s 123us/step - loss: 0.0916 - acc: 0.9707 - val_loss: 3.7691 - val_acc: 0.5239\n",
      "Epoch 92/100\n",
      "50000/50000 [==============================] - 6s 123us/step - loss: 0.0861 - acc: 0.9730 - val_loss: 3.6582 - val_acc: 0.5328\n",
      "Epoch 93/100\n",
      "50000/50000 [==============================] - 6s 123us/step - loss: 0.0467 - acc: 0.9850 - val_loss: 3.9161 - val_acc: 0.5334\n",
      "Epoch 94/100\n",
      "50000/50000 [==============================] - 6s 123us/step - loss: 0.0642 - acc: 0.9796 - val_loss: 3.8837 - val_acc: 0.5315\n",
      "Epoch 95/100\n",
      "50000/50000 [==============================] - 6s 122us/step - loss: 0.0669 - acc: 0.9789 - val_loss: 3.8801 - val_acc: 0.5309\n",
      "Epoch 96/100\n",
      "50000/50000 [==============================] - 6s 123us/step - loss: 0.0618 - acc: 0.9800 - val_loss: 3.8859 - val_acc: 0.5325\n",
      "Epoch 97/100\n",
      "50000/50000 [==============================] - 6s 123us/step - loss: 0.0689 - acc: 0.9776 - val_loss: 3.9862 - val_acc: 0.5222\n",
      "Epoch 98/100\n",
      "50000/50000 [==============================] - 6s 123us/step - loss: 0.0671 - acc: 0.9785 - val_loss: 3.8894 - val_acc: 0.5318\n",
      "Epoch 99/100\n",
      "50000/50000 [==============================] - 6s 122us/step - loss: 0.0640 - acc: 0.9797 - val_loss: 3.9119 - val_acc: 0.5318\n",
      "Epoch 100/100\n",
      "50000/50000 [==============================] - 6s 123us/step - loss: 0.0786 - acc: 0.9756 - val_loss: 3.9279 - val_acc: 0.5274\n"
     ]
    },
    {
     "data": {
      "text/plain": [
       "<keras.callbacks.History at 0x184c55c89b0>"
      ]
     },
     "execution_count": 8,
     "metadata": {},
     "output_type": "execute_result"
    }
   ],
   "source": [
    "model.fit(x_train, y_train, \n",
    "          epochs=EPOCHS, \n",
    "          batch_size=BATCH_SIZE, \n",
    "          validation_data=(x_test, y_test), \n",
    "          shuffle=True)"
   ]
  },
  {
   "cell_type": "code",
   "execution_count": 9,
   "metadata": {},
   "outputs": [
    {
     "data": {
      "image/png": "[encoded data removed]",
      "text/plain": [
       "<Figure size 432x288 with 1 Axes>"
      ]
     },
     "metadata": {
      "needs_background": "light"
     },
     "output_type": "display_data"
    },
    {
     "data": {
      "image/png": "[encoded data removed]",
      "text/plain": [
       "<Figure size 432x288 with 1 Axes>"
      ]
     },
     "metadata": {
      "needs_background": "light"
     },
     "output_type": "display_data"
    }
   ],
   "source": [
    "import matplotlib.pyplot as plt\n",
    "\n",
    "\n",
    "train_loss = model.history.history[\"loss\"]\n",
    "valid_loss = model.history.history[\"val_loss\"]\n",
    "\n",
    "train_acc = model.history.history[\"acc\"]\n",
    "valid_acc = model.history.history[\"val_acc\"]\n",
    "\n",
    "plt.plot(range(len(train_loss)), train_loss, label=\"train loss\")\n",
    "plt.plot(range(len(valid_loss)), valid_loss, label=\"valid loss\")\n",
    "plt.legend()\n",
    "plt.title(\"Loss\")\n",
    "plt.show()\n",
    "\n",
    "plt.plot(range(len(train_acc)), train_acc, label=\"train accuracy\")\n",
    "plt.plot(range(len(valid_acc)), valid_acc, label=\"valid accuracy\")\n",
    "plt.legend()\n",
    "plt.title(\"Accuracy\")\n",
    "plt.show()"
   ]
  }
 ],
 "metadata": {
  "kernelspec": {
   "display_name": "Python 3",
   "language": "python",
   "name": "python3"
  },
  "language_info": {
   "codemirror_mode": {
    "name": "ipython",
    "version": 3
   },
   "file_extension": ".py",
   "mimetype": "text/x-python",
   "name": "python",
   "nbconvert_exporter": "python",
   "pygments_lexer": "ipython3",
   "version": "3.7.3"
  }
 },
 "nbformat": 4,
 "nbformat_minor": 2
}
