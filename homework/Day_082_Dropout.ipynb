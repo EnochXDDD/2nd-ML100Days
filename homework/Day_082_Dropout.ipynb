{
 "cells": [
  {
   "cell_type": "markdown",
   "metadata": {},
   "source": [
    "## 範例重點\n",
    "* 知道如何在 keras 中加入 dropout\n",
    "* 了解 dropout 中 ratio 的意義與對訓練的影響"
   ]
  },
  {
   "cell_type": "code",
   "execution_count": 1,
   "metadata": {},
   "outputs": [
    {
     "name": "stderr",
     "output_type": "stream",
     "text": [
      "Using TensorFlow backend.\n"
     ]
    }
   ],
   "source": [
    "import os\n",
    "import numpy as np\n",
    "import tensorflow as tf\n",
    "import keras\n",
    "tf.logging.set_verbosity(tf.logging.ERROR)\n",
    "os.environ[\"CUDA_VISIBLE_DEVICES\"] = \"0\""
   ]
  },
  {
   "cell_type": "code",
   "execution_count": 2,
   "metadata": {},
   "outputs": [],
   "source": [
    "train, test = keras.datasets.cifar10.load_data()"
   ]
  },
  {
   "cell_type": "code",
   "execution_count": 3,
   "metadata": {},
   "outputs": [],
   "source": [
    "## 資料前處理\n",
    "def preproc_x(x, flatten=True):\n",
    "    x = x / 255.\n",
    "    if flatten:\n",
    "        x = x.reshape((len(x), -1))\n",
    "    return x\n",
    "\n",
    "def preproc_y(y, num_classes=10):\n",
    "    if y.shape[-1] == 1:\n",
    "        y = keras.utils.to_categorical(y, num_classes)\n",
    "    return y    "
   ]
  },
  {
   "cell_type": "code",
   "execution_count": 4,
   "metadata": {},
   "outputs": [],
   "source": [
    "x_train, y_train = train\n",
    "x_test, y_test = test\n",
    "\n",
    "# 資料前處理 - X 標準化\n",
    "x_train = preproc_x(x_train)\n",
    "x_test = preproc_x(x_test)\n",
    "\n",
    "# 資料前處理 -Y 轉成 onehot\n",
    "y_train = preproc_y(y_train)\n",
    "y_test = preproc_y(y_test)"
   ]
  },
  {
   "cell_type": "code",
   "execution_count": 5,
   "metadata": {},
   "outputs": [],
   "source": [
    "from keras.layers import Dropout\n",
    "\n",
    "\"\"\"\n",
    "建立神經網路，並加入 dropout layer\n",
    "\"\"\"\n",
    "def build_mlp(input_shape, output_units=10, num_neurons=[512, 256, 128], drp_ratio=0.2):\n",
    "    input_layer = keras.layers.Input(input_shape)\n",
    "    \n",
    "    for i, n_units in enumerate(num_neurons):\n",
    "        if i == 0:\n",
    "            x = keras.layers.Dense(units=n_units, \n",
    "                                   activation=\"relu\", \n",
    "                                   name=\"hidden_layer\"+str(i+1))(input_layer)\n",
    "            x = Dropout(drp_ratio)(x)\n",
    "        else:\n",
    "            x = keras.layers.Dense(units=n_units, \n",
    "                                   activation=\"relu\", \n",
    "                                   name=\"hidden_layer\"+str(i+1))(x)\n",
    "            x = Dropout(drp_ratio)(x)\n",
    "    \n",
    "    out = keras.layers.Dense(units=output_units, activation=\"softmax\", name=\"output\")(x)\n",
    "    \n",
    "    model = keras.models.Model(inputs=[input_layer], outputs=[out])\n",
    "    return model"
   ]
  },
  {
   "cell_type": "code",
   "execution_count": 6,
   "metadata": {},
   "outputs": [],
   "source": [
    "## 超參數設定\n",
    "LEARNING_RATE = 1e-3\n",
    "EPOCHS = 50\n",
    "BATCH_SIZE = 256\n",
    "MOMENTUM = 0.95\n",
    "Dropout_EXP = 0.25"
   ]
  },
  {
   "cell_type": "code",
   "execution_count": 7,
   "metadata": {
    "scrolled": true
   },
   "outputs": [
    {
     "name": "stdout",
     "output_type": "stream",
     "text": [
      "_________________________________________________________________\n",
      "Layer (type)                 Output Shape              Param #   \n",
      "=================================================================\n",
      "input_1 (InputLayer)         (None, 3072)              0         \n",
      "_________________________________________________________________\n",
      "hidden_layer1 (Dense)        (None, 512)               1573376   \n",
      "_________________________________________________________________\n",
      "dropout_1 (Dropout)          (None, 512)               0         \n",
      "_________________________________________________________________\n",
      "hidden_layer2 (Dense)        (None, 256)               131328    \n",
      "_________________________________________________________________\n",
      "dropout_2 (Dropout)          (None, 256)               0         \n",
      "_________________________________________________________________\n",
      "hidden_layer3 (Dense)        (None, 128)               32896     \n",
      "_________________________________________________________________\n",
      "dropout_3 (Dropout)          (None, 128)               0         \n",
      "_________________________________________________________________\n",
      "output (Dense)               (None, 10)                1290      \n",
      "=================================================================\n",
      "Total params: 1,738,890\n",
      "Trainable params: 1,738,890\n",
      "Non-trainable params: 0\n",
      "_________________________________________________________________\n",
      "Train on 50000 samples, validate on 10000 samples\n",
      "Epoch 1/50\n",
      "50000/50000 [==============================] - 8s 152us/step - loss: 2.1832 - acc: 0.1891 - val_loss: 1.9853 - val_acc: 0.3022\n",
      "Epoch 2/50\n",
      "50000/50000 [==============================] - 5s 94us/step - loss: 1.9848 - acc: 0.2797 - val_loss: 1.8610 - val_acc: 0.3437\n",
      "Epoch 3/50\n",
      "50000/50000 [==============================] - 5s 95us/step - loss: 1.9053 - acc: 0.3134 - val_loss: 1.7959 - val_acc: 0.3623\n",
      "Epoch 4/50\n",
      "50000/50000 [==============================] - 5s 95us/step - loss: 1.8550 - acc: 0.3322 - val_loss: 1.7471 - val_acc: 0.3810\n",
      "Epoch 5/50\n",
      "50000/50000 [==============================] - 5s 90us/step - loss: 1.8114 - acc: 0.3502 - val_loss: 1.7162 - val_acc: 0.3947\n",
      "Epoch 6/50\n",
      "50000/50000 [==============================] - 5s 97us/step - loss: 1.7799 - acc: 0.3613 - val_loss: 1.6758 - val_acc: 0.4086\n",
      "Epoch 7/50\n",
      "50000/50000 [==============================] - 5s 94us/step - loss: 1.7524 - acc: 0.3724 - val_loss: 1.6516 - val_acc: 0.4149\n",
      "Epoch 8/50\n",
      "50000/50000 [==============================] - 5s 95us/step - loss: 1.7237 - acc: 0.3829 - val_loss: 1.6221 - val_acc: 0.4261\n",
      "Epoch 9/50\n",
      "50000/50000 [==============================] - 5s 93us/step - loss: 1.7025 - acc: 0.3904 - val_loss: 1.6153 - val_acc: 0.4266\n",
      "Epoch 10/50\n",
      "50000/50000 [==============================] - 5s 93us/step - loss: 1.6783 - acc: 0.4010 - val_loss: 1.5845 - val_acc: 0.4387\n",
      "Epoch 11/50\n",
      "50000/50000 [==============================] - 5s 93us/step - loss: 1.6611 - acc: 0.4053 - val_loss: 1.5708 - val_acc: 0.4434\n",
      "Epoch 12/50\n",
      "50000/50000 [==============================] - 5s 95us/step - loss: 1.6453 - acc: 0.4141 - val_loss: 1.5511 - val_acc: 0.4518\n",
      "Epoch 13/50\n",
      "50000/50000 [==============================] - 5s 94us/step - loss: 1.6286 - acc: 0.4217 - val_loss: 1.5361 - val_acc: 0.4591\n",
      "Epoch 14/50\n",
      "50000/50000 [==============================] - 5s 95us/step - loss: 1.6106 - acc: 0.4245 - val_loss: 1.5256 - val_acc: 0.4581\n",
      "Epoch 15/50\n",
      "50000/50000 [==============================] - 5s 92us/step - loss: 1.5943 - acc: 0.4325 - val_loss: 1.5039 - val_acc: 0.4660\n",
      "Epoch 16/50\n",
      "50000/50000 [==============================] - 5s 93us/step - loss: 1.5788 - acc: 0.4387 - val_loss: 1.5043 - val_acc: 0.4682\n",
      "Epoch 17/50\n",
      "50000/50000 [==============================] - 5s 93us/step - loss: 1.5688 - acc: 0.4425 - val_loss: 1.4824 - val_acc: 0.4733\n",
      "Epoch 18/50\n",
      "50000/50000 [==============================] - 5s 94us/step - loss: 1.5529 - acc: 0.4490 - val_loss: 1.4756 - val_acc: 0.4791\n",
      "Epoch 19/50\n",
      "50000/50000 [==============================] - 5s 94us/step - loss: 1.5382 - acc: 0.4532 - val_loss: 1.4633 - val_acc: 0.4794\n",
      "Epoch 20/50\n",
      "50000/50000 [==============================] - 5s 94us/step - loss: 1.5284 - acc: 0.4585 - val_loss: 1.4658 - val_acc: 0.4762\n",
      "Epoch 21/50\n",
      "50000/50000 [==============================] - 5s 94us/step - loss: 1.5181 - acc: 0.4601 - val_loss: 1.4498 - val_acc: 0.4851\n",
      "Epoch 22/50\n",
      "50000/50000 [==============================] - 5s 95us/step - loss: 1.5028 - acc: 0.4658 - val_loss: 1.4425 - val_acc: 0.4855\n",
      "Epoch 23/50\n",
      "50000/50000 [==============================] - 5s 95us/step - loss: 1.4946 - acc: 0.4650 - val_loss: 1.4325 - val_acc: 0.4982\n",
      "Epoch 24/50\n",
      "50000/50000 [==============================] - 5s 93us/step - loss: 1.4847 - acc: 0.4732 - val_loss: 1.4214 - val_acc: 0.4945\n",
      "Epoch 25/50\n",
      "50000/50000 [==============================] - 5s 94us/step - loss: 1.4724 - acc: 0.4763 - val_loss: 1.4165 - val_acc: 0.4954\n",
      "Epoch 26/50\n",
      "50000/50000 [==============================] - 5s 96us/step - loss: 1.4649 - acc: 0.4794 - val_loss: 1.4082 - val_acc: 0.4958\n",
      "Epoch 27/50\n",
      "50000/50000 [==============================] - 5s 94us/step - loss: 1.4503 - acc: 0.4831 - val_loss: 1.4046 - val_acc: 0.5013\n",
      "Epoch 28/50\n",
      "50000/50000 [==============================] - 5s 95us/step - loss: 1.4445 - acc: 0.4869 - val_loss: 1.4107 - val_acc: 0.4967\n",
      "Epoch 29/50\n",
      "50000/50000 [==============================] - 5s 96us/step - loss: 1.4354 - acc: 0.4894 - val_loss: 1.4009 - val_acc: 0.4971\n",
      "Epoch 30/50\n",
      "50000/50000 [==============================] - 5s 96us/step - loss: 1.4247 - acc: 0.4928 - val_loss: 1.3868 - val_acc: 0.5036\n",
      "Epoch 31/50\n",
      "50000/50000 [==============================] - 5s 95us/step - loss: 1.4213 - acc: 0.4950 - val_loss: 1.3814 - val_acc: 0.5071\n",
      "Epoch 32/50\n",
      "50000/50000 [==============================] - 5s 95us/step - loss: 1.4163 - acc: 0.4955 - val_loss: 1.3777 - val_acc: 0.5083\n",
      "Epoch 33/50\n",
      "50000/50000 [==============================] - 5s 95us/step - loss: 1.4050 - acc: 0.4989 - val_loss: 1.3764 - val_acc: 0.5125\n",
      "Epoch 34/50\n",
      "50000/50000 [==============================] - 5s 96us/step - loss: 1.3936 - acc: 0.5027 - val_loss: 1.3640 - val_acc: 0.5163\n",
      "Epoch 35/50\n",
      "50000/50000 [==============================] - 5s 96us/step - loss: 1.3849 - acc: 0.5045 - val_loss: 1.3631 - val_acc: 0.5139\n",
      "Epoch 36/50\n",
      "50000/50000 [==============================] - 5s 96us/step - loss: 1.3833 - acc: 0.5082 - val_loss: 1.3588 - val_acc: 0.5158\n",
      "Epoch 37/50\n",
      "50000/50000 [==============================] - 5s 96us/step - loss: 1.3772 - acc: 0.5068 - val_loss: 1.3549 - val_acc: 0.5114\n",
      "Epoch 38/50\n",
      "50000/50000 [==============================] - 5s 96us/step - loss: 1.3688 - acc: 0.5096 - val_loss: 1.3473 - val_acc: 0.5172\n",
      "Epoch 39/50\n",
      "50000/50000 [==============================] - 5s 96us/step - loss: 1.3570 - acc: 0.5164 - val_loss: 1.3470 - val_acc: 0.5163\n",
      "Epoch 40/50\n",
      "50000/50000 [==============================] - 5s 96us/step - loss: 1.3558 - acc: 0.5170 - val_loss: 1.3388 - val_acc: 0.5212\n",
      "Epoch 41/50\n",
      "50000/50000 [==============================] - 5s 97us/step - loss: 1.3435 - acc: 0.5226 - val_loss: 1.3363 - val_acc: 0.5307\n",
      "Epoch 42/50\n",
      "50000/50000 [==============================] - 5s 96us/step - loss: 1.3374 - acc: 0.5239 - val_loss: 1.3324 - val_acc: 0.5275\n",
      "Epoch 43/50\n",
      "50000/50000 [==============================] - 5s 94us/step - loss: 1.3309 - acc: 0.5248 - val_loss: 1.3274 - val_acc: 0.5242\n",
      "Epoch 44/50\n",
      "50000/50000 [==============================] - 5s 95us/step - loss: 1.3177 - acc: 0.5306 - val_loss: 1.3287 - val_acc: 0.5286\n",
      "Epoch 45/50\n",
      "50000/50000 [==============================] - 5s 97us/step - loss: 1.3210 - acc: 0.5270 - val_loss: 1.3319 - val_acc: 0.5269\n",
      "Epoch 46/50\n",
      "50000/50000 [==============================] - 5s 96us/step - loss: 1.3103 - acc: 0.5319 - val_loss: 1.3254 - val_acc: 0.5248\n",
      "Epoch 47/50\n",
      "50000/50000 [==============================] - 5s 96us/step - loss: 1.3037 - acc: 0.5344 - val_loss: 1.3399 - val_acc: 0.5240\n",
      "Epoch 48/50\n",
      "50000/50000 [==============================] - 5s 96us/step - loss: 1.3000 - acc: 0.5357 - val_loss: 1.3169 - val_acc: 0.5351\n",
      "Epoch 49/50\n",
      "50000/50000 [==============================] - 5s 96us/step - loss: 1.2936 - acc: 0.5378 - val_loss: 1.3121 - val_acc: 0.5344\n",
      "Epoch 50/50\n",
      "50000/50000 [==============================] - 5s 96us/step - loss: 1.2894 - acc: 0.5397 - val_loss: 1.3217 - val_acc: 0.5294\n"
     ]
    }
   ],
   "source": [
    "model = build_mlp(input_shape=x_train.shape[1:], drp_ratio=Dropout_EXP)\n",
    "model.summary()\n",
    "optimizer = keras.optimizers.SGD(lr=LEARNING_RATE, nesterov=True, momentum=MOMENTUM)\n",
    "model.compile(loss=\"categorical_crossentropy\", metrics=[\"accuracy\"], optimizer=optimizer)\n",
    "\n",
    "model.fit(x_train, y_train, \n",
    "          epochs=EPOCHS, \n",
    "          batch_size=BATCH_SIZE, \n",
    "          validation_data=(x_test, y_test), \n",
    "          shuffle=True)\n",
    "\n",
    "# Collect results\n",
    "train_loss = model.history.history[\"loss\"]\n",
    "valid_loss = model.history.history[\"val_loss\"]\n",
    "train_acc = model.history.history[\"acc\"]\n",
    "valid_acc = model.history.history[\"val_acc\"]"
   ]
  },
  {
   "cell_type": "code",
   "execution_count": 8,
   "metadata": {},
   "outputs": [
    {
     "data": {
      "image/png": "[encoded data removed]",
      "text/plain": [
       "<Figure size 432x288 with 1 Axes>"
      ]
     },
     "metadata": {
      "needs_background": "light"
     },
     "output_type": "display_data"
    },
    {
     "data": {
      "image/png": "[encoded data removed]",
      "text/plain": [
       "<Figure size 432x288 with 1 Axes>"
      ]
     },
     "metadata": {
      "needs_background": "light"
     },
     "output_type": "display_data"
    }
   ],
   "source": [
    "import matplotlib.pyplot as plt\n",
    "%matplotlib inline\n",
    "\n",
    "plt.plot(range(len(train_loss)), train_loss, label=\"train loss\")\n",
    "plt.plot(range(len(valid_loss)), valid_loss, label=\"valid loss\")\n",
    "plt.legend()\n",
    "plt.title(\"Loss\")\n",
    "plt.show()\n",
    "\n",
    "plt.plot(range(len(train_acc)), train_acc, label=\"train accuracy\")\n",
    "plt.plot(range(len(valid_acc)), valid_acc, label=\"valid accuracy\")\n",
    "plt.legend()\n",
    "plt.title(\"Accuracy\")\n",
    "plt.show()"
   ]
  },
  {
   "cell_type": "markdown",
   "metadata": {},
   "source": [
    "## Work\n",
    "1. 請比較使用不同層數以及不同 Dropout rate 對訓練的效果\n",
    "2. 將 optimizer 改成使用 Adam 並加上適當的 dropout rate 檢視結果"
   ]
  }
 ],
 "metadata": {
  "kernelspec": {
   "display_name": "Python 3",
   "language": "python",
   "name": "python3"
  },
  "language_info": {
   "codemirror_mode": {
    "name": "ipython",
    "version": 3
   },
   "file_extension": ".py",
   "mimetype": "text/x-python",
   "name": "python",
   "nbconvert_exporter": "python",
   "pygments_lexer": "ipython3",
   "version": "3.7.3"
  }
 },
 "nbformat": 4,
 "nbformat_minor": 2
}
