{
 "cells": [
  {
   "cell_type": "markdown",
   "metadata": {},
   "source": [
    "## 範例重點\n",
    "* 學習如何在 keras 中加入 EarlyStop\n",
    "* 知道如何設定監控目標\n",
    "* 比較有無 earlystopping 對 validation 的影響"
   ]
  },
  {
   "cell_type": "code",
   "execution_count": 1,
   "metadata": {},
   "outputs": [
    {
     "name": "stderr",
     "output_type": "stream",
     "text": [
      "Using TensorFlow backend.\n"
     ]
    }
   ],
   "source": [
    "import os\n",
    "import numpy as np\n",
    "import tensorflow as tf\n",
    "import keras\n",
    "tf.logging.set_verbosity(tf.logging.ERROR)\n",
    "os.environ[\"CUDA_VISIBLE_DEVICES\"] = \"0\""
   ]
  },
  {
   "cell_type": "code",
   "execution_count": 2,
   "metadata": {},
   "outputs": [],
   "source": [
    "train, test = keras.datasets.cifar10.load_data()"
   ]
  },
  {
   "cell_type": "code",
   "execution_count": 3,
   "metadata": {},
   "outputs": [],
   "source": [
    "## 資料前處理\n",
    "def preproc_x(x, flatten=True):\n",
    "    x = x / 255.\n",
    "    if flatten:\n",
    "        x = x.reshape((len(x), -1))\n",
    "    return x\n",
    "\n",
    "def preproc_y(y, num_classes=10):\n",
    "    if y.shape[-1] == 1:\n",
    "        y = keras.utils.to_categorical(y, num_classes)\n",
    "    return y    "
   ]
  },
  {
   "cell_type": "code",
   "execution_count": 4,
   "metadata": {},
   "outputs": [],
   "source": [
    "x_train, y_train = train\n",
    "x_test, y_test = test\n",
    "\n",
    "# 資料前處理 - X 標準化\n",
    "x_train = preproc_x(x_train)\n",
    "x_test = preproc_x(x_test)\n",
    "\n",
    "# 資料前處理 -Y 轉成 onehot\n",
    "y_train = preproc_y(y_train)\n",
    "y_test = preproc_y(y_test)"
   ]
  },
  {
   "cell_type": "code",
   "execution_count": 5,
   "metadata": {},
   "outputs": [],
   "source": [
    "from keras.layers import BatchNormalization\n",
    "\n",
    "\"\"\"\n",
    "建立神經網路，並加入 BN layer\n",
    "\"\"\"\n",
    "def build_mlp(input_shape, output_units=10, num_neurons=[512, 256, 128]):\n",
    "    input_layer = keras.layers.Input(input_shape)\n",
    "    \n",
    "    for i, n_units in enumerate(num_neurons):\n",
    "        if i == 0:\n",
    "            x = keras.layers.Dense(units=n_units, \n",
    "                                   activation=\"relu\", \n",
    "                                   name=\"hidden_layer\"+str(i+1))(input_layer)\n",
    "            x = BatchNormalization()(x)\n",
    "        else:\n",
    "            x = keras.layers.Dense(units=n_units, \n",
    "                                   activation=\"relu\", \n",
    "                                   name=\"hidden_layer\"+str(i+1))(x)\n",
    "            x = BatchNormalization()(x)\n",
    "    \n",
    "    out = keras.layers.Dense(units=output_units, activation=\"softmax\", name=\"output\")(x)\n",
    "    \n",
    "    model = keras.models.Model(inputs=[input_layer], outputs=[out])\n",
    "    return model"
   ]
  },
  {
   "cell_type": "code",
   "execution_count": 6,
   "metadata": {},
   "outputs": [],
   "source": [
    "## 超參數設定\n",
    "LEARNING_RATE = 1e-3\n",
    "EPOCHS = 50\n",
    "BATCH_SIZE = 16384\n",
    "MOMENTUM = 0.95"
   ]
  },
  {
   "cell_type": "code",
   "execution_count": 7,
   "metadata": {},
   "outputs": [],
   "source": [
    "\"\"\"\n",
    "# 載入 Callbacks, 並將 monitor 設定為監控 validation loss\n",
    "\"\"\"\n",
    "from keras.callbacks import EarlyStopping\n",
    "\n",
    "earlystop = EarlyStopping(monitor=\"val_loss\", \n",
    "                          patience=5, \n",
    "                          verbose=1\n",
    "                          )"
   ]
  },
  {
   "cell_type": "code",
   "execution_count": 8,
   "metadata": {
    "scrolled": true
   },
   "outputs": [
    {
     "name": "stdout",
     "output_type": "stream",
     "text": [
      "_________________________________________________________________\n",
      "Layer (type)                 Output Shape              Param #   \n",
      "=================================================================\n",
      "input_1 (InputLayer)         (None, 3072)              0         \n",
      "_________________________________________________________________\n",
      "hidden_layer1 (Dense)        (None, 512)               1573376   \n",
      "_________________________________________________________________\n",
      "batch_normalization_1 (Batch (None, 512)               2048      \n",
      "_________________________________________________________________\n",
      "hidden_layer2 (Dense)        (None, 256)               131328    \n",
      "_________________________________________________________________\n",
      "batch_normalization_2 (Batch (None, 256)               1024      \n",
      "_________________________________________________________________\n",
      "hidden_layer3 (Dense)        (None, 128)               32896     \n",
      "_________________________________________________________________\n",
      "batch_normalization_3 (Batch (None, 128)               512       \n",
      "_________________________________________________________________\n",
      "output (Dense)               (None, 10)                1290      \n",
      "=================================================================\n",
      "Total params: 1,742,474\n",
      "Trainable params: 1,740,682\n",
      "Non-trainable params: 1,792\n",
      "_________________________________________________________________\n",
      "Train on 50000 samples, validate on 10000 samples\n",
      "Epoch 1/50\n",
      "50000/50000 [==============================] - 6s 120us/step - loss: 3.1136 - acc: 0.0892 - val_loss: 2.8872 - val_acc: 0.1321\n",
      "Epoch 2/50\n",
      "50000/50000 [==============================] - 3s 57us/step - loss: 2.7915 - acc: 0.1297 - val_loss: 2.7595 - val_acc: 0.1796\n",
      "Epoch 3/50\n",
      "50000/50000 [==============================] - 3s 57us/step - loss: 2.4954 - acc: 0.1930 - val_loss: 2.7496 - val_acc: 0.2021\n",
      "Epoch 4/50\n",
      "50000/50000 [==============================] - 3s 54us/step - loss: 2.3058 - acc: 0.2423 - val_loss: 2.7432 - val_acc: 0.2188\n",
      "Epoch 5/50\n",
      "50000/50000 [==============================] - 3s 55us/step - loss: 2.1839 - acc: 0.2758 - val_loss: 2.6971 - val_acc: 0.2326\n",
      "Epoch 6/50\n",
      "50000/50000 [==============================] - 3s 52us/step - loss: 2.0985 - acc: 0.2989 - val_loss: 2.6051 - val_acc: 0.2488\n",
      "Epoch 7/50\n",
      "50000/50000 [==============================] - 3s 53us/step - loss: 2.0348 - acc: 0.3150 - val_loss: 2.4948 - val_acc: 0.2602\n",
      "Epoch 8/50\n",
      "50000/50000 [==============================] - 3s 58us/step - loss: 1.9827 - acc: 0.3281 - val_loss: 2.3819 - val_acc: 0.2738\n",
      "Epoch 9/50\n",
      "50000/50000 [==============================] - 3s 55us/step - loss: 1.9374 - acc: 0.3397 - val_loss: 2.2754 - val_acc: 0.2864\n",
      "Epoch 10/50\n",
      "50000/50000 [==============================] - 3s 56us/step - loss: 1.8993 - acc: 0.3491 - val_loss: 2.1771 - val_acc: 0.3012\n",
      "Epoch 11/50\n",
      "50000/50000 [==============================] - 3s 53us/step - loss: 1.8660 - acc: 0.3584 - val_loss: 2.0938 - val_acc: 0.3163\n",
      "Epoch 12/50\n",
      "50000/50000 [==============================] - 3s 55us/step - loss: 1.8367 - acc: 0.3661 - val_loss: 2.0354 - val_acc: 0.3230\n",
      "Epoch 13/50\n",
      "50000/50000 [==============================] - 3s 54us/step - loss: 1.8110 - acc: 0.3734 - val_loss: 2.0015 - val_acc: 0.3319\n",
      "Epoch 14/50\n",
      "50000/50000 [==============================] - 3s 56us/step - loss: 1.7888 - acc: 0.3801 - val_loss: 1.9787 - val_acc: 0.3403\n",
      "Epoch 15/50\n",
      "50000/50000 [==============================] - 3s 54us/step - loss: 1.7697 - acc: 0.3866 - val_loss: 1.9592 - val_acc: 0.3422\n",
      "Epoch 16/50\n",
      "50000/50000 [==============================] - 3s 56us/step - loss: 1.7519 - acc: 0.3920 - val_loss: 1.9434 - val_acc: 0.3463\n",
      "Epoch 17/50\n",
      "50000/50000 [==============================] - 3s 53us/step - loss: 1.7349 - acc: 0.3973 - val_loss: 1.9258 - val_acc: 0.3509\n",
      "Epoch 18/50\n",
      "50000/50000 [==============================] - 3s 54us/step - loss: 1.7193 - acc: 0.4024 - val_loss: 1.9044 - val_acc: 0.3534\n",
      "Epoch 19/50\n",
      "50000/50000 [==============================] - 3s 53us/step - loss: 1.7050 - acc: 0.4066 - val_loss: 1.8776 - val_acc: 0.3582\n",
      "Epoch 20/50\n",
      "50000/50000 [==============================] - 3s 52us/step - loss: 1.6916 - acc: 0.4116 - val_loss: 1.8500 - val_acc: 0.3671\n",
      "Epoch 21/50\n",
      "50000/50000 [==============================] - 3s 56us/step - loss: 1.6787 - acc: 0.4159 - val_loss: 1.8286 - val_acc: 0.3728\n",
      "Epoch 22/50\n",
      "50000/50000 [==============================] - 3s 55us/step - loss: 1.6674 - acc: 0.4179 - val_loss: 1.8129 - val_acc: 0.3779\n",
      "Epoch 23/50\n",
      "50000/50000 [==============================] - 3s 52us/step - loss: 1.6565 - acc: 0.4215 - val_loss: 1.8007 - val_acc: 0.3807\n",
      "Epoch 24/50\n",
      "50000/50000 [==============================] - 3s 54us/step - loss: 1.6466 - acc: 0.4243 - val_loss: 1.7905 - val_acc: 0.3852\n",
      "Epoch 25/50\n",
      "50000/50000 [==============================] - 3s 53us/step - loss: 1.6367 - acc: 0.4284 - val_loss: 1.7783 - val_acc: 0.3901\n",
      "Epoch 26/50\n",
      "50000/50000 [==============================] - 3s 53us/step - loss: 1.6277 - acc: 0.4301 - val_loss: 1.7668 - val_acc: 0.3927\n",
      "Epoch 27/50\n",
      "50000/50000 [==============================] - 3s 53us/step - loss: 1.6189 - acc: 0.4339 - val_loss: 1.7578 - val_acc: 0.3984\n",
      "Epoch 28/50\n",
      "50000/50000 [==============================] - 3s 55us/step - loss: 1.6103 - acc: 0.4368 - val_loss: 1.7518 - val_acc: 0.3975\n",
      "Epoch 29/50\n",
      "50000/50000 [==============================] - 3s 53us/step - loss: 1.6018 - acc: 0.4401 - val_loss: 1.7473 - val_acc: 0.3994\n",
      "Epoch 30/50\n",
      "50000/50000 [==============================] - 3s 53us/step - loss: 1.5937 - acc: 0.4433 - val_loss: 1.7417 - val_acc: 0.3997\n",
      "Epoch 31/50\n",
      "50000/50000 [==============================] - 3s 54us/step - loss: 1.5861 - acc: 0.4455 - val_loss: 1.7337 - val_acc: 0.4048\n",
      "Epoch 32/50\n",
      "50000/50000 [==============================] - 3s 54us/step - loss: 1.5788 - acc: 0.4485 - val_loss: 1.7257 - val_acc: 0.4057\n",
      "Epoch 33/50\n",
      "50000/50000 [==============================] - 3s 52us/step - loss: 1.5716 - acc: 0.4519 - val_loss: 1.7184 - val_acc: 0.4044\n",
      "Epoch 34/50\n",
      "50000/50000 [==============================] - 3s 53us/step - loss: 1.5645 - acc: 0.4542 - val_loss: 1.7109 - val_acc: 0.4048\n",
      "Epoch 35/50\n",
      "50000/50000 [==============================] - 3s 53us/step - loss: 1.5579 - acc: 0.4569 - val_loss: 1.7027 - val_acc: 0.4060\n",
      "Epoch 36/50\n",
      "50000/50000 [==============================] - 3s 53us/step - loss: 1.5513 - acc: 0.4587 - val_loss: 1.6956 - val_acc: 0.4086\n",
      "Epoch 37/50\n",
      "50000/50000 [==============================] - 3s 53us/step - loss: 1.5447 - acc: 0.4602 - val_loss: 1.6902 - val_acc: 0.4078\n",
      "Epoch 38/50\n",
      "50000/50000 [==============================] - 3s 61us/step - loss: 1.5386 - acc: 0.4632 - val_loss: 1.6839 - val_acc: 0.4127\n",
      "Epoch 39/50\n",
      "50000/50000 [==============================] - 3s 53us/step - loss: 1.5326 - acc: 0.4654 - val_loss: 1.6772 - val_acc: 0.4176\n",
      "Epoch 40/50\n",
      "50000/50000 [==============================] - 3s 54us/step - loss: 1.5274 - acc: 0.4669 - val_loss: 1.6719 - val_acc: 0.4198\n",
      "Epoch 41/50\n",
      "50000/50000 [==============================] - 3s 53us/step - loss: 1.5220 - acc: 0.4690 - val_loss: 1.6682 - val_acc: 0.4199\n",
      "Epoch 42/50\n",
      "50000/50000 [==============================] - 3s 56us/step - loss: 1.5166 - acc: 0.4706 - val_loss: 1.6644 - val_acc: 0.4211\n",
      "Epoch 43/50\n",
      "50000/50000 [==============================] - 3s 52us/step - loss: 1.5112 - acc: 0.4731 - val_loss: 1.6618 - val_acc: 0.4214\n",
      "Epoch 44/50\n",
      "50000/50000 [==============================] - 3s 54us/step - loss: 1.5064 - acc: 0.4746 - val_loss: 1.6591 - val_acc: 0.4234\n",
      "Epoch 45/50\n",
      "50000/50000 [==============================] - 3s 55us/step - loss: 1.5009 - acc: 0.4766 - val_loss: 1.6538 - val_acc: 0.4248\n",
      "Epoch 46/50\n",
      "50000/50000 [==============================] - 3s 53us/step - loss: 1.4962 - acc: 0.4776 - val_loss: 1.6478 - val_acc: 0.4272\n",
      "Epoch 47/50\n",
      "50000/50000 [==============================] - 3s 57us/step - loss: 1.4910 - acc: 0.4793 - val_loss: 1.6427 - val_acc: 0.4280\n",
      "Epoch 48/50\n",
      "50000/50000 [==============================] - 3s 55us/step - loss: 1.4856 - acc: 0.4822 - val_loss: 1.6386 - val_acc: 0.4291\n",
      "Epoch 49/50\n",
      "50000/50000 [==============================] - 3s 54us/step - loss: 1.4808 - acc: 0.4845 - val_loss: 1.6350 - val_acc: 0.4307\n",
      "Epoch 50/50\n",
      "50000/50000 [==============================] - 3s 56us/step - loss: 1.4760 - acc: 0.4862 - val_loss: 1.6314 - val_acc: 0.4307\n"
     ]
    }
   ],
   "source": [
    "model = build_mlp(input_shape=x_train.shape[1:])\n",
    "model.summary()\n",
    "optimizer = keras.optimizers.SGD(lr=LEARNING_RATE, nesterov=True, momentum=MOMENTUM)\n",
    "model.compile(loss=\"categorical_crossentropy\", metrics=[\"accuracy\"], optimizer=optimizer)\n",
    "\n",
    "model.fit(x_train, y_train, \n",
    "          epochs=EPOCHS, \n",
    "          batch_size=BATCH_SIZE, \n",
    "          validation_data=(x_test, y_test), \n",
    "          shuffle=True,\n",
    "          callbacks=[earlystop]\n",
    "         )\n",
    "\n",
    "# Collect results\n",
    "train_loss = model.history.history[\"loss\"]\n",
    "valid_loss = model.history.history[\"val_loss\"]\n",
    "train_acc = model.history.history[\"acc\"]\n",
    "valid_acc = model.history.history[\"val_acc\"]"
   ]
  },
  {
   "cell_type": "code",
   "execution_count": 9,
   "metadata": {},
   "outputs": [
    {
     "data": {
      "image/png": "[encoded data removed]",
      "text/plain": [
       "<Figure size 432x288 with 1 Axes>"
      ]
     },
     "metadata": {
      "needs_background": "light"
     },
     "output_type": "display_data"
    },
    {
     "data": {
      "image/png": "[encoded data removed]",
      "text/plain": [
       "<Figure size 432x288 with 1 Axes>"
      ]
     },
     "metadata": {
      "needs_background": "light"
     },
     "output_type": "display_data"
    }
   ],
   "source": [
    "import matplotlib.pyplot as plt\n",
    "%matplotlib inline\n",
    "\n",
    "plt.plot(range(len(train_loss)), train_loss, label=\"train loss\")\n",
    "plt.plot(range(len(valid_loss)), valid_loss, label=\"valid loss\")\n",
    "plt.legend()\n",
    "plt.title(\"Loss\")\n",
    "plt.show()\n",
    "\n",
    "plt.plot(range(len(train_acc)), train_acc, label=\"train accuracy\")\n",
    "plt.plot(range(len(valid_acc)), valid_acc, label=\"valid accuracy\")\n",
    "plt.legend()\n",
    "plt.title(\"Accuracy\")\n",
    "plt.show()"
   ]
  },
  {
   "cell_type": "markdown",
   "metadata": {},
   "source": [
    "## Work\n",
    "1. 試改變 monitor \"Validation Accuracy\" 並比較結果\n",
    "2. 調整 earlystop 的等待次數至 10, 25 並比較結果"
   ]
  }
 ],
 "metadata": {
  "kernelspec": {
   "display_name": "Python 3",
   "language": "python",
   "name": "python3"
  },
  "language_info": {
   "codemirror_mode": {
    "name": "ipython",
    "version": 3
   },
   "file_extension": ".py",
   "mimetype": "text/x-python",
   "name": "python",
   "nbconvert_exporter": "python",
   "pygments_lexer": "ipython3",
   "version": "3.7.3"
  }
 },
 "nbformat": 4,
 "nbformat_minor": 2
}
