{
 "cells": [
  {
   "cell_type": "markdown",
   "metadata": {},
   "source": [
    "## 範例重點\n",
    "* 學習如何在 keras 中加入 reduce learning rate\n",
    "* 知道如何設定 reduce_lr 的監控目標\n",
    "* 比較使用有無使用 reduce_lr 時的 performance"
   ]
  },
  {
   "cell_type": "code",
   "execution_count": 1,
   "metadata": {},
   "outputs": [
    {
     "name": "stderr",
     "output_type": "stream",
     "text": [
      "Using TensorFlow backend.\n"
     ]
    }
   ],
   "source": [
    "import os\n",
    "import numpy as np\n",
    "import tensorflow as tf\n",
    "import keras\n",
    "tf.logging.set_verbosity(tf.logging.ERROR)\n",
    "os.environ[\"CUDA_VISIBLE_DEVICES\"] = \"0\""
   ]
  },
  {
   "cell_type": "code",
   "execution_count": 2,
   "metadata": {},
   "outputs": [],
   "source": [
    "train, test = keras.datasets.cifar10.load_data()"
   ]
  },
  {
   "cell_type": "code",
   "execution_count": 3,
   "metadata": {},
   "outputs": [],
   "source": [
    "## 資料前處理\n",
    "def preproc_x(x, flatten=True):\n",
    "    x = x / 255.\n",
    "    if flatten:\n",
    "        x = x.reshape((len(x), -1))\n",
    "    return x\n",
    "\n",
    "def preproc_y(y, num_classes=10):\n",
    "    if y.shape[-1] == 1:\n",
    "        y = keras.utils.to_categorical(y, num_classes)\n",
    "    return y    "
   ]
  },
  {
   "cell_type": "code",
   "execution_count": 4,
   "metadata": {},
   "outputs": [],
   "source": [
    "x_train, y_train = train\n",
    "x_test, y_test = test\n",
    "\n",
    "# 資料前處理 - X 標準化\n",
    "x_train = preproc_x(x_train)\n",
    "x_test = preproc_x(x_test)\n",
    "\n",
    "# 資料前處理 -Y 轉成 onehot\n",
    "y_train = preproc_y(y_train)\n",
    "y_test = preproc_y(y_test)"
   ]
  },
  {
   "cell_type": "code",
   "execution_count": 5,
   "metadata": {},
   "outputs": [],
   "source": [
    "from keras.layers import BatchNormalization\n",
    "\n",
    "\"\"\"\n",
    "建立神經網路，並加入 BN layer\n",
    "\"\"\"\n",
    "def build_mlp(input_shape, output_units=10, num_neurons=[512, 256, 128]):\n",
    "    input_layer = keras.layers.Input(input_shape)\n",
    "    \n",
    "    for i, n_units in enumerate(num_neurons):\n",
    "        if i == 0:\n",
    "            x = keras.layers.Dense(units=n_units, \n",
    "                                   activation=\"relu\", \n",
    "                                   name=\"hidden_layer\"+str(i+1))(input_layer)\n",
    "            x = BatchNormalization()(x)\n",
    "        else:\n",
    "            x = keras.layers.Dense(units=n_units, \n",
    "                                   activation=\"relu\", \n",
    "                                   name=\"hidden_layer\"+str(i+1))(x)\n",
    "            x = BatchNormalization()(x)\n",
    "    \n",
    "    out = keras.layers.Dense(units=output_units, activation=\"softmax\", name=\"output\")(x)\n",
    "    \n",
    "    model = keras.models.Model(inputs=[input_layer], outputs=[out])\n",
    "    return model"
   ]
  },
  {
   "cell_type": "code",
   "execution_count": 6,
   "metadata": {},
   "outputs": [],
   "source": [
    "## 超參數設定\n",
    "LEARNING_RATE = 1e-3\n",
    "EPOCHS = 50\n",
    "BATCH_SIZE = 16384\n",
    "MOMENTUM = 0.95"
   ]
  },
  {
   "cell_type": "code",
   "execution_count": 7,
   "metadata": {},
   "outputs": [],
   "source": [
    "\"\"\"\n",
    "# 載入 Callbacks, 並設定監控目標為 validation loss\n",
    "\"\"\"\n",
    "from keras.callbacks import ReduceLROnPlateau\n",
    "\n",
    "reduce_lr = ReduceLROnPlateau(factor=0.5, \n",
    "                              min_lr=1e-12, \n",
    "                              monitor='val_loss', \n",
    "                              patience=5, \n",
    "                              verbose=1)"
   ]
  },
  {
   "cell_type": "code",
   "execution_count": 8,
   "metadata": {
    "scrolled": true
   },
   "outputs": [
    {
     "name": "stdout",
     "output_type": "stream",
     "text": [
      "_________________________________________________________________\n",
      "Layer (type)                 Output Shape              Param #   \n",
      "=================================================================\n",
      "input_1 (InputLayer)         (None, 3072)              0         \n",
      "_________________________________________________________________\n",
      "hidden_layer1 (Dense)        (None, 512)               1573376   \n",
      "_________________________________________________________________\n",
      "batch_normalization_1 (Batch (None, 512)               2048      \n",
      "_________________________________________________________________\n",
      "hidden_layer2 (Dense)        (None, 256)               131328    \n",
      "_________________________________________________________________\n",
      "batch_normalization_2 (Batch (None, 256)               1024      \n",
      "_________________________________________________________________\n",
      "hidden_layer3 (Dense)        (None, 128)               32896     \n",
      "_________________________________________________________________\n",
      "batch_normalization_3 (Batch (None, 128)               512       \n",
      "_________________________________________________________________\n",
      "output (Dense)               (None, 10)                1290      \n",
      "=================================================================\n",
      "Total params: 1,742,474\n",
      "Trainable params: 1,740,682\n",
      "Non-trainable params: 1,792\n",
      "_________________________________________________________________\n",
      "Train on 50000 samples, validate on 10000 samples\n",
      "Epoch 1/50\n",
      "50000/50000 [==============================] - 6s 123us/step - loss: 3.0005 - acc: 0.1178 - val_loss: 2.8350 - val_acc: 0.1572\n",
      "Epoch 2/50\n",
      "50000/50000 [==============================] - 3s 54us/step - loss: 2.7290 - acc: 0.1638 - val_loss: 2.9002 - val_acc: 0.1747\n",
      "Epoch 3/50\n",
      "50000/50000 [==============================] - 3s 58us/step - loss: 2.5024 - acc: 0.2127 - val_loss: 2.8221 - val_acc: 0.1886\n",
      "Epoch 4/50\n",
      "50000/50000 [==============================] - 3s 54us/step - loss: 2.3437 - acc: 0.2456 - val_loss: 2.6426 - val_acc: 0.2123\n",
      "Epoch 5/50\n",
      "50000/50000 [==============================] - 3s 54us/step - loss: 2.2245 - acc: 0.2703 - val_loss: 2.5003 - val_acc: 0.2323\n",
      "Epoch 6/50\n",
      "50000/50000 [==============================] - 3s 54us/step - loss: 2.1336 - acc: 0.2897 - val_loss: 2.4024 - val_acc: 0.2478\n",
      "Epoch 7/50\n",
      "50000/50000 [==============================] - 3s 53us/step - loss: 2.0589 - acc: 0.3049 - val_loss: 2.3310 - val_acc: 0.2607\n",
      "Epoch 8/50\n",
      "50000/50000 [==============================] - 3s 54us/step - loss: 1.9987 - acc: 0.3196 - val_loss: 2.2709 - val_acc: 0.2719\n",
      "Epoch 9/50\n",
      "50000/50000 [==============================] - 3s 53us/step - loss: 1.9468 - acc: 0.3324 - val_loss: 2.2313 - val_acc: 0.2815\n",
      "Epoch 10/50\n",
      "50000/50000 [==============================] - 3s 53us/step - loss: 1.9041 - acc: 0.3440 - val_loss: 2.1902 - val_acc: 0.2935\n",
      "Epoch 11/50\n",
      "50000/50000 [==============================] - 3s 53us/step - loss: 1.8676 - acc: 0.3548 - val_loss: 2.1298 - val_acc: 0.3080\n",
      "Epoch 12/50\n",
      "50000/50000 [==============================] - 3s 53us/step - loss: 1.8368 - acc: 0.3629 - val_loss: 2.0607 - val_acc: 0.3227\n",
      "Epoch 13/50\n",
      "50000/50000 [==============================] - 3s 53us/step - loss: 1.8100 - acc: 0.3709 - val_loss: 1.9940 - val_acc: 0.3304\n",
      "Epoch 14/50\n",
      "50000/50000 [==============================] - 3s 54us/step - loss: 1.7862 - acc: 0.3789 - val_loss: 1.9459 - val_acc: 0.3372\n",
      "Epoch 15/50\n",
      "50000/50000 [==============================] - 3s 53us/step - loss: 1.7656 - acc: 0.3857 - val_loss: 1.9141 - val_acc: 0.3471\n",
      "Epoch 16/50\n",
      "50000/50000 [==============================] - 3s 67us/step - loss: 1.7479 - acc: 0.3911 - val_loss: 1.8874 - val_acc: 0.3556\n",
      "Epoch 17/50\n",
      "50000/50000 [==============================] - 3s 55us/step - loss: 1.7317 - acc: 0.3964 - val_loss: 1.8635 - val_acc: 0.3651\n",
      "Epoch 18/50\n",
      "50000/50000 [==============================] - 3s 53us/step - loss: 1.7158 - acc: 0.4020 - val_loss: 1.8410 - val_acc: 0.3729\n",
      "Epoch 19/50\n",
      "50000/50000 [==============================] - 3s 53us/step - loss: 1.7006 - acc: 0.4067 - val_loss: 1.8207 - val_acc: 0.3770\n",
      "Epoch 20/50\n",
      "50000/50000 [==============================] - 3s 52us/step - loss: 1.6871 - acc: 0.4116 - val_loss: 1.8061 - val_acc: 0.3826\n",
      "Epoch 21/50\n",
      "50000/50000 [==============================] - 3s 56us/step - loss: 1.6749 - acc: 0.4163 - val_loss: 1.7937 - val_acc: 0.3895\n",
      "Epoch 22/50\n",
      "50000/50000 [==============================] - 3s 54us/step - loss: 1.6638 - acc: 0.4208 - val_loss: 1.7828 - val_acc: 0.3898\n",
      "Epoch 23/50\n",
      "50000/50000 [==============================] - 3s 53us/step - loss: 1.6537 - acc: 0.4249 - val_loss: 1.7725 - val_acc: 0.3942\n",
      "Epoch 24/50\n",
      "50000/50000 [==============================] - 3s 54us/step - loss: 1.6439 - acc: 0.4280 - val_loss: 1.7616 - val_acc: 0.3985\n",
      "Epoch 25/50\n",
      "50000/50000 [==============================] - 3s 54us/step - loss: 1.6346 - acc: 0.4328 - val_loss: 1.7514 - val_acc: 0.3985\n",
      "Epoch 26/50\n",
      "50000/50000 [==============================] - 3s 53us/step - loss: 1.6253 - acc: 0.4368 - val_loss: 1.7419 - val_acc: 0.3997\n",
      "Epoch 27/50\n",
      "50000/50000 [==============================] - 3s 53us/step - loss: 1.6169 - acc: 0.4388 - val_loss: 1.7329 - val_acc: 0.4034\n",
      "Epoch 28/50\n",
      "50000/50000 [==============================] - 3s 54us/step - loss: 1.6090 - acc: 0.4418 - val_loss: 1.7247 - val_acc: 0.4102\n",
      "Epoch 29/50\n",
      "50000/50000 [==============================] - 3s 53us/step - loss: 1.6015 - acc: 0.4452 - val_loss: 1.7182 - val_acc: 0.4113\n",
      "Epoch 30/50\n",
      "50000/50000 [==============================] - 3s 52us/step - loss: 1.5942 - acc: 0.4471 - val_loss: 1.7115 - val_acc: 0.4128\n",
      "Epoch 31/50\n",
      "50000/50000 [==============================] - 3s 54us/step - loss: 1.5867 - acc: 0.4493 - val_loss: 1.7012 - val_acc: 0.4164\n",
      "Epoch 32/50\n",
      "50000/50000 [==============================] - 3s 53us/step - loss: 1.5796 - acc: 0.4518 - val_loss: 1.6893 - val_acc: 0.4198\n",
      "Epoch 33/50\n",
      "50000/50000 [==============================] - 3s 57us/step - loss: 1.5727 - acc: 0.4546 - val_loss: 1.6801 - val_acc: 0.4218\n",
      "Epoch 34/50\n",
      "50000/50000 [==============================] - 3s 53us/step - loss: 1.5663 - acc: 0.4571 - val_loss: 1.6738 - val_acc: 0.4240\n",
      "Epoch 35/50\n",
      "50000/50000 [==============================] - 3s 52us/step - loss: 1.5604 - acc: 0.4595 - val_loss: 1.6657 - val_acc: 0.4247\n",
      "Epoch 36/50\n",
      "50000/50000 [==============================] - 3s 54us/step - loss: 1.5539 - acc: 0.4618 - val_loss: 1.6564 - val_acc: 0.4305\n",
      "Epoch 37/50\n",
      "50000/50000 [==============================] - 3s 53us/step - loss: 1.5480 - acc: 0.4627 - val_loss: 1.6488 - val_acc: 0.4336\n",
      "Epoch 38/50\n",
      "50000/50000 [==============================] - 3s 53us/step - loss: 1.5419 - acc: 0.4648 - val_loss: 1.6436 - val_acc: 0.4360\n",
      "Epoch 39/50\n",
      "50000/50000 [==============================] - 3s 54us/step - loss: 1.5364 - acc: 0.4664 - val_loss: 1.6399 - val_acc: 0.4354\n",
      "Epoch 40/50\n",
      "50000/50000 [==============================] - 3s 59us/step - loss: 1.5307 - acc: 0.4693 - val_loss: 1.6364 - val_acc: 0.4338\n",
      "Epoch 41/50\n",
      "50000/50000 [==============================] - 3s 55us/step - loss: 1.5255 - acc: 0.4713 - val_loss: 1.6339 - val_acc: 0.4337\n",
      "Epoch 42/50\n",
      "50000/50000 [==============================] - 3s 54us/step - loss: 1.5205 - acc: 0.4734 - val_loss: 1.6326 - val_acc: 0.4344\n",
      "Epoch 43/50\n",
      "50000/50000 [==============================] - 3s 53us/step - loss: 1.5152 - acc: 0.4752 - val_loss: 1.6318 - val_acc: 0.4344\n",
      "Epoch 44/50\n",
      "50000/50000 [==============================] - 3s 54us/step - loss: 1.5100 - acc: 0.4772 - val_loss: 1.6298 - val_acc: 0.4346\n",
      "Epoch 45/50\n",
      "50000/50000 [==============================] - 3s 52us/step - loss: 1.5054 - acc: 0.4789 - val_loss: 1.6254 - val_acc: 0.4370\n",
      "Epoch 46/50\n",
      "50000/50000 [==============================] - 3s 53us/step - loss: 1.5006 - acc: 0.4816 - val_loss: 1.6178 - val_acc: 0.4398\n",
      "Epoch 47/50\n",
      "50000/50000 [==============================] - 3s 55us/step - loss: 1.4954 - acc: 0.4836 - val_loss: 1.6115 - val_acc: 0.4404\n",
      "Epoch 48/50\n",
      "50000/50000 [==============================] - 3s 53us/step - loss: 1.4910 - acc: 0.4859 - val_loss: 1.6068 - val_acc: 0.4412\n",
      "Epoch 49/50\n",
      "50000/50000 [==============================] - 3s 53us/step - loss: 1.4863 - acc: 0.4871 - val_loss: 1.6021 - val_acc: 0.4438\n",
      "Epoch 50/50\n",
      "50000/50000 [==============================] - 3s 53us/step - loss: 1.4812 - acc: 0.4887 - val_loss: 1.5988 - val_acc: 0.4428\n"
     ]
    }
   ],
   "source": [
    "model = build_mlp(input_shape=x_train.shape[1:])\n",
    "model.summary()\n",
    "optimizer = keras.optimizers.SGD(lr=LEARNING_RATE, nesterov=True, momentum=MOMENTUM)\n",
    "model.compile(loss=\"categorical_crossentropy\", metrics=[\"accuracy\"], optimizer=optimizer)\n",
    "\n",
    "model.fit(x_train, y_train, \n",
    "          epochs=EPOCHS, \n",
    "          batch_size=BATCH_SIZE, \n",
    "          validation_data=(x_test, y_test), \n",
    "          shuffle=True,\n",
    "          callbacks=[reduce_lr]\n",
    "         )\n",
    "\n",
    "# Collect results\n",
    "train_loss = model.history.history[\"loss\"]\n",
    "valid_loss = model.history.history[\"val_loss\"]\n",
    "train_acc = model.history.history[\"acc\"]\n",
    "valid_acc = model.history.history[\"val_acc\"]"
   ]
  },
  {
   "cell_type": "code",
   "execution_count": 9,
   "metadata": {},
   "outputs": [
    {
     "data": {
      "image/png": "[encoded data removed]",
      "text/plain": [
       "<Figure size 432x288 with 1 Axes>"
      ]
     },
     "metadata": {
      "needs_background": "light"
     },
     "output_type": "display_data"
    },
    {
     "data": {
      "image/png": "[encoded data removed]",
      "text/plain": [
       "<Figure size 432x288 with 1 Axes>"
      ]
     },
     "metadata": {
      "needs_background": "light"
     },
     "output_type": "display_data"
    }
   ],
   "source": [
    "import matplotlib.pyplot as plt\n",
    "%matplotlib inline\n",
    "\n",
    "plt.plot(range(len(train_loss)), train_loss, label=\"train loss\")\n",
    "plt.plot(range(len(valid_loss)), valid_loss, label=\"valid loss\")\n",
    "plt.legend()\n",
    "plt.title(\"Loss\")\n",
    "plt.show()\n",
    "\n",
    "plt.plot(range(len(train_acc)), train_acc, label=\"train accuracy\")\n",
    "plt.plot(range(len(valid_acc)), valid_acc, label=\"valid accuracy\")\n",
    "plt.legend()\n",
    "plt.title(\"Accuracy\")\n",
    "plt.show()"
   ]
  },
  {
   "cell_type": "markdown",
   "metadata": {},
   "source": [
    "## Work\n",
    "1. 請改變 reduce_lr 的 patience 和 factor 並比較不同設定下，對訓練/驗證集的影響\n",
    "2. 請將 optimizer 換成 Adam、RMSprop 搭配 reduce_lr 並比較訓練結果"
   ]
  }
 ],
 "metadata": {
  "kernelspec": {
   "display_name": "Python 3",
   "language": "python",
   "name": "python3"
  },
  "language_info": {
   "codemirror_mode": {
    "name": "ipython",
    "version": 3
   },
   "file_extension": ".py",
   "mimetype": "text/x-python",
   "name": "python",
   "nbconvert_exporter": "python",
   "pygments_lexer": "ipython3",
   "version": "3.7.3"
  }
 },
 "nbformat": 4,
 "nbformat_minor": 2
}
