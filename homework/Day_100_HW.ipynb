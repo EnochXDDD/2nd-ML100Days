{
 "cells": [
  {
   "cell_type": "markdown",
   "metadata": {},
   "source": [
    "## 作業\n",
    "礙於不是所有同學都有 GPU ，這邊的範例使用的是簡化版本的 ResNet，確保所有同學都能夠順利訓練!\n",
    "\n",
    "\n",
    "最後一天的作業請閱讀這篇非常詳盡的[文章](https://blog.gtwang.org/programming/keras-resnet-50-pre-trained-model-build-dogs-cats-image-classification-system/)，基本上已經涵蓋了所有訓練　CNN 常用的技巧，請使用所有學過的訓練技巧，盡可能地提高 Cifar-10 的 test data 準確率，截圖你最佳的結果並上傳來完成最後一次的作業吧!\n",
    "\n",
    "另外這些技巧在 Kaggle 上也會被許多人使用，更有人會開發一些新的技巧，例如使把預訓練在 ImageNet 上的模型當成 feature extractor 後，再拿擷取出的特徵重新訓練新的模型，這些技巧再進階的課程我們會在提到，有興趣的同學也可以[參考](https://www.kaggle.com/insaff/img-feature-extraction-with-pretrained-resnet)"
   ]
  },
  {
   "cell_type": "markdown",
   "metadata": {},
   "source": [
    "Train on 50000 samples, validate on 10000 samples\n",
    "Epoch 1/30\n",
    "50000/50000 [==============================] - 224s 4ms/step - loss: 1.8965 - acc: 0.4959 - val_loss: 1.6850 - val_acc: 0.5418\n",
    "Epoch 2/30\n",
    "50000/50000 [==============================] - 212s 4ms/step - loss: 1.3970 - acc: 0.6519 - val_loss: 1.6946 - val_acc: 0.5617\n",
    "Epoch 3/30\n",
    "50000/50000 [==============================] - 212s 4ms/step - loss: 1.1668 - acc: 0.7196 - val_loss: 1.3330 - val_acc: 0.6570\n",
    "Epoch 4/30\n",
    "50000/50000 [==============================] - 213s 4ms/step - loss: 1.0135 - acc: 0.7681 - val_loss: 1.3593 - val_acc: 0.6493\n",
    "Epoch 5/30\n",
    "50000/50000 [==============================] - 230s 5ms/step - loss: 0.9095 - acc: 0.8001 - val_loss: 1.3682 - val_acc: 0.6531\n",
    "Epoch 6/30\n",
    "50000/50000 [==============================] - 216s 4ms/step - loss: 0.8156 - acc: 0.8316 - val_loss: 1.2845 - val_acc: 0.6816\n",
    "Epoch 7/30\n",
    "50000/50000 [==============================] - 216s 4ms/step - loss: 0.7493 - acc: 0.8536 - val_loss: 1.3269 - val_acc: 0.6821\n",
    "Epoch 8/30\n",
    "50000/50000 [==============================] - 213s 4ms/step - loss: 0.6878 - acc: 0.8737 - val_loss: 1.8918 - val_acc: 0.6091\n",
    "Epoch 9/30\n",
    "50000/50000 [==============================] - 218s 4ms/step - loss: 0.6435 - acc: 0.8893 - val_loss: 1.3632 - val_acc: 0.6898\n",
    "Epoch 10/30\n",
    "50000/50000 [==============================] - 215s 4ms/step - loss: 0.6050 - acc: 0.9032 - val_loss: 1.2347 - val_acc: 0.7353\n",
    "Epoch 11/30\n",
    "50000/50000 [==============================] - 217s 4ms/step - loss: 0.5668 - acc: 0.9166 - val_loss: 1.3173 - val_acc: 0.6947\n",
    "Epoch 12/30\n",
    "50000/50000 [==============================] - 216s 4ms/step - loss: 0.5494 - acc: 0.9230 - val_loss: 2.0935 - val_acc: 0.5902\n",
    "Epoch 13/30\n",
    "50000/50000 [==============================] - 215s 4ms/step - loss: 0.5200 - acc: 0.9332 - val_loss: 1.4987 - val_acc: 0.7237\n",
    "Epoch 14/30\n",
    "50000/50000 [==============================] - 217s 4ms/step - loss: 0.5087 - acc: 0.9367 - val_loss: 2.2529 - val_acc: 0.6123\n",
    "Epoch 15/30\n",
    "50000/50000 [==============================] - 215s 4ms/step - loss: 0.4968 - acc: 0.9408 - val_loss: 1.7859 - val_acc: 0.6774\n",
    "Epoch 16/30\n",
    "50000/50000 [==============================] - 213s 4ms/step - loss: 0.4865 - acc: 0.9445 - val_loss: 1.4138 - val_acc: 0.7211\n",
    "Epoch 17/30\n",
    "50000/50000 [==============================] - 215s 4ms/step - loss: 0.4754 - acc: 0.9468 - val_loss: 2.0332 - val_acc: 0.6413\n",
    "Epoch 18/30\n",
    "50000/50000 [==============================] - 213s 4ms/step - loss: 0.4720 - acc: 0.9487 - val_loss: 1.6129 - val_acc: 0.6958\n",
    "Epoch 19/30\n",
    "50000/50000 [==============================] - 213s 4ms/step - loss: 0.4650 - acc: 0.9505 - val_loss: 1.4748 - val_acc: 0.7286\n",
    "Epoch 20/30\n",
    "50000/50000 [==============================] - 214s 4ms/step - loss: 0.4619 - acc: 0.9512 - val_loss: 1.7867 - val_acc: 0.6892\n",
    "Epoch 21/30\n",
    "50000/50000 [==============================] - 216s 4ms/step - loss: 0.4623 - acc: 0.9524 - val_loss: 1.4550 - val_acc: 0.7103\n",
    "Epoch 22/30\n",
    "50000/50000 [==============================] - 214s 4ms/step - loss: 0.4533 - acc: 0.9544 - val_loss: 1.3304 - val_acc: 0.7350\n",
    "Epoch 23/30\n",
    "50000/50000 [==============================] - 213s 4ms/step - loss: 0.4440 - acc: 0.9571 - val_loss: 1.6547 - val_acc: 0.6944\n",
    "Epoch 24/30\n",
    "50000/50000 [==============================] - 212s 4ms/step - loss: 0.4478 - acc: 0.9558 - val_loss: 1.9846 - val_acc: 0.6784\n",
    "Epoch 25/30\n",
    "50000/50000 [==============================] - 214s 4ms/step - loss: 0.4421 - acc: 0.9581 - val_loss: 2.0879 - val_acc: 0.6773\n",
    "Epoch 26/30\n",
    "50000/50000 [==============================] - 213s 4ms/step - loss: 0.4385 - acc: 0.9591 - val_loss: 1.5235 - val_acc: 0.7078\n",
    "Epoch 27/30\n",
    "50000/50000 [==============================] - 213s 4ms/step - loss: 0.4254 - acc: 0.9623 - val_loss: 1.7998 - val_acc: 0.6928\n",
    "Epoch 28/30\n",
    "50000/50000 [==============================] - 214s 4ms/step - loss: 0.4327 - acc: 0.9595 - val_loss: 1.4993 - val_acc: 0.7272\n",
    "Epoch 29/30\n",
    "50000/50000 [==============================] - 212s 4ms/step - loss: 0.4380 - acc: 0.9588 - val_loss: 1.8455 - val_acc: 0.7074\n",
    "Epoch 30/30\n",
    "50000/50000 [==============================] - 212s 4ms/step - loss: 0.4265 - acc: 0.9614 - val_loss: 1.4037 - val_acc: 0.7413\n",
    "Test loss: 1.4036529079437257\n",
    "Test accuracy: 0.7413"
   ]
  }
 ],
 "metadata": {
  "kernelspec": {
   "display_name": "Python 3",
   "language": "python",
   "name": "python3"
  },
  "language_info": {
   "codemirror_mode": {
    "name": "ipython",
    "version": 3
   },
   "file_extension": ".py",
   "mimetype": "text/x-python",
   "name": "python",
   "nbconvert_exporter": "python",
   "pygments_lexer": "ipython3",
   "version": "3.7.3"
  }
 },
 "nbformat": 4,
 "nbformat_minor": 2
}
