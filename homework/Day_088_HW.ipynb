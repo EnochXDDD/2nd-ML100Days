{
 "cells": [
  {
   "cell_type": "markdown",
   "metadata": {},
   "source": [
    "## Work\n",
    "1. 請嘗試寫一個 callback 用來記錄各類別在訓練過程中，對驗證集的 True Positive 與 True Negative"
   ]
  },
  {
   "cell_type": "code",
   "execution_count": 1,
   "metadata": {},
   "outputs": [
    {
     "name": "stderr",
     "output_type": "stream",
     "text": [
      "Using TensorFlow backend.\n"
     ]
    }
   ],
   "source": [
    "import os\n",
    "import numpy as np\n",
    "import tensorflow as tf\n",
    "import keras\n",
    "tf.logging.set_verbosity(tf.logging.ERROR)\n",
    "os.environ[\"CUDA_VISIBLE_DEVICES\"] = \"0\""
   ]
  },
  {
   "cell_type": "code",
   "execution_count": 2,
   "metadata": {},
   "outputs": [],
   "source": [
    "train, test = keras.datasets.cifar10.load_data()"
   ]
  },
  {
   "cell_type": "code",
   "execution_count": 3,
   "metadata": {},
   "outputs": [],
   "source": [
    "## 資料前處理\n",
    "def preproc_x(x, flatten=True):\n",
    "    x = x / 255.\n",
    "    if flatten:\n",
    "        x = x.reshape((len(x), -1))\n",
    "    return x\n",
    "\n",
    "def preproc_y(y, num_classes=10):\n",
    "    if y.shape[-1] == 1:\n",
    "        y = keras.utils.to_categorical(y, num_classes)\n",
    "    return y    "
   ]
  },
  {
   "cell_type": "code",
   "execution_count": 4,
   "metadata": {},
   "outputs": [],
   "source": [
    "x_train, y_train = train\n",
    "x_test, y_test = test\n",
    "\n",
    "# Preproc the inputs\n",
    "x_train = preproc_x(x_train)\n",
    "x_test = preproc_x(x_test)\n",
    "\n",
    "# Preprc the outputs\n",
    "y_train = preproc_y(y_train)\n",
    "y_test = preproc_y(y_test)"
   ]
  },
  {
   "cell_type": "code",
   "execution_count": 5,
   "metadata": {},
   "outputs": [],
   "source": [
    "from keras.layers import BatchNormalization\n",
    "\n",
    "\"\"\"\n",
    "建立神經網路，並加入 BN layer\n",
    "\"\"\"\n",
    "def build_mlp(input_shape, output_units=10, num_neurons=[512, 256, 128]):\n",
    "    input_layer = keras.layers.Input(input_shape)\n",
    "    \n",
    "    for i, n_units in enumerate(num_neurons):\n",
    "        if i == 0:\n",
    "            x = keras.layers.Dense(units=n_units, \n",
    "                                   activation=\"relu\", \n",
    "                                   name=\"hidden_layer\"+str(i+1))(input_layer)\n",
    "            x = BatchNormalization()(x)\n",
    "        else:\n",
    "            x = keras.layers.Dense(units=n_units, \n",
    "                                   activation=\"relu\", \n",
    "                                   name=\"hidden_layer\"+str(i+1))(x)\n",
    "            x = BatchNormalization()(x)\n",
    "    \n",
    "    out = keras.layers.Dense(units=output_units, activation=\"softmax\", name=\"output\")(x)\n",
    "    \n",
    "    model = keras.models.Model(inputs=[input_layer], outputs=[out])\n",
    "    return model"
   ]
  },
  {
   "cell_type": "code",
   "execution_count": 6,
   "metadata": {},
   "outputs": [],
   "source": [
    "## 超參數設定\n",
    "LEARNING_RATE = 1e-3\n",
    "EPOCHS = 25\n",
    "BATCH_SIZE = 16384\n",
    "MOMENTUM = 0.95"
   ]
  },
  {
   "cell_type": "code",
   "execution_count": 7,
   "metadata": {},
   "outputs": [],
   "source": [
    "# 載入 Callbacks\n",
    "from keras.callbacks import Callback\n",
    "from sklearn.metrics import confusion_matrix\n",
    "\n",
    "# Record_fp_tp\n",
    "class Record_tp_tn(Callback):\n",
    "    def on_train_begin(self, epoch, logs = {}):\n",
    "        logs = logs or {}\n",
    "        record_items = [\"val_auc\", \"val_f1sc\", \"val_fp\", \"val_fn\", \"val_tp\", \"val_tn\"]\n",
    "        for i in record_items:\n",
    "            if i not in self.params['metrics']:\n",
    "                self.params['metrics'].append(i)\n",
    "    \n",
    "    def on_epoch_end(self, epoch, logs = {}, thres=0.5):\n",
    "        logs = logs or {}\n",
    "        y_true = self.validation_data[1].argmax(axis = 1)\n",
    "        y_pred = self.model.predict(self.validation_data[0])\n",
    "        y_pred = (y_pred[:, 1] >= thres) * 1\n",
    "        \n",
    "        mat = confusion_matrix(y_true, y_pred)\n",
    "        logs[\"val_fp\"] = mat.sum(axis=0) - np.diag(mat)\n",
    "        logs[\"val_fn\"] = mat.sum(axis=1) - np.diag(mat)\n",
    "        logs[\"val_tp\"] = np.diag(mat)\n",
    "        logs[\"val_tn\"] = mat.sum() - (logs[\"val_fp\"] + logs[\"val_fn\"] + logs[\"val_tp\"])\n",
    "        \n",
    "rec_tptn = Record_tp_tn()"
   ]
  },
  {
   "cell_type": "code",
   "execution_count": 8,
   "metadata": {
    "scrolled": true
   },
   "outputs": [
    {
     "name": "stdout",
     "output_type": "stream",
     "text": [
      "_________________________________________________________________\n",
      "Layer (type)                 Output Shape              Param #   \n",
      "=================================================================\n",
      "input_1 (InputLayer)         (None, 3072)              0         \n",
      "_________________________________________________________________\n",
      "hidden_layer1 (Dense)        (None, 512)               1573376   \n",
      "_________________________________________________________________\n",
      "batch_normalization_1 (Batch (None, 512)               2048      \n",
      "_________________________________________________________________\n",
      "hidden_layer2 (Dense)        (None, 256)               131328    \n",
      "_________________________________________________________________\n",
      "batch_normalization_2 (Batch (None, 256)               1024      \n",
      "_________________________________________________________________\n",
      "hidden_layer3 (Dense)        (None, 128)               32896     \n",
      "_________________________________________________________________\n",
      "batch_normalization_3 (Batch (None, 128)               512       \n",
      "_________________________________________________________________\n",
      "output (Dense)               (None, 10)                1290      \n",
      "=================================================================\n",
      "Total params: 1,742,474\n",
      "Trainable params: 1,740,682\n",
      "Non-trainable params: 1,792\n",
      "_________________________________________________________________\n",
      "Train on 50000 samples, validate on 10000 samples\n",
      "Epoch 1/25\n",
      "50000/50000 [==============================] - 6s 126us/step - loss: 2.9693 - acc: 0.1037 - val_loss: 2.8036 - val_acc: 0.1434\n",
      "Epoch 2/25\n",
      "50000/50000 [==============================] - 3s 55us/step - loss: 2.6714 - acc: 0.1498 - val_loss: 2.8023 - val_acc: 0.1765\n",
      "Epoch 3/25\n",
      "50000/50000 [==============================] - 3s 54us/step - loss: 2.4314 - acc: 0.2057 - val_loss: 2.7159 - val_acc: 0.2133\n",
      "Epoch 4/25\n",
      "50000/50000 [==============================] - 3s 53us/step - loss: 2.2868 - acc: 0.2469 - val_loss: 2.5413 - val_acc: 0.2442\n",
      "Epoch 5/25\n",
      "50000/50000 [==============================] - 3s 54us/step - loss: 2.1875 - acc: 0.2755 - val_loss: 2.3803 - val_acc: 0.2680\n",
      "Epoch 6/25\n",
      "50000/50000 [==============================] - 3s 53us/step - loss: 2.1098 - acc: 0.2953 - val_loss: 2.2820 - val_acc: 0.2798\n",
      "Epoch 7/25\n",
      "50000/50000 [==============================] - 3s 53us/step - loss: 2.0432 - acc: 0.3115 - val_loss: 2.2101 - val_acc: 0.2904\n",
      "Epoch 8/25\n",
      "50000/50000 [==============================] - 3s 54us/step - loss: 1.9862 - acc: 0.3260 - val_loss: 2.1461 - val_acc: 0.2969\n",
      "Epoch 9/25\n",
      "50000/50000 [==============================] - 3s 52us/step - loss: 1.9373 - acc: 0.3362 - val_loss: 2.0963 - val_acc: 0.3071\n",
      "Epoch 10/25\n",
      "50000/50000 [==============================] - 3s 53us/step - loss: 1.8961 - acc: 0.3471 - val_loss: 2.0685 - val_acc: 0.3162\n",
      "Epoch 11/25\n",
      "50000/50000 [==============================] - 3s 57us/step - loss: 1.8622 - acc: 0.3542 - val_loss: 2.0492 - val_acc: 0.3226\n",
      "Epoch 12/25\n",
      "50000/50000 [==============================] - 3s 53us/step - loss: 1.8338 - acc: 0.3634 - val_loss: 2.0236 - val_acc: 0.3314\n",
      "Epoch 13/25\n",
      "50000/50000 [==============================] - 3s 54us/step - loss: 1.8090 - acc: 0.3713 - val_loss: 1.9906 - val_acc: 0.3399\n",
      "Epoch 14/25\n",
      "50000/50000 [==============================] - 3s 53us/step - loss: 1.7861 - acc: 0.3787 - val_loss: 1.9598 - val_acc: 0.3476\n",
      "Epoch 15/25\n",
      "50000/50000 [==============================] - 3s 53us/step - loss: 1.7649 - acc: 0.3862 - val_loss: 1.9308 - val_acc: 0.3523\n",
      "Epoch 16/25\n",
      "50000/50000 [==============================] - 3s 54us/step - loss: 1.7464 - acc: 0.3926 - val_loss: 1.9073 - val_acc: 0.3576\n",
      "Epoch 17/25\n",
      "50000/50000 [==============================] - 3s 54us/step - loss: 1.7297 - acc: 0.3974 - val_loss: 1.8869 - val_acc: 0.3621\n",
      "Epoch 18/25\n",
      "50000/50000 [==============================] - 3s 53us/step - loss: 1.7137 - acc: 0.4026 - val_loss: 1.8593 - val_acc: 0.3709\n",
      "Epoch 19/25\n",
      "50000/50000 [==============================] - 3s 53us/step - loss: 1.6991 - acc: 0.4069 - val_loss: 1.8306 - val_acc: 0.3772\n",
      "Epoch 20/25\n",
      "50000/50000 [==============================] - 3s 52us/step - loss: 1.6858 - acc: 0.4113 - val_loss: 1.8077 - val_acc: 0.3863\n",
      "Epoch 21/25\n",
      "50000/50000 [==============================] - 3s 53us/step - loss: 1.6729 - acc: 0.4155 - val_loss: 1.7895 - val_acc: 0.3903\n",
      "Epoch 22/25\n",
      "50000/50000 [==============================] - 3s 53us/step - loss: 1.6610 - acc: 0.4200 - val_loss: 1.7754 - val_acc: 0.3946\n",
      "Epoch 23/25\n",
      "50000/50000 [==============================] - 3s 54us/step - loss: 1.6503 - acc: 0.4254 - val_loss: 1.7642 - val_acc: 0.3942\n",
      "Epoch 24/25\n",
      "50000/50000 [==============================] - 3s 52us/step - loss: 1.6402 - acc: 0.4296 - val_loss: 1.7530 - val_acc: 0.3955\n",
      "Epoch 25/25\n",
      "50000/50000 [==============================] - 3s 56us/step - loss: 1.6304 - acc: 0.4325 - val_loss: 1.7407 - val_acc: 0.3962\n"
     ]
    }
   ],
   "source": [
    "model = build_mlp(input_shape=x_train.shape[1:])\n",
    "model.summary()\n",
    "optimizer = keras.optimizers.SGD(lr=LEARNING_RATE, nesterov=True, momentum=MOMENTUM)\n",
    "model.compile(loss=\"categorical_crossentropy\", metrics=[\"accuracy\"], optimizer=optimizer)\n",
    "\n",
    "model.fit(x_train, y_train, \n",
    "          epochs=EPOCHS, \n",
    "          batch_size=BATCH_SIZE, \n",
    "          validation_data=(x_test, y_test), \n",
    "          shuffle=True,\n",
    "          callbacks=[rec_tptn]\n",
    "         )\n",
    "\n",
    "# Collect results\n",
    "train_loss = model.history.history[\"loss\"]\n",
    "valid_loss = model.history.history[\"val_loss\"]\n",
    "train_acc = model.history.history[\"acc\"]\n",
    "valid_acc = model.history.history[\"val_acc\"]\n",
    "\n",
    "\"\"\"Code Here\n",
    "將 tp/tn 從訓練完的模型中取出\n",
    "\"\"\"\n",
    "valid_tp = model.history.history['val_tp']\n",
    "valid_tn = model.history.history['val_tp']"
   ]
  },
  {
   "cell_type": "code",
   "execution_count": 9,
   "metadata": {},
   "outputs": [
    {
     "data": {
      "image/png": "[encoded data removed]",
      "text/plain": [
       "<Figure size 432x288 with 1 Axes>"
      ]
     },
     "metadata": {
      "needs_background": "light"
     },
     "output_type": "display_data"
    },
    {
     "data": {
      "image/png": "[encoded data removed]",
      "text/plain": [
       "<Figure size 432x288 with 1 Axes>"
      ]
     },
     "metadata": {
      "needs_background": "light"
     },
     "output_type": "display_data"
    },
    {
     "data": {
      "image/png": "[encoded data removed]",
      "text/plain": [
       "<Figure size 432x288 with 1 Axes>"
      ]
     },
     "metadata": {
      "needs_background": "light"
     },
     "output_type": "display_data"
    }
   ],
   "source": [
    "import matplotlib.pyplot as plt\n",
    "%matplotlib inline\n",
    "\n",
    "plt.plot(range(len(train_loss)), train_loss, label=\"train loss\")\n",
    "plt.plot(range(len(valid_loss)), valid_loss, label=\"valid loss\")\n",
    "plt.legend()\n",
    "plt.title(\"Loss\")\n",
    "plt.show()\n",
    "\n",
    "plt.plot(range(len(train_acc)), train_acc, label=\"train accuracy\")\n",
    "plt.plot(range(len(valid_acc)), valid_acc, label=\"valid accuracy\")\n",
    "plt.legend()\n",
    "plt.title(\"Accuracy\")\n",
    "plt.show()\n",
    "\n",
    "plt.plot(range(len(valid_tp)), valid_tp, label=\"valid tp\", color=\"navy\")\n",
    "plt.plot(range(len(valid_tn)), valid_tn, label=\"valid tn\", color=\"red\")\n",
    "plt.legend()\n",
    "plt.title(\"True positives and True Negatives\")\n",
    "plt.show()\n"
   ]
  }
 ],
 "metadata": {
  "kernelspec": {
   "display_name": "Python 3",
   "language": "python",
   "name": "python3"
  },
  "language_info": {
   "codemirror_mode": {
    "name": "ipython",
    "version": 3
   },
   "file_extension": ".py",
   "mimetype": "text/x-python",
   "name": "python",
   "nbconvert_exporter": "python",
   "pygments_lexer": "ipython3",
   "version": "3.7.3"
  }
 },
 "nbformat": 4,
 "nbformat_minor": 2
}
