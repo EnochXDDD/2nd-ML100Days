{
 "cells": [
  {
   "cell_type": "markdown",
   "metadata": {},
   "source": [
    "## 範例重點\n",
    "### 學習在模型開始前檢查各個環節\n",
    "1. 是否有 GPU 資源\n",
    "2. 將前處理轉為函式，統一處理訓練、驗證與測試集\n",
    "3. 將超參數變數化，易於重複使用函式、模型等"
   ]
  },
  {
   "cell_type": "code",
   "execution_count": 1,
   "metadata": {},
   "outputs": [],
   "source": [
    "## 確認硬體資源 (如果你是在 Linux, 若是在 Windows, 請參考 https://blog.csdn.net/idwtwt/article/details/78017565)\n",
    "# !nvidia-smi"
   ]
  },
  {
   "cell_type": "code",
   "execution_count": 2,
   "metadata": {},
   "outputs": [
    {
     "name": "stderr",
     "output_type": "stream",
     "text": [
      "Using TensorFlow backend.\n"
     ]
    }
   ],
   "source": [
    "%matplotlib inline\n",
    "import os\n",
    "import tensorflow as tf\n",
    "import keras\n",
    "tf.logging.set_verbosity(tf.logging.ERROR)\n",
    "\n",
    "# 本範例不需使用 GPU, 將 GPU 設定為 \"無\"\n",
    "os.environ[\"CUDA_VISIBLE_DEVICES\"] = \"\""
   ]
  },
  {
   "cell_type": "code",
   "execution_count": 3,
   "metadata": {},
   "outputs": [],
   "source": [
    "# 從 Keras 的內建功能中，取得 train 與 test 資料集\n",
    "train, test = keras.datasets.cifar10.load_data()"
   ]
  },
  {
   "cell_type": "code",
   "execution_count": 4,
   "metadata": {},
   "outputs": [],
   "source": [
    "## 資料前處理\n",
    "def preproc_x(x, flatten=True):\n",
    "    x = x / 255.\n",
    "    if flatten:\n",
    "        x = x.reshape((len(x), -1))\n",
    "    return x\n",
    "\n",
    "def preproc_y(y, num_classes=10):\n",
    "    if y.shape[-1] == 1:\n",
    "        y = keras.utils.to_categorical(y, num_classes)\n",
    "    return y    "
   ]
  },
  {
   "cell_type": "code",
   "execution_count": 5,
   "metadata": {},
   "outputs": [],
   "source": [
    "x_train, y_train = train\n",
    "x_test, y_test = test\n",
    "\n",
    "# 資料前處理 - X 標準化\n",
    "x_train = preproc_x(x_train)\n",
    "x_test = preproc_x(x_test)\n",
    "\n",
    "# 資料前處理 -Y 轉成 onehot\n",
    "y_train = preproc_y(y_train)\n",
    "y_test = preproc_y(y_test)"
   ]
  },
  {
   "cell_type": "code",
   "execution_count": 6,
   "metadata": {},
   "outputs": [],
   "source": [
    "def build_mlp(input_shape, output_units=10, num_neurons=[512, 256, 128]):\n",
    "    input_layer = keras.layers.Input(input_shape)\n",
    "    \n",
    "    for i, n_units in enumerate(num_neurons):\n",
    "        if i == 0:\n",
    "            x = keras.layers.Dense(units=n_units, activation=\"relu\", name=\"hidden_layer\"+str(i+1))(input_layer)\n",
    "        else:\n",
    "            x = keras.layers.Dense(units=n_units, activation=\"relu\", name=\"hidden_layer\"+str(i+1))(x)\n",
    "    \n",
    "    out = keras.layers.Dense(units=output_units, activation=\"softmax\", name=\"output\")(x)\n",
    "    \n",
    "    model = keras.models.Model(inputs=[input_layer], outputs=[out])\n",
    "    return model"
   ]
  },
  {
   "cell_type": "code",
   "execution_count": 7,
   "metadata": {},
   "outputs": [
    {
     "name": "stdout",
     "output_type": "stream",
     "text": [
      "_________________________________________________________________\n",
      "Layer (type)                 Output Shape              Param #   \n",
      "=================================================================\n",
      "input_1 (InputLayer)         (None, 3072)              0         \n",
      "_________________________________________________________________\n",
      "hidden_layer1 (Dense)        (None, 512)               1573376   \n",
      "_________________________________________________________________\n",
      "hidden_layer2 (Dense)        (None, 256)               131328    \n",
      "_________________________________________________________________\n",
      "hidden_layer3 (Dense)        (None, 128)               32896     \n",
      "_________________________________________________________________\n",
      "output (Dense)               (None, 10)                1290      \n",
      "=================================================================\n",
      "Total params: 1,738,890\n",
      "Trainable params: 1,738,890\n",
      "Non-trainable params: 0\n",
      "_________________________________________________________________\n"
     ]
    }
   ],
   "source": [
    "model = build_mlp(input_shape=x_train.shape[1:])\n",
    "model.summary()"
   ]
  },
  {
   "cell_type": "code",
   "execution_count": 8,
   "metadata": {},
   "outputs": [],
   "source": [
    "## 超參數設定\n",
    "LEARNING_RATE = 0.001\n",
    "EPOCHS = 100\n",
    "BATCH_SIZE = 256"
   ]
  },
  {
   "cell_type": "code",
   "execution_count": 9,
   "metadata": {},
   "outputs": [],
   "source": [
    "optimizer = keras.optimizers.Adam(lr=LEARNING_RATE)\n",
    "model.compile(loss=\"categorical_crossentropy\", metrics=[\"accuracy\"], optimizer=optimizer)"
   ]
  },
  {
   "cell_type": "code",
   "execution_count": 10,
   "metadata": {},
   "outputs": [
    {
     "name": "stdout",
     "output_type": "stream",
     "text": [
      "Train on 50000 samples, validate on 10000 samples\n",
      "Epoch 1/100\n",
      "50000/50000 [==============================] - 9s 190us/step - loss: 1.9250 - acc: 0.3049 - val_loss: 1.7625 - val_acc: 0.3726\n",
      "Epoch 2/100\n",
      "50000/50000 [==============================] - 6s 112us/step - loss: 1.6947 - acc: 0.3930 - val_loss: 1.6376 - val_acc: 0.4118\n",
      "Epoch 3/100\n",
      "50000/50000 [==============================] - 6s 112us/step - loss: 1.6016 - acc: 0.4275 - val_loss: 1.5781 - val_acc: 0.4365\n",
      "Epoch 4/100\n",
      "50000/50000 [==============================] - 6s 113us/step - loss: 1.5459 - acc: 0.4485 - val_loss: 1.5286 - val_acc: 0.4553\n",
      "Epoch 5/100\n",
      "50000/50000 [==============================] - 6s 111us/step - loss: 1.4921 - acc: 0.4698 - val_loss: 1.4980 - val_acc: 0.4625\n",
      "Epoch 6/100\n",
      "50000/50000 [==============================] - 6s 111us/step - loss: 1.4638 - acc: 0.4760 - val_loss: 1.4655 - val_acc: 0.4773\n",
      "Epoch 7/100\n",
      "50000/50000 [==============================] - 6s 112us/step - loss: 1.4194 - acc: 0.4938 - val_loss: 1.4500 - val_acc: 0.4832\n",
      "Epoch 8/100\n",
      "50000/50000 [==============================] - 6s 110us/step - loss: 1.3925 - acc: 0.5000 - val_loss: 1.4266 - val_acc: 0.4965\n",
      "Epoch 9/100\n",
      "50000/50000 [==============================] - 6s 111us/step - loss: 1.3692 - acc: 0.5124 - val_loss: 1.4139 - val_acc: 0.4952\n",
      "Epoch 10/100\n",
      "50000/50000 [==============================] - 6s 111us/step - loss: 1.3428 - acc: 0.5202 - val_loss: 1.4320 - val_acc: 0.4940\n",
      "Epoch 11/100\n",
      "50000/50000 [==============================] - 6s 112us/step - loss: 1.3140 - acc: 0.5318 - val_loss: 1.4268 - val_acc: 0.4938\n",
      "Epoch 12/100\n",
      "50000/50000 [==============================] - 6s 123us/step - loss: 1.2906 - acc: 0.5413 - val_loss: 1.3856 - val_acc: 0.5038\n",
      "Epoch 13/100\n",
      "50000/50000 [==============================] - 6s 113us/step - loss: 1.2781 - acc: 0.5414 - val_loss: 1.4183 - val_acc: 0.4940\n",
      "Epoch 14/100\n",
      "50000/50000 [==============================] - 6s 112us/step - loss: 1.2506 - acc: 0.5546 - val_loss: 1.3704 - val_acc: 0.5155\n",
      "Epoch 15/100\n",
      "50000/50000 [==============================] - 6s 112us/step - loss: 1.2314 - acc: 0.5614 - val_loss: 1.3676 - val_acc: 0.5177\n",
      "Epoch 16/100\n",
      "50000/50000 [==============================] - 6s 113us/step - loss: 1.2061 - acc: 0.5718 - val_loss: 1.3702 - val_acc: 0.5201\n",
      "Epoch 17/100\n",
      "50000/50000 [==============================] - 6s 111us/step - loss: 1.1731 - acc: 0.5814 - val_loss: 1.3885 - val_acc: 0.5178\n",
      "Epoch 18/100\n",
      "50000/50000 [==============================] - 6s 111us/step - loss: 1.1667 - acc: 0.5853 - val_loss: 1.3707 - val_acc: 0.5193\n",
      "Epoch 19/100\n",
      "50000/50000 [==============================] - 6s 112us/step - loss: 1.1356 - acc: 0.5957 - val_loss: 1.3627 - val_acc: 0.5171\n",
      "Epoch 20/100\n",
      "50000/50000 [==============================] - 6s 111us/step - loss: 1.1142 - acc: 0.6043 - val_loss: 1.3700 - val_acc: 0.5208\n",
      "Epoch 21/100\n",
      "50000/50000 [==============================] - 6s 112us/step - loss: 1.1037 - acc: 0.6058 - val_loss: 1.3750 - val_acc: 0.5268\n",
      "Epoch 22/100\n",
      "50000/50000 [==============================] - 6s 112us/step - loss: 1.0829 - acc: 0.6136 - val_loss: 1.4077 - val_acc: 0.5208\n",
      "Epoch 23/100\n",
      "50000/50000 [==============================] - 6s 113us/step - loss: 1.0622 - acc: 0.6227 - val_loss: 1.3628 - val_acc: 0.5285\n",
      "Epoch 24/100\n",
      "50000/50000 [==============================] - 6s 112us/step - loss: 1.0469 - acc: 0.6269 - val_loss: 1.3646 - val_acc: 0.5334\n",
      "Epoch 25/100\n",
      "50000/50000 [==============================] - 6s 113us/step - loss: 1.0177 - acc: 0.6373 - val_loss: 1.3959 - val_acc: 0.5279\n",
      "Epoch 26/100\n",
      "50000/50000 [==============================] - 6s 113us/step - loss: 1.0081 - acc: 0.6404 - val_loss: 1.3933 - val_acc: 0.5270\n",
      "Epoch 27/100\n",
      "50000/50000 [==============================] - 6s 113us/step - loss: 0.9879 - acc: 0.6464 - val_loss: 1.4046 - val_acc: 0.5249\n",
      "Epoch 28/100\n",
      "50000/50000 [==============================] - 6s 113us/step - loss: 0.9704 - acc: 0.6514 - val_loss: 1.4154 - val_acc: 0.5280\n",
      "Epoch 29/100\n",
      "50000/50000 [==============================] - 6s 113us/step - loss: 0.9493 - acc: 0.6608 - val_loss: 1.4048 - val_acc: 0.5320\n",
      "Epoch 30/100\n",
      "50000/50000 [==============================] - 6s 114us/step - loss: 0.9317 - acc: 0.6672 - val_loss: 1.4474 - val_acc: 0.5183\n",
      "Epoch 31/100\n",
      "50000/50000 [==============================] - 6s 114us/step - loss: 0.9092 - acc: 0.6728 - val_loss: 1.4791 - val_acc: 0.5152\n",
      "Epoch 32/100\n",
      "50000/50000 [==============================] - 6s 114us/step - loss: 0.8944 - acc: 0.6815 - val_loss: 1.4643 - val_acc: 0.5247\n",
      "Epoch 33/100\n",
      "50000/50000 [==============================] - 6s 118us/step - loss: 0.8831 - acc: 0.6837 - val_loss: 1.4729 - val_acc: 0.5221\n",
      "Epoch 34/100\n",
      "50000/50000 [==============================] - 6s 116us/step - loss: 0.8605 - acc: 0.6927 - val_loss: 1.4906 - val_acc: 0.5232\n",
      "Epoch 35/100\n",
      "50000/50000 [==============================] - 6s 116us/step - loss: 0.8365 - acc: 0.7021 - val_loss: 1.5831 - val_acc: 0.5113\n",
      "Epoch 36/100\n",
      "50000/50000 [==============================] - 6s 114us/step - loss: 0.8434 - acc: 0.6975 - val_loss: 1.5583 - val_acc: 0.5159\n",
      "Epoch 37/100\n",
      "50000/50000 [==============================] - 6s 114us/step - loss: 0.8161 - acc: 0.7070 - val_loss: 1.5875 - val_acc: 0.5163\n",
      "Epoch 38/100\n",
      "50000/50000 [==============================] - 6s 114us/step - loss: 0.7976 - acc: 0.7161 - val_loss: 1.5511 - val_acc: 0.5187\n",
      "Epoch 39/100\n",
      "50000/50000 [==============================] - 6s 115us/step - loss: 0.7788 - acc: 0.7208 - val_loss: 1.5994 - val_acc: 0.5140\n",
      "Epoch 40/100\n",
      "50000/50000 [==============================] - 6s 115us/step - loss: 0.7583 - acc: 0.7291 - val_loss: 1.5956 - val_acc: 0.5157\n",
      "Epoch 41/100\n",
      "50000/50000 [==============================] - 6s 115us/step - loss: 0.7511 - acc: 0.7311 - val_loss: 1.6133 - val_acc: 0.5210\n",
      "Epoch 42/100\n",
      "50000/50000 [==============================] - 6s 115us/step - loss: 0.7490 - acc: 0.7343 - val_loss: 1.6667 - val_acc: 0.5143\n",
      "Epoch 43/100\n",
      "50000/50000 [==============================] - 6s 115us/step - loss: 0.7119 - acc: 0.7466 - val_loss: 1.6652 - val_acc: 0.5215\n",
      "Epoch 44/100\n",
      "50000/50000 [==============================] - 6s 115us/step - loss: 0.7075 - acc: 0.7478 - val_loss: 1.6861 - val_acc: 0.5182\n",
      "Epoch 45/100\n",
      "50000/50000 [==============================] - 6s 115us/step - loss: 0.6968 - acc: 0.7489 - val_loss: 1.6860 - val_acc: 0.5198\n",
      "Epoch 46/100\n",
      "50000/50000 [==============================] - 6s 115us/step - loss: 0.6805 - acc: 0.7566 - val_loss: 1.7467 - val_acc: 0.5048\n",
      "Epoch 47/100\n",
      "50000/50000 [==============================] - 6s 116us/step - loss: 0.6687 - acc: 0.7614 - val_loss: 1.7271 - val_acc: 0.5206\n",
      "Epoch 48/100\n",
      "50000/50000 [==============================] - 6s 116us/step - loss: 0.6609 - acc: 0.7641 - val_loss: 1.7665 - val_acc: 0.5159\n",
      "Epoch 49/100\n",
      "50000/50000 [==============================] - 6s 115us/step - loss: 0.6430 - acc: 0.7695 - val_loss: 1.7786 - val_acc: 0.5132\n",
      "Epoch 50/100\n",
      "50000/50000 [==============================] - 6s 115us/step - loss: 0.6294 - acc: 0.7750 - val_loss: 1.8115 - val_acc: 0.5057\n",
      "Epoch 51/100\n",
      "50000/50000 [==============================] - 6s 115us/step - loss: 0.6124 - acc: 0.7795 - val_loss: 1.8516 - val_acc: 0.5149\n",
      "Epoch 52/100\n",
      "50000/50000 [==============================] - 6s 116us/step - loss: 0.5999 - acc: 0.7859 - val_loss: 1.8806 - val_acc: 0.5099\n",
      "Epoch 53/100\n",
      "50000/50000 [==============================] - 6s 119us/step - loss: 0.5963 - acc: 0.7875 - val_loss: 1.8776 - val_acc: 0.5180\n",
      "Epoch 54/100\n",
      "50000/50000 [==============================] - 6s 115us/step - loss: 0.5833 - acc: 0.7907 - val_loss: 2.0190 - val_acc: 0.5089\n",
      "Epoch 55/100\n",
      "50000/50000 [==============================] - 6s 115us/step - loss: 0.5752 - acc: 0.7949 - val_loss: 1.9902 - val_acc: 0.5044\n",
      "Epoch 56/100\n",
      "50000/50000 [==============================] - 6s 115us/step - loss: 0.5601 - acc: 0.8005 - val_loss: 1.9557 - val_acc: 0.5141\n",
      "Epoch 57/100\n",
      "50000/50000 [==============================] - 6s 115us/step - loss: 0.5506 - acc: 0.8024 - val_loss: 2.0171 - val_acc: 0.5089\n",
      "Epoch 58/100\n",
      "50000/50000 [==============================] - 6s 116us/step - loss: 0.5435 - acc: 0.8050 - val_loss: 2.0362 - val_acc: 0.5101\n",
      "Epoch 59/100\n",
      "50000/50000 [==============================] - 6s 116us/step - loss: 0.5224 - acc: 0.8132 - val_loss: 2.0479 - val_acc: 0.5116\n",
      "Epoch 60/100\n",
      "50000/50000 [==============================] - 6s 116us/step - loss: 0.5038 - acc: 0.8202 - val_loss: 2.1421 - val_acc: 0.5022\n",
      "Epoch 61/100\n",
      "50000/50000 [==============================] - 6s 116us/step - loss: 0.5230 - acc: 0.8127 - val_loss: 2.0626 - val_acc: 0.5080\n",
      "Epoch 62/100\n",
      "50000/50000 [==============================] - 6s 117us/step - loss: 0.4997 - acc: 0.8220 - val_loss: 2.1413 - val_acc: 0.5149\n",
      "Epoch 63/100\n",
      "50000/50000 [==============================] - 6s 117us/step - loss: 0.4872 - acc: 0.8255 - val_loss: 2.2204 - val_acc: 0.4978\n",
      "Epoch 64/100\n",
      "50000/50000 [==============================] - 6s 116us/step - loss: 0.4882 - acc: 0.8259 - val_loss: 2.1787 - val_acc: 0.5062\n",
      "Epoch 65/100\n",
      "50000/50000 [==============================] - 6s 118us/step - loss: 0.4697 - acc: 0.8305 - val_loss: 2.1862 - val_acc: 0.5122\n",
      "Epoch 66/100\n",
      "50000/50000 [==============================] - 6s 117us/step - loss: 0.4784 - acc: 0.8293 - val_loss: 2.2394 - val_acc: 0.5094\n",
      "Epoch 67/100\n",
      "50000/50000 [==============================] - 6s 117us/step - loss: 0.4497 - acc: 0.8382 - val_loss: 2.2558 - val_acc: 0.5052\n",
      "Epoch 68/100\n",
      "50000/50000 [==============================] - 6s 123us/step - loss: 0.4431 - acc: 0.8407 - val_loss: 2.3366 - val_acc: 0.5164\n",
      "Epoch 69/100\n",
      "50000/50000 [==============================] - 6s 120us/step - loss: 0.4349 - acc: 0.8437 - val_loss: 2.3010 - val_acc: 0.5099\n",
      "Epoch 70/100\n",
      "50000/50000 [==============================] - 6s 118us/step - loss: 0.4231 - acc: 0.8484 - val_loss: 2.3719 - val_acc: 0.5031\n",
      "Epoch 71/100\n",
      "50000/50000 [==============================] - 6s 118us/step - loss: 0.4312 - acc: 0.8446 - val_loss: 2.3628 - val_acc: 0.5059\n",
      "Epoch 72/100\n",
      "50000/50000 [==============================] - 6s 118us/step - loss: 0.4142 - acc: 0.8520 - val_loss: 2.4198 - val_acc: 0.5014\n",
      "Epoch 73/100\n",
      "50000/50000 [==============================] - 6s 118us/step - loss: 0.4292 - acc: 0.8446 - val_loss: 2.4872 - val_acc: 0.5016\n",
      "Epoch 74/100\n",
      "50000/50000 [==============================] - 6s 118us/step - loss: 0.4063 - acc: 0.8525 - val_loss: 2.5009 - val_acc: 0.5034\n",
      "Epoch 75/100\n",
      "50000/50000 [==============================] - 6s 118us/step - loss: 0.4035 - acc: 0.8544 - val_loss: 2.5162 - val_acc: 0.5102\n",
      "Epoch 76/100\n",
      "50000/50000 [==============================] - 6s 119us/step - loss: 0.3911 - acc: 0.8581 - val_loss: 2.6078 - val_acc: 0.5016\n",
      "Epoch 77/100\n",
      "50000/50000 [==============================] - 6s 118us/step - loss: 0.3806 - acc: 0.8639 - val_loss: 2.5215 - val_acc: 0.5043\n",
      "Epoch 78/100\n",
      "50000/50000 [==============================] - 6s 117us/step - loss: 0.3766 - acc: 0.8655 - val_loss: 2.6031 - val_acc: 0.5041\n",
      "Epoch 79/100\n",
      "50000/50000 [==============================] - 6s 118us/step - loss: 0.3730 - acc: 0.8641 - val_loss: 2.6204 - val_acc: 0.4972\n",
      "Epoch 80/100\n",
      "50000/50000 [==============================] - 6s 118us/step - loss: 0.3701 - acc: 0.8666 - val_loss: 2.6666 - val_acc: 0.5073\n",
      "Epoch 81/100\n",
      "50000/50000 [==============================] - 6s 118us/step - loss: 0.3459 - acc: 0.8759 - val_loss: 2.7096 - val_acc: 0.4996\n",
      "Epoch 82/100\n",
      "50000/50000 [==============================] - 6s 118us/step - loss: 0.3650 - acc: 0.8665 - val_loss: 2.7277 - val_acc: 0.4927\n",
      "Epoch 83/100\n",
      "50000/50000 [==============================] - 6s 118us/step - loss: 0.3715 - acc: 0.8652 - val_loss: 2.7706 - val_acc: 0.4986\n",
      "Epoch 84/100\n",
      "50000/50000 [==============================] - 6s 118us/step - loss: 0.3499 - acc: 0.8743 - val_loss: 2.7906 - val_acc: 0.4936\n",
      "Epoch 85/100\n",
      "50000/50000 [==============================] - 6s 118us/step - loss: 0.3401 - acc: 0.8772 - val_loss: 2.8322 - val_acc: 0.4989\n",
      "Epoch 86/100\n",
      "50000/50000 [==============================] - 6s 118us/step - loss: 0.3225 - acc: 0.8844 - val_loss: 2.7159 - val_acc: 0.5133\n",
      "Epoch 87/100\n",
      "50000/50000 [==============================] - 6s 118us/step - loss: 0.3432 - acc: 0.8760 - val_loss: 2.8742 - val_acc: 0.4964\n",
      "Epoch 88/100\n",
      "50000/50000 [==============================] - 6s 117us/step - loss: 0.3120 - acc: 0.8879 - val_loss: 2.8785 - val_acc: 0.4991\n",
      "Epoch 89/100\n",
      "50000/50000 [==============================] - 6s 118us/step - loss: 0.3235 - acc: 0.8842 - val_loss: 2.9133 - val_acc: 0.4954\n",
      "Epoch 90/100\n",
      "50000/50000 [==============================] - 6s 119us/step - loss: 0.3079 - acc: 0.8903 - val_loss: 2.8997 - val_acc: 0.4960\n",
      "Epoch 91/100\n",
      "50000/50000 [==============================] - 6s 117us/step - loss: 0.3178 - acc: 0.8858 - val_loss: 2.9500 - val_acc: 0.5000\n",
      "Epoch 92/100\n",
      "50000/50000 [==============================] - 6s 117us/step - loss: 0.3245 - acc: 0.8823 - val_loss: 2.9231 - val_acc: 0.4971\n",
      "Epoch 93/100\n",
      "50000/50000 [==============================] - 6s 117us/step - loss: 0.3063 - acc: 0.8902 - val_loss: 2.9759 - val_acc: 0.4968\n",
      "Epoch 94/100\n",
      "50000/50000 [==============================] - 6s 116us/step - loss: 0.2729 - acc: 0.9020 - val_loss: 2.9791 - val_acc: 0.4974\n",
      "Epoch 95/100\n",
      "50000/50000 [==============================] - 6s 117us/step - loss: 0.2818 - acc: 0.8990 - val_loss: 2.9793 - val_acc: 0.5046\n",
      "Epoch 96/100\n",
      "50000/50000 [==============================] - 6s 117us/step - loss: 0.2894 - acc: 0.8959 - val_loss: 3.0546 - val_acc: 0.4898\n",
      "Epoch 97/100\n",
      "50000/50000 [==============================] - 6s 117us/step - loss: 0.3140 - acc: 0.8881 - val_loss: 3.0508 - val_acc: 0.5035\n",
      "Epoch 98/100\n",
      "50000/50000 [==============================] - 6s 116us/step - loss: 0.2656 - acc: 0.9052 - val_loss: 3.0866 - val_acc: 0.4949\n",
      "Epoch 99/100\n",
      "50000/50000 [==============================] - 6s 117us/step - loss: 0.2623 - acc: 0.9066 - val_loss: 3.1941 - val_acc: 0.4978\n",
      "Epoch 100/100\n",
      "50000/50000 [==============================] - 6s 117us/step - loss: 0.2854 - acc: 0.8971 - val_loss: 3.2413 - val_acc: 0.4949\n"
     ]
    },
    {
     "data": {
      "text/plain": [
       "<keras.callbacks.History at 0x1b01bed9748>"
      ]
     },
     "execution_count": 10,
     "metadata": {},
     "output_type": "execute_result"
    }
   ],
   "source": [
    "model.fit(x_train, y_train, \n",
    "          epochs=EPOCHS, \n",
    "          batch_size=BATCH_SIZE, \n",
    "          validation_data=(x_test, y_test), \n",
    "          shuffle=True)"
   ]
  },
  {
   "cell_type": "code",
   "execution_count": 11,
   "metadata": {},
   "outputs": [
    {
     "data": {
      "image/png": "[encoded data removed]",
      "text/plain": [
       "<Figure size 432x288 with 1 Axes>"
      ]
     },
     "metadata": {
      "needs_background": "light"
     },
     "output_type": "display_data"
    },
    {
     "data": {
      "image/png": "[encoded data removed]",
      "text/plain": [
       "<Figure size 432x288 with 1 Axes>"
      ]
     },
     "metadata": {
      "needs_background": "light"
     },
     "output_type": "display_data"
    }
   ],
   "source": [
    "# 訓練模型並檢視驗證集的結果\n",
    "import matplotlib.pyplot as plt\n",
    "\n",
    "train_loss = model.history.history[\"loss\"]\n",
    "valid_loss = model.history.history[\"val_loss\"]\n",
    "\n",
    "train_acc = model.history.history[\"acc\"]\n",
    "valid_acc = model.history.history[\"val_acc\"]\n",
    "\n",
    "plt.plot(range(len(train_loss)), train_loss, label=\"train loss\")\n",
    "plt.plot(range(len(valid_loss)), valid_loss, label=\"valid loss\")\n",
    "plt.legend()\n",
    "plt.title(\"Loss\")\n",
    "plt.show()\n",
    "\n",
    "plt.plot(range(len(train_acc)), train_acc, label=\"train accuracy\")\n",
    "plt.plot(range(len(valid_acc)), valid_acc, label=\"valid accuracy\")\n",
    "plt.legend()\n",
    "plt.title(\"Accuracy\")\n",
    "plt.show()"
   ]
  },
  {
   "cell_type": "markdown",
   "metadata": {},
   "source": [
    "## Work\n",
    "1. 請嘗試將 preproc_x 替換成以每筆資料的 min/max 進行標準化至 -1 ~ 1 間，再進行訓練\n",
    "2. 請嘗試將 mlp 疊更深 (e.g 5~10 層)，進行訓練後觀察 learning curve 的走勢\n",
    "3. (optional) 請改用 GPU 進行訓練 (如果你有 GPU 的話)，比較使用 CPU 與 GPU 的訓練速度"
   ]
  }
 ],
 "metadata": {
  "kernelspec": {
   "display_name": "Python 3",
   "language": "python",
   "name": "python3"
  },
  "language_info": {
   "codemirror_mode": {
    "name": "ipython",
    "version": 3
   },
   "file_extension": ".py",
   "mimetype": "text/x-python",
   "name": "python",
   "nbconvert_exporter": "python",
   "pygments_lexer": "ipython3",
   "version": "3.7.3"
  }
 },
 "nbformat": 4,
 "nbformat_minor": 2
}
