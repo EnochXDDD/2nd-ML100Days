{
 "cells": [
  {
   "cell_type": "markdown",
   "metadata": {},
   "source": [
    "## 範例重點\n",
    "* 學習如何在 keras 中加入 BatchNorm\n",
    "* 知道有無 BN 對訓練的影響\n",
    "* 比較 BN 在不同 batch size 下的效果"
   ]
  },
  {
   "cell_type": "code",
   "execution_count": 1,
   "metadata": {},
   "outputs": [
    {
     "name": "stderr",
     "output_type": "stream",
     "text": [
      "Using TensorFlow backend.\n"
     ]
    }
   ],
   "source": [
    "import os\n",
    "import numpy as np\n",
    "import tensorflow as tf\n",
    "import keras\n",
    "tf.logging.set_verbosity(tf.logging.ERROR)\n",
    "os.environ[\"CUDA_VISIBLE_DEVICES\"] = \"0\""
   ]
  },
  {
   "cell_type": "code",
   "execution_count": 2,
   "metadata": {},
   "outputs": [],
   "source": [
    "train, test = keras.datasets.cifar10.load_data()"
   ]
  },
  {
   "cell_type": "code",
   "execution_count": 3,
   "metadata": {},
   "outputs": [],
   "source": [
    "## 資料前處理\n",
    "def preproc_x(x, flatten=True):\n",
    "    x = x / 255.\n",
    "    if flatten:\n",
    "        x = x.reshape((len(x), -1))\n",
    "    return x\n",
    "\n",
    "def preproc_y(y, num_classes=10):\n",
    "    if y.shape[-1] == 1:\n",
    "        y = keras.utils.to_categorical(y, num_classes)\n",
    "    return y    "
   ]
  },
  {
   "cell_type": "code",
   "execution_count": 4,
   "metadata": {},
   "outputs": [],
   "source": [
    "x_train, y_train = train\n",
    "x_test, y_test = test\n",
    "\n",
    "# 資料前處理 - X 標準化\n",
    "x_train = preproc_x(x_train)\n",
    "x_test = preproc_x(x_test)\n",
    "\n",
    "# 資料前處理 -Y 轉成 onehot\n",
    "y_train = preproc_y(y_train)\n",
    "y_test = preproc_y(y_test)"
   ]
  },
  {
   "cell_type": "code",
   "execution_count": 5,
   "metadata": {},
   "outputs": [],
   "source": [
    "from keras.layers import BatchNormalization\n",
    "\n",
    "\"\"\"\n",
    "建立神經網路，並加入 BN layer\n",
    "\"\"\"\n",
    "def build_mlp(input_shape, output_units=10, num_neurons=[512, 256, 128]):\n",
    "    input_layer = keras.layers.Input(input_shape)\n",
    "    \n",
    "    for i, n_units in enumerate(num_neurons):\n",
    "        if i == 0:\n",
    "            x = keras.layers.Dense(units=n_units, \n",
    "                                   activation=\"relu\", \n",
    "                                   name=\"hidden_layer\"+str(i+1))(input_layer)\n",
    "            x = BatchNormalization()(x)\n",
    "        else:\n",
    "            x = keras.layers.Dense(units=n_units, \n",
    "                                   activation=\"relu\", \n",
    "                                   name=\"hidden_layer\"+str(i+1))(x)\n",
    "            x = BatchNormalization()(x)\n",
    "    \n",
    "    out = keras.layers.Dense(units=output_units, activation=\"softmax\", name=\"output\")(x)\n",
    "    \n",
    "    model = keras.models.Model(inputs=[input_layer], outputs=[out])\n",
    "    return model"
   ]
  },
  {
   "cell_type": "code",
   "execution_count": 6,
   "metadata": {},
   "outputs": [],
   "source": [
    "## 超參數設定\n",
    "LEARNING_RATE = 1e-3\n",
    "EPOCHS = 50\n",
    "BATCH_SIZE = 1024\n",
    "MOMENTUM = 0.95"
   ]
  },
  {
   "cell_type": "code",
   "execution_count": 7,
   "metadata": {
    "scrolled": true
   },
   "outputs": [
    {
     "name": "stdout",
     "output_type": "stream",
     "text": [
      "_________________________________________________________________\n",
      "Layer (type)                 Output Shape              Param #   \n",
      "=================================================================\n",
      "input_1 (InputLayer)         (None, 3072)              0         \n",
      "_________________________________________________________________\n",
      "hidden_layer1 (Dense)        (None, 512)               1573376   \n",
      "_________________________________________________________________\n",
      "batch_normalization_1 (Batch (None, 512)               2048      \n",
      "_________________________________________________________________\n",
      "hidden_layer2 (Dense)        (None, 256)               131328    \n",
      "_________________________________________________________________\n",
      "batch_normalization_2 (Batch (None, 256)               1024      \n",
      "_________________________________________________________________\n",
      "hidden_layer3 (Dense)        (None, 128)               32896     \n",
      "_________________________________________________________________\n",
      "batch_normalization_3 (Batch (None, 128)               512       \n",
      "_________________________________________________________________\n",
      "output (Dense)               (None, 10)                1290      \n",
      "=================================================================\n",
      "Total params: 1,742,474\n",
      "Trainable params: 1,740,682\n",
      "Non-trainable params: 1,792\n",
      "_________________________________________________________________\n",
      "Train on 50000 samples, validate on 10000 samples\n",
      "Epoch 1/50\n",
      "50000/50000 [==============================] - 7s 140us/step - loss: 2.2164 - acc: 0.2688 - val_loss: 2.1356 - val_acc: 0.3150\n",
      "Epoch 2/50\n",
      "50000/50000 [==============================] - 4s 73us/step - loss: 1.7345 - acc: 0.3972 - val_loss: 1.7801 - val_acc: 0.3913\n",
      "Epoch 3/50\n",
      "50000/50000 [==============================] - 4s 71us/step - loss: 1.6090 - acc: 0.4395 - val_loss: 1.6801 - val_acc: 0.4155\n",
      "Epoch 4/50\n",
      "50000/50000 [==============================] - 4s 71us/step - loss: 1.5379 - acc: 0.4637 - val_loss: 1.6207 - val_acc: 0.4377\n",
      "Epoch 5/50\n",
      "50000/50000 [==============================] - 4s 71us/step - loss: 1.4837 - acc: 0.4824 - val_loss: 1.5905 - val_acc: 0.4428\n",
      "Epoch 6/50\n",
      "50000/50000 [==============================] - 4s 70us/step - loss: 1.4416 - acc: 0.4956 - val_loss: 1.5579 - val_acc: 0.4528\n",
      "Epoch 7/50\n",
      "50000/50000 [==============================] - 4s 71us/step - loss: 1.4007 - acc: 0.5113 - val_loss: 1.5453 - val_acc: 0.4614\n",
      "Epoch 8/50\n",
      "50000/50000 [==============================] - 4s 71us/step - loss: 1.3658 - acc: 0.5250 - val_loss: 1.5251 - val_acc: 0.4627\n",
      "Epoch 9/50\n",
      "50000/50000 [==============================] - 4s 71us/step - loss: 1.3342 - acc: 0.5366 - val_loss: 1.5137 - val_acc: 0.4678\n",
      "Epoch 10/50\n",
      "50000/50000 [==============================] - 4s 72us/step - loss: 1.3047 - acc: 0.5455 - val_loss: 1.4975 - val_acc: 0.4717\n",
      "Epoch 11/50\n",
      "50000/50000 [==============================] - 4s 72us/step - loss: 1.2775 - acc: 0.5571 - val_loss: 1.4942 - val_acc: 0.4762\n",
      "Epoch 12/50\n",
      "50000/50000 [==============================] - 4s 71us/step - loss: 1.2504 - acc: 0.5681 - val_loss: 1.4769 - val_acc: 0.4818\n",
      "Epoch 13/50\n",
      "50000/50000 [==============================] - 4s 73us/step - loss: 1.2243 - acc: 0.5773 - val_loss: 1.4731 - val_acc: 0.4830\n",
      "Epoch 14/50\n",
      "50000/50000 [==============================] - 4s 73us/step - loss: 1.2001 - acc: 0.5867 - val_loss: 1.4633 - val_acc: 0.4812\n",
      "Epoch 15/50\n",
      "50000/50000 [==============================] - 4s 73us/step - loss: 1.1749 - acc: 0.5950 - val_loss: 1.4717 - val_acc: 0.4805\n",
      "Epoch 16/50\n",
      "50000/50000 [==============================] - 4s 73us/step - loss: 1.1532 - acc: 0.6021 - val_loss: 1.4596 - val_acc: 0.4886\n",
      "Epoch 17/50\n",
      "50000/50000 [==============================] - 4s 75us/step - loss: 1.1286 - acc: 0.6121 - val_loss: 1.4491 - val_acc: 0.4921\n",
      "Epoch 18/50\n",
      "50000/50000 [==============================] - 4s 74us/step - loss: 1.1068 - acc: 0.6209 - val_loss: 1.4516 - val_acc: 0.4877\n",
      "Epoch 19/50\n",
      "50000/50000 [==============================] - 4s 73us/step - loss: 1.0838 - acc: 0.6306 - val_loss: 1.4483 - val_acc: 0.4919\n",
      "Epoch 20/50\n",
      "50000/50000 [==============================] - 4s 75us/step - loss: 1.0645 - acc: 0.6367 - val_loss: 1.4448 - val_acc: 0.4906\n",
      "Epoch 21/50\n",
      "50000/50000 [==============================] - 4s 75us/step - loss: 1.0412 - acc: 0.6458 - val_loss: 1.4482 - val_acc: 0.4917\n",
      "Epoch 22/50\n",
      "50000/50000 [==============================] - 3s 70us/step - loss: 1.0204 - acc: 0.6526 - val_loss: 1.4551 - val_acc: 0.4908\n",
      "Epoch 23/50\n",
      "50000/50000 [==============================] - 4s 70us/step - loss: 0.9982 - acc: 0.6627 - val_loss: 1.4426 - val_acc: 0.4957\n",
      "Epoch 24/50\n",
      "50000/50000 [==============================] - 3s 69us/step - loss: 0.9782 - acc: 0.6691 - val_loss: 1.4474 - val_acc: 0.4959\n",
      "Epoch 25/50\n",
      "50000/50000 [==============================] - 4s 70us/step - loss: 0.9587 - acc: 0.6779 - val_loss: 1.4687 - val_acc: 0.4939\n",
      "Epoch 26/50\n",
      "50000/50000 [==============================] - 3s 70us/step - loss: 0.9392 - acc: 0.6853 - val_loss: 1.4522 - val_acc: 0.4978\n",
      "Epoch 27/50\n",
      "50000/50000 [==============================] - 3s 69us/step - loss: 0.9180 - acc: 0.6928 - val_loss: 1.4593 - val_acc: 0.4922\n",
      "Epoch 28/50\n",
      "50000/50000 [==============================] - 4s 70us/step - loss: 0.8981 - acc: 0.7026 - val_loss: 1.4650 - val_acc: 0.4978\n",
      "Epoch 29/50\n",
      "50000/50000 [==============================] - 4s 71us/step - loss: 0.8787 - acc: 0.7097 - val_loss: 1.4600 - val_acc: 0.5005\n",
      "Epoch 30/50\n",
      "50000/50000 [==============================] - 3s 68us/step - loss: 0.8587 - acc: 0.7181 - val_loss: 1.4917 - val_acc: 0.4953\n",
      "Epoch 31/50\n",
      "50000/50000 [==============================] - 3s 69us/step - loss: 0.8396 - acc: 0.7257 - val_loss: 1.4754 - val_acc: 0.4965\n",
      "Epoch 32/50\n",
      "50000/50000 [==============================] - 3s 69us/step - loss: 0.8174 - acc: 0.7331 - val_loss: 1.4918 - val_acc: 0.4926\n",
      "Epoch 33/50\n",
      "50000/50000 [==============================] - 3s 68us/step - loss: 0.8003 - acc: 0.7406 - val_loss: 1.4853 - val_acc: 0.4998\n",
      "Epoch 34/50\n",
      "50000/50000 [==============================] - 3s 69us/step - loss: 0.7787 - acc: 0.7503 - val_loss: 1.4971 - val_acc: 0.4943\n",
      "Epoch 35/50\n",
      "50000/50000 [==============================] - 3s 69us/step - loss: 0.7604 - acc: 0.7578 - val_loss: 1.5081 - val_acc: 0.4989\n",
      "Epoch 36/50\n",
      "50000/50000 [==============================] - 4s 71us/step - loss: 0.7420 - acc: 0.7638 - val_loss: 1.4993 - val_acc: 0.4988\n",
      "Epoch 37/50\n",
      "50000/50000 [==============================] - 3s 70us/step - loss: 0.7224 - acc: 0.7707 - val_loss: 1.5250 - val_acc: 0.4968\n",
      "Epoch 38/50\n",
      "50000/50000 [==============================] - 4s 71us/step - loss: 0.7057 - acc: 0.7769 - val_loss: 1.5188 - val_acc: 0.4987\n",
      "Epoch 39/50\n",
      "50000/50000 [==============================] - 3s 68us/step - loss: 0.6849 - acc: 0.7858 - val_loss: 1.5471 - val_acc: 0.4923\n",
      "Epoch 40/50\n",
      "50000/50000 [==============================] - 4s 70us/step - loss: 0.6684 - acc: 0.7940 - val_loss: 1.5489 - val_acc: 0.4941\n",
      "Epoch 41/50\n",
      "50000/50000 [==============================] - 4s 72us/step - loss: 0.6487 - acc: 0.8009 - val_loss: 1.5656 - val_acc: 0.4939\n",
      "Epoch 42/50\n",
      "50000/50000 [==============================] - 4s 73us/step - loss: 0.6309 - acc: 0.8073 - val_loss: 1.5729 - val_acc: 0.4932\n",
      "Epoch 43/50\n",
      "50000/50000 [==============================] - 4s 72us/step - loss: 0.6140 - acc: 0.8137 - val_loss: 1.5936 - val_acc: 0.5001\n",
      "Epoch 44/50\n",
      "50000/50000 [==============================] - 4s 72us/step - loss: 0.5969 - acc: 0.8208 - val_loss: 1.6032 - val_acc: 0.4881\n",
      "Epoch 45/50\n",
      "50000/50000 [==============================] - 4s 72us/step - loss: 0.5807 - acc: 0.8271 - val_loss: 1.6096 - val_acc: 0.4903\n",
      "Epoch 46/50\n",
      "50000/50000 [==============================] - 4s 72us/step - loss: 0.5607 - acc: 0.8362 - val_loss: 1.6118 - val_acc: 0.4877\n",
      "Epoch 47/50\n",
      "50000/50000 [==============================] - 4s 70us/step - loss: 0.5441 - acc: 0.8417 - val_loss: 1.6187 - val_acc: 0.4905\n",
      "Epoch 48/50\n",
      "50000/50000 [==============================] - 3s 70us/step - loss: 0.5270 - acc: 0.8483 - val_loss: 1.6483 - val_acc: 0.4905\n",
      "Epoch 49/50\n",
      "50000/50000 [==============================] - 4s 71us/step - loss: 0.5113 - acc: 0.8541 - val_loss: 1.6502 - val_acc: 0.4928\n",
      "Epoch 50/50\n",
      "50000/50000 [==============================] - 4s 71us/step - loss: 0.4944 - acc: 0.8604 - val_loss: 1.6603 - val_acc: 0.4902\n"
     ]
    }
   ],
   "source": [
    "model = build_mlp(input_shape=x_train.shape[1:])\n",
    "model.summary()\n",
    "optimizer = keras.optimizers.SGD(lr=LEARNING_RATE, nesterov=True, momentum=MOMENTUM)\n",
    "model.compile(loss=\"categorical_crossentropy\", metrics=[\"accuracy\"], optimizer=optimizer)\n",
    "\n",
    "model.fit(x_train, y_train, \n",
    "          epochs=EPOCHS, \n",
    "          batch_size=BATCH_SIZE, \n",
    "          validation_data=(x_test, y_test), \n",
    "          shuffle=True)\n",
    "\n",
    "# Collect results\n",
    "train_loss = model.history.history[\"loss\"]\n",
    "valid_loss = model.history.history[\"val_loss\"]\n",
    "train_acc = model.history.history[\"acc\"]\n",
    "valid_acc = model.history.history[\"val_acc\"]"
   ]
  },
  {
   "cell_type": "code",
   "execution_count": 8,
   "metadata": {},
   "outputs": [
    {
     "data": {
      "image/png": "[encoded data removed]",
      "text/plain": [
       "<Figure size 432x288 with 1 Axes>"
      ]
     },
     "metadata": {
      "needs_background": "light"
     },
     "output_type": "display_data"
    },
    {
     "data": {
      "image/png": "[encoded data removed]",
      "text/plain": [
       "<Figure size 432x288 with 1 Axes>"
      ]
     },
     "metadata": {
      "needs_background": "light"
     },
     "output_type": "display_data"
    }
   ],
   "source": [
    "import matplotlib.pyplot as plt\n",
    "%matplotlib inline\n",
    "\n",
    "plt.plot(range(len(train_loss)), train_loss, label=\"train loss\")\n",
    "plt.plot(range(len(valid_loss)), valid_loss, label=\"valid loss\")\n",
    "plt.legend()\n",
    "plt.title(\"Loss\")\n",
    "plt.show()\n",
    "\n",
    "plt.plot(range(len(train_acc)), train_acc, label=\"train accuracy\")\n",
    "plt.plot(range(len(valid_acc)), valid_acc, label=\"valid accuracy\")\n",
    "plt.legend()\n",
    "plt.title(\"Accuracy\")\n",
    "plt.show()"
   ]
  },
  {
   "cell_type": "markdown",
   "metadata": {},
   "source": [
    "## Work\n",
    "1. 試比較有 BN 在 Batch_size = 2, 16, 32, 128, 256 下的差異\n",
    "2. 請嘗試將 BN 放在 Activation 之前，並比較訓練結果\n",
    "3. 請於 BN 放在 Input Layer 後，並比較結果"
   ]
  }
 ],
 "metadata": {
  "kernelspec": {
   "display_name": "Python 3",
   "language": "python",
   "name": "python3"
  },
  "language_info": {
   "codemirror_mode": {
    "name": "ipython",
    "version": 3
   },
   "file_extension": ".py",
   "mimetype": "text/x-python",
   "name": "python",
   "nbconvert_exporter": "python",
   "pygments_lexer": "ipython3",
   "version": "3.7.3"
  }
 },
 "nbformat": 4,
 "nbformat_minor": 2
}
