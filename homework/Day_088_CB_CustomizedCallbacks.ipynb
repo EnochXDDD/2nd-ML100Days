{
 "cells": [
  {
   "cell_type": "markdown",
   "metadata": {},
   "source": [
    "## 範例重點\n",
    "* 學習如何在 keras 中加入自定義的 callbacks\n",
    "* 知道 callback function 可以動作的時機"
   ]
  },
  {
   "cell_type": "code",
   "execution_count": 1,
   "metadata": {},
   "outputs": [
    {
     "name": "stderr",
     "output_type": "stream",
     "text": [
      "Using TensorFlow backend.\n"
     ]
    }
   ],
   "source": [
    "import os\n",
    "import numpy as np\n",
    "import tensorflow as tf\n",
    "import keras\n",
    "tf.logging.set_verbosity(tf.logging.ERROR)\n",
    "os.environ[\"CUDA_VISIBLE_DEVICES\"] = \"0\""
   ]
  },
  {
   "cell_type": "code",
   "execution_count": 2,
   "metadata": {},
   "outputs": [],
   "source": [
    "train, test = keras.datasets.cifar10.load_data()"
   ]
  },
  {
   "cell_type": "code",
   "execution_count": 3,
   "metadata": {},
   "outputs": [],
   "source": [
    "## 資料前處理\n",
    "def preproc_x(x, flatten=True):\n",
    "    x = x / 255.\n",
    "    if flatten:\n",
    "        x = x.reshape((len(x), -1))\n",
    "    return x\n",
    "\n",
    "def preproc_y(y, num_classes=10):\n",
    "    if y.shape[-1] == 1:\n",
    "        y = keras.utils.to_categorical(y, num_classes)\n",
    "    return y    "
   ]
  },
  {
   "cell_type": "code",
   "execution_count": 4,
   "metadata": {},
   "outputs": [],
   "source": [
    "x_train, y_train = train\n",
    "x_test, y_test = test\n",
    "\n",
    "# 資料前處理 - X 標準化\n",
    "x_train = preproc_x(x_train)\n",
    "x_test = preproc_x(x_test)\n",
    "\n",
    "# 資料前處理 -Y 轉成 onehot\n",
    "y_train = preproc_y(y_train)\n",
    "y_test = preproc_y(y_test)"
   ]
  },
  {
   "cell_type": "code",
   "execution_count": 5,
   "metadata": {},
   "outputs": [],
   "source": [
    "from keras.layers import BatchNormalization\n",
    "\n",
    "\"\"\"\n",
    "建立神經網路，並加入 BN layer\n",
    "\"\"\"\n",
    "def build_mlp(input_shape, output_units=10, num_neurons=[512, 256, 128]):\n",
    "    input_layer = keras.layers.Input(input_shape)\n",
    "    \n",
    "    for i, n_units in enumerate(num_neurons):\n",
    "        if i == 0:\n",
    "            x = keras.layers.Dense(units=n_units, \n",
    "                                   activation=\"relu\", \n",
    "                                   name=\"hidden_layer\"+str(i+1))(input_layer)\n",
    "            x = BatchNormalization()(x)\n",
    "        else:\n",
    "            x = keras.layers.Dense(units=n_units, \n",
    "                                   activation=\"relu\", \n",
    "                                   name=\"hidden_layer\"+str(i+1))(x)\n",
    "            x = BatchNormalization()(x)\n",
    "    \n",
    "    out = keras.layers.Dense(units=output_units, activation=\"softmax\", name=\"output\")(x)\n",
    "    \n",
    "    model = keras.models.Model(inputs=[input_layer], outputs=[out])\n",
    "    return model"
   ]
  },
  {
   "cell_type": "code",
   "execution_count": 6,
   "metadata": {},
   "outputs": [],
   "source": [
    "## 超參數設定\n",
    "LEARNING_RATE = 1e-3\n",
    "EPOCHS = 50\n",
    "BATCH_SIZE = 16384\n",
    "MOMENTUM = 0.95"
   ]
  },
  {
   "cell_type": "code",
   "execution_count": 7,
   "metadata": {},
   "outputs": [],
   "source": [
    "\"\"\"\n",
    "# 載入 Callbacks，撰寫一個 f1 score 的 callback function\n",
    "\"\"\"\n",
    "\n",
    "from keras.callbacks import Callback\n",
    "from sklearn.metrics import f1_score\n",
    "\n",
    "class f1sc(Callback):\n",
    "    def on_train_begin(self, epoch, logs = {}):\n",
    "        logs = logs or {}\n",
    "        record_items = [\"val_auc\", \"val_f1sc\", \"val_fp\", \"val_fn\", \"val_tp\", \"val_tn\"]\n",
    "        for i in record_items:\n",
    "            if i not in self.params['metrics']:\n",
    "                self.params['metrics'].append(i)\n",
    "    \n",
    "    def on_epoch_end(self, epoch, logs = {}, thres=0.5):\n",
    "        logs = logs or {}\n",
    "        y_true = self.validation_data[1].argmax(axis = 1)\n",
    "        y_pred = self.model.predict(self.validation_data[0])\n",
    "        y_pred = (y_pred[:, 1] >= thres) * 1\n",
    "        \n",
    "        logs[\"val_f1sc\"] = f1_score(y_true = y_true, y_pred = y_pred, average=\"weighted\")\n",
    "        \n",
    "log_f1sc = f1sc()"
   ]
  },
  {
   "cell_type": "code",
   "execution_count": 8,
   "metadata": {
    "scrolled": true
   },
   "outputs": [
    {
     "name": "stdout",
     "output_type": "stream",
     "text": [
      "_________________________________________________________________\n",
      "Layer (type)                 Output Shape              Param #   \n",
      "=================================================================\n",
      "input_1 (InputLayer)         (None, 3072)              0         \n",
      "_________________________________________________________________\n",
      "hidden_layer1 (Dense)        (None, 512)               1573376   \n",
      "_________________________________________________________________\n",
      "batch_normalization_1 (Batch (None, 512)               2048      \n",
      "_________________________________________________________________\n",
      "hidden_layer2 (Dense)        (None, 256)               131328    \n",
      "_________________________________________________________________\n",
      "batch_normalization_2 (Batch (None, 256)               1024      \n",
      "_________________________________________________________________\n",
      "hidden_layer3 (Dense)        (None, 128)               32896     \n",
      "_________________________________________________________________\n",
      "batch_normalization_3 (Batch (None, 128)               512       \n",
      "_________________________________________________________________\n",
      "output (Dense)               (None, 10)                1290      \n",
      "=================================================================\n",
      "Total params: 1,742,474\n",
      "Trainable params: 1,740,682\n",
      "Non-trainable params: 1,792\n",
      "_________________________________________________________________\n",
      "Train on 50000 samples, validate on 10000 samples\n",
      "Epoch 1/50\n",
      "50000/50000 [==============================] - 7s 131us/step - loss: 3.0051 - acc: 0.1028 - val_loss: 2.8341 - val_acc: 0.1413\n"
     ]
    },
    {
     "name": "stderr",
     "output_type": "stream",
     "text": [
      "C:\\Users\\Enoch\\Miniconda3\\envs\\QGPU\\lib\\site-packages\\sklearn\\metrics\\classification.py:1437: UndefinedMetricWarning: F-score is ill-defined and being set to 0.0 in labels with no predicted samples.\n",
      "  'precision', 'predicted', average, warn_for)\n"
     ]
    },
    {
     "name": "stdout",
     "output_type": "stream",
     "text": [
      "Epoch 2/50\n",
      "50000/50000 [==============================] - 3s 59us/step - loss: 2.6777 - acc: 0.1535 - val_loss: 2.9125 - val_acc: 0.1738\n",
      "Epoch 3/50\n",
      "50000/50000 [==============================] - 3s 55us/step - loss: 2.4219 - acc: 0.2111 - val_loss: 3.0203 - val_acc: 0.1846\n",
      "Epoch 4/50\n",
      "50000/50000 [==============================] - 3s 53us/step - loss: 2.2833 - acc: 0.2491 - val_loss: 2.9338 - val_acc: 0.1989\n",
      "Epoch 5/50\n",
      "50000/50000 [==============================] - 3s 55us/step - loss: 2.1851 - acc: 0.2735 - val_loss: 2.7120 - val_acc: 0.2195\n",
      "Epoch 6/50\n",
      "50000/50000 [==============================] - 3s 53us/step - loss: 2.1032 - acc: 0.2938 - val_loss: 2.5175 - val_acc: 0.2419\n",
      "Epoch 7/50\n",
      "50000/50000 [==============================] - 3s 54us/step - loss: 2.0394 - acc: 0.3107 - val_loss: 2.4046 - val_acc: 0.2609\n",
      "Epoch 8/50\n",
      "50000/50000 [==============================] - 3s 53us/step - loss: 1.9870 - acc: 0.3238 - val_loss: 2.3290 - val_acc: 0.2773\n",
      "Epoch 9/50\n",
      "50000/50000 [==============================] - 3s 53us/step - loss: 1.9432 - acc: 0.3338 - val_loss: 2.2567 - val_acc: 0.2933\n",
      "Epoch 10/50\n",
      "50000/50000 [==============================] - 3s 53us/step - loss: 1.9050 - acc: 0.3447 - val_loss: 2.1810 - val_acc: 0.3094\n",
      "Epoch 11/50\n",
      "50000/50000 [==============================] - 3s 55us/step - loss: 1.8714 - acc: 0.3549 - val_loss: 2.1030 - val_acc: 0.3230\n",
      "Epoch 12/50\n",
      "50000/50000 [==============================] - 3s 53us/step - loss: 1.8418 - acc: 0.3633 - val_loss: 2.0399 - val_acc: 0.3326\n",
      "Epoch 13/50\n",
      "50000/50000 [==============================] - 3s 62us/step - loss: 1.8154 - acc: 0.3705 - val_loss: 1.9960 - val_acc: 0.3425\n",
      "Epoch 14/50\n",
      "50000/50000 [==============================] - 3s 61us/step - loss: 1.7927 - acc: 0.3769 - val_loss: 1.9638 - val_acc: 0.3503\n",
      "Epoch 15/50\n",
      "50000/50000 [==============================] - 3s 54us/step - loss: 1.7726 - acc: 0.3830 - val_loss: 1.9333 - val_acc: 0.3535\n",
      "Epoch 16/50\n",
      "50000/50000 [==============================] - 3s 63us/step - loss: 1.7541 - acc: 0.3892 - val_loss: 1.9071 - val_acc: 0.3604\n",
      "Epoch 17/50\n",
      "50000/50000 [==============================] - 3s 54us/step - loss: 1.7372 - acc: 0.3949 - val_loss: 1.8899 - val_acc: 0.3650\n",
      "Epoch 18/50\n",
      "50000/50000 [==============================] - 3s 53us/step - loss: 1.7211 - acc: 0.3995 - val_loss: 1.8770 - val_acc: 0.3660\n",
      "Epoch 19/50\n",
      "50000/50000 [==============================] - 3s 58us/step - loss: 1.7059 - acc: 0.4029 - val_loss: 1.8662 - val_acc: 0.3690\n",
      "Epoch 20/50\n",
      "50000/50000 [==============================] - 3s 57us/step - loss: 1.6924 - acc: 0.4072 - val_loss: 1.8565 - val_acc: 0.3711\n",
      "Epoch 21/50\n",
      "50000/50000 [==============================] - 3s 53us/step - loss: 1.6799 - acc: 0.4118 - val_loss: 1.8412 - val_acc: 0.3780\n",
      "Epoch 22/50\n",
      "50000/50000 [==============================] - 3s 54us/step - loss: 1.6684 - acc: 0.4166 - val_loss: 1.8198 - val_acc: 0.3839\n",
      "Epoch 23/50\n",
      "50000/50000 [==============================] - 3s 52us/step - loss: 1.6572 - acc: 0.4210 - val_loss: 1.7973 - val_acc: 0.3849\n",
      "Epoch 24/50\n",
      "50000/50000 [==============================] - 3s 55us/step - loss: 1.6463 - acc: 0.4240 - val_loss: 1.7774 - val_acc: 0.3916\n",
      "Epoch 25/50\n",
      "50000/50000 [==============================] - 3s 54us/step - loss: 1.6366 - acc: 0.4285 - val_loss: 1.7636 - val_acc: 0.3961\n",
      "Epoch 26/50\n",
      "50000/50000 [==============================] - 3s 54us/step - loss: 1.6268 - acc: 0.4316 - val_loss: 1.7534 - val_acc: 0.3967\n",
      "Epoch 27/50\n",
      "50000/50000 [==============================] - 3s 55us/step - loss: 1.6178 - acc: 0.4347 - val_loss: 1.7448 - val_acc: 0.3999\n",
      "Epoch 28/50\n",
      "50000/50000 [==============================] - 3s 54us/step - loss: 1.6094 - acc: 0.4372 - val_loss: 1.7386 - val_acc: 0.4028\n",
      "Epoch 29/50\n",
      "50000/50000 [==============================] - 3s 54us/step - loss: 1.6013 - acc: 0.4411 - val_loss: 1.7323 - val_acc: 0.4017\n",
      "Epoch 30/50\n",
      "50000/50000 [==============================] - 3s 53us/step - loss: 1.5930 - acc: 0.4440 - val_loss: 1.7261 - val_acc: 0.4035\n",
      "Epoch 31/50\n",
      "50000/50000 [==============================] - 3s 57us/step - loss: 1.5853 - acc: 0.4467 - val_loss: 1.7181 - val_acc: 0.4030\n",
      "Epoch 32/50\n",
      "50000/50000 [==============================] - 3s 53us/step - loss: 1.5783 - acc: 0.4490 - val_loss: 1.7089 - val_acc: 0.4037\n",
      "Epoch 33/50\n",
      "50000/50000 [==============================] - 3s 53us/step - loss: 1.5711 - acc: 0.4521 - val_loss: 1.7006 - val_acc: 0.4053\n",
      "Epoch 34/50\n",
      "50000/50000 [==============================] - 3s 54us/step - loss: 1.5638 - acc: 0.4547 - val_loss: 1.6950 - val_acc: 0.4081\n",
      "Epoch 35/50\n",
      "50000/50000 [==============================] - 3s 52us/step - loss: 1.5569 - acc: 0.4569 - val_loss: 1.6912 - val_acc: 0.4106\n",
      "Epoch 36/50\n",
      "50000/50000 [==============================] - 3s 53us/step - loss: 1.5505 - acc: 0.4604 - val_loss: 1.6864 - val_acc: 0.4094\n",
      "Epoch 37/50\n",
      "50000/50000 [==============================] - 3s 57us/step - loss: 1.5444 - acc: 0.4634 - val_loss: 1.6818 - val_acc: 0.4105\n",
      "Epoch 38/50\n",
      "50000/50000 [==============================] - 3s 54us/step - loss: 1.5378 - acc: 0.4656 - val_loss: 1.6776 - val_acc: 0.4125\n",
      "Epoch 39/50\n",
      "50000/50000 [==============================] - 3s 54us/step - loss: 1.5317 - acc: 0.4670 - val_loss: 1.6714 - val_acc: 0.4154\n",
      "Epoch 40/50\n",
      "50000/50000 [==============================] - 3s 57us/step - loss: 1.5257 - acc: 0.4692 - val_loss: 1.6644 - val_acc: 0.4164\n",
      "Epoch 41/50\n",
      "50000/50000 [==============================] - 3s 56us/step - loss: 1.5199 - acc: 0.4708 - val_loss: 1.6582 - val_acc: 0.4189\n",
      "Epoch 42/50\n",
      "50000/50000 [==============================] - 3s 54us/step - loss: 1.5148 - acc: 0.4728 - val_loss: 1.6537 - val_acc: 0.4202\n",
      "Epoch 43/50\n",
      "50000/50000 [==============================] - 3s 54us/step - loss: 1.5101 - acc: 0.4752 - val_loss: 1.6502 - val_acc: 0.4203\n",
      "Epoch 44/50\n",
      "50000/50000 [==============================] - 3s 53us/step - loss: 1.5040 - acc: 0.4777 - val_loss: 1.6453 - val_acc: 0.4210\n",
      "Epoch 45/50\n",
      "50000/50000 [==============================] - 3s 54us/step - loss: 1.4983 - acc: 0.4794 - val_loss: 1.6419 - val_acc: 0.4233\n",
      "Epoch 46/50\n",
      "50000/50000 [==============================] - 3s 54us/step - loss: 1.4937 - acc: 0.4810 - val_loss: 1.6385 - val_acc: 0.4236\n",
      "Epoch 47/50\n",
      "50000/50000 [==============================] - 3s 52us/step - loss: 1.4891 - acc: 0.4817 - val_loss: 1.6336 - val_acc: 0.4235\n",
      "Epoch 48/50\n",
      "50000/50000 [==============================] - 3s 55us/step - loss: 1.4842 - acc: 0.4825 - val_loss: 1.6280 - val_acc: 0.4272\n",
      "Epoch 49/50\n",
      "50000/50000 [==============================] - 3s 57us/step - loss: 1.4790 - acc: 0.4844 - val_loss: 1.6251 - val_acc: 0.4311\n",
      "Epoch 50/50\n",
      "50000/50000 [==============================] - 3s 55us/step - loss: 1.4738 - acc: 0.4865 - val_loss: 1.6237 - val_acc: 0.4315\n"
     ]
    }
   ],
   "source": [
    "model = build_mlp(input_shape=x_train.shape[1:])\n",
    "model.summary()\n",
    "optimizer = keras.optimizers.SGD(lr=LEARNING_RATE, nesterov=True, momentum=MOMENTUM)\n",
    "model.compile(loss=\"categorical_crossentropy\", metrics=[\"accuracy\"], optimizer=optimizer)\n",
    "\n",
    "model.fit(x_train, y_train, \n",
    "          epochs=EPOCHS, \n",
    "          batch_size=BATCH_SIZE, \n",
    "          validation_data=(x_test, y_test), \n",
    "          shuffle=True,\n",
    "          callbacks=[log_f1sc]\n",
    "         )\n",
    "\n",
    "# Collect results\n",
    "train_loss = model.history.history[\"loss\"]\n",
    "valid_loss = model.history.history[\"val_loss\"]\n",
    "train_acc = model.history.history[\"acc\"]\n",
    "valid_acc = model.history.history[\"val_acc\"]\n",
    "\n",
    "# 在訓練後，將 f1sc 紀錄調出\n",
    "valid_f1sc = model.history.history['val_f1sc']"
   ]
  },
  {
   "cell_type": "code",
   "execution_count": 9,
   "metadata": {},
   "outputs": [
    {
     "data": {
      "image/png": "[encoded data removed]",
      "text/plain": [
       "<Figure size 432x288 with 1 Axes>"
      ]
     },
     "metadata": {
      "needs_background": "light"
     },
     "output_type": "display_data"
    },
    {
     "data": {
      "image/png": "[encoded data removed]",
      "text/plain": [
       "<Figure size 432x288 with 1 Axes>"
      ]
     },
     "metadata": {
      "needs_background": "light"
     },
     "output_type": "display_data"
    },
    {
     "data": {
      "image/png": "[encoded data removed]",
      "text/plain": [
       "<Figure size 432x288 with 1 Axes>"
      ]
     },
     "metadata": {
      "needs_background": "light"
     },
     "output_type": "display_data"
    }
   ],
   "source": [
    "import matplotlib.pyplot as plt\n",
    "%matplotlib inline\n",
    "\n",
    "plt.plot(range(len(train_loss)), train_loss, label=\"train loss\")\n",
    "plt.plot(range(len(valid_loss)), valid_loss, label=\"valid loss\")\n",
    "plt.legend()\n",
    "plt.title(\"Loss\")\n",
    "plt.show()\n",
    "\n",
    "plt.plot(range(len(train_acc)), train_acc, label=\"train accuracy\")\n",
    "plt.plot(range(len(valid_acc)), valid_acc, label=\"valid accuracy\")\n",
    "plt.legend()\n",
    "plt.title(\"Accuracy\")\n",
    "plt.show()\n",
    "\n",
    "plt.plot(range(len(valid_f1sc)), valid_f1sc, label=\"valid f1-score\")\n",
    "plt.legend()\n",
    "plt.title(\"F1-score\")\n",
    "plt.show()\n"
   ]
  },
  {
   "cell_type": "markdown",
   "metadata": {},
   "source": [
    "## Work\n",
    "1. 請嘗試寫一個 callback 用來記錄各類別在訓練過程中，對驗證集的 True Positive 與 True Negative"
   ]
  }
 ],
 "metadata": {
  "kernelspec": {
   "display_name": "Python 3",
   "language": "python",
   "name": "python3"
  },
  "language_info": {
   "codemirror_mode": {
    "name": "ipython",
    "version": 3
   },
   "file_extension": ".py",
   "mimetype": "text/x-python",
   "name": "python",
   "nbconvert_exporter": "python",
   "pygments_lexer": "ipython3",
   "version": "3.7.3"
  }
 },
 "nbformat": 4,
 "nbformat_minor": 2
}
